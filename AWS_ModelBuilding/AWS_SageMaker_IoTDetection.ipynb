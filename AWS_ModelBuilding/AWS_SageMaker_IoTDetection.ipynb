{
 "cells": [
  {
   "cell_type": "markdown",
   "metadata": {},
   "source": [
    "The goal of this file is to build IoT detection model, that is to find out whether a device is an IoT device.\n",
    "\n",
    "\n",
    "The process of building IoT detection model is devided into 5 main parts, including installing needed resources, preparing training data, creating machine learning models, creating endpoint and testing models."
   ]
  },
  {
   "cell_type": "markdown",
   "metadata": {},
   "source": [
    "# 1. Install Package Needed\n",
    "* boto3 and sagemaker are packages that allow notebook to interact with various aws services"
   ]
  },
  {
   "cell_type": "code",
   "execution_count": 1,
   "metadata": {
    "collapsed": true
   },
   "outputs": [],
   "source": [
    "import boto3\n",
    "import numpy as np\n",
    "import pandas as pd\n",
    "from sagemaker import get_execution_role"
   ]
  },
  {
   "cell_type": "code",
   "execution_count": 2,
   "metadata": {
    "collapsed": true
   },
   "outputs": [],
   "source": [
    "#set up region and bucket\n",
    "role = get_execution_role()\n",
    "region = boto3.Session().region_name\n",
    "bucket='sagemaker-model-ml'"
   ]
  },
  {
   "cell_type": "markdown",
   "metadata": {},
   "source": [
    "# 2. Prepare Training Data\n",
    "## 2.1 Read Training Data from S3\n",
    "\n",
    "* Note:the AUGandOCT.csv file stored in the S3 bucket contains the training data that is already 'cleaned'. But there is still some missing values in it. Therefore, filling in missing value is required before building the prediction model.\n"
   ]
  },
  {
   "cell_type": "code",
   "execution_count": 3,
   "metadata": {
    "collapsed": true
   },
   "outputs": [],
   "source": [
    "#download dataset from S3\n",
    "s3 = boto3.resource('s3')\n",
    "s3.Bucket(bucket).download_file('AUGandOCT.csv','AUGandOCT.csv')\n",
    "\n",
    "#read training data and fill in the missing value\n",
    "IP = pd.read_csv('AUGandOCT.csv')\n",
    "IP[['uri_num','query_num','CN','OU','O']] = \\\n",
    "IP[['uri_num','query_num','CN','OU','O']].fillna(0)\n",
    "\n",
    "#define the hamming distance to the baseline SAX value\n",
    "def hamdist(str1, str2):        \n",
    "        diffs = 0\n",
    "        for ch1, ch2 in zip(str1, str2):\n",
    "                if ch1 != ch2:\n",
    "                        diffs += 1\n",
    "        return diffs\n",
    "IP['SAX_resp_ham']=IP.SAX_resp_h.apply(lambda x: hamdist(x,'bbbbbbbbbbbbbbbbbbbbbbbb'))"
   ]
  },
  {
   "cell_type": "markdown",
   "metadata": {},
   "source": [
    "## 2.2 Traning Data Preparation\n",
    "* This process involves two steps:\n",
    "    * select feature based on feature selection results\n",
    "    * encode text value into numerical representation"
   ]
  },
  {
   "cell_type": "code",
   "execution_count": 4,
   "metadata": {
    "collapsed": true
   },
   "outputs": [],
   "source": [
    "from sklearn.preprocessing import LabelEncoder, StandardScaler\n",
    "from sklearn.model_selection import train_test_split\n",
    "from sklearn.metrics import confusion_matrix\n",
    "from sklearn.ensemble import RandomForestClassifier"
   ]
  },
  {
   "cell_type": "code",
   "execution_count": 5,
   "metadata": {
    "collapsed": true
   },
   "outputs": [],
   "source": [
    "def encode(x):\n",
    "    le=LabelEncoder()\n",
    "    le.fit(x)\n",
    "    x=le.transform(x)\n",
    "    return x\n",
    "#for training, we need to drop mac address and timestamp, then select the feature we want\n",
    "train = IP.drop(['mac','ts'],1)\n",
    "Feature = ['id_resp_h_num','proto_num','conn_state_num','history_num',\n",
    "           'orig_bt_sum','resp_bt_sum','orig_bt_std','resp_bt_std',\n",
    "           'uri_num','query_num','up_down','SAX_resp_ham','O','OU','IOT','Device']\n",
    "train = train[Feature]"
   ]
  },
  {
   "cell_type": "code",
   "execution_count": 6,
   "metadata": {
    "collapsed": true
   },
   "outputs": [],
   "source": [
    "#we dont have to exclude the device, so ex = '' null. this chunck of code is remaining from the past when we first build\n",
    "#our model. for production purpose, just leave it ex=''\n",
    "ex=''\n",
    "X = train.drop(['IOT','Device'],1)[train.Device != ex]\n",
    "yt = encode(train['IOT'][train.Device != ex])\n",
    "X_train , X_test, yt_train, yt_test = train_test_split(X, yt, test_size = 0.2)"
   ]
  },
  {
   "cell_type": "markdown",
   "metadata": {},
   "source": [
    "# 3. Create and Save Models\n",
    "## 3.1 Build and Find Best Models\n"
   ]
  },
  {
   "cell_type": "code",
   "execution_count": 8,
   "metadata": {
    "collapsed": true
   },
   "outputs": [],
   "source": [
    "# This line of code below allows notebook to install xgboost package\n",
    "# run this line of code everytime a new notebook instance is open\n",
    "\n",
    "# !conda install -y -c conda-forge xgboost"
   ]
  },
  {
   "cell_type": "code",
   "execution_count": 9,
   "metadata": {},
   "outputs": [
    {
     "name": "stderr",
     "output_type": "stream",
     "text": [
      "/home/ec2-user/anaconda3/envs/python3/lib/python3.6/site-packages/sklearn/cross_validation.py:41: DeprecationWarning: This module was deprecated in version 0.18 in favor of the model_selection module into which all the refactored classes and functions are moved. Also note that the interface of the new CV iterators are different from that of this module. This module will be removed in 0.20.\n",
      "  \"This module will be removed in 0.20.\", DeprecationWarning)\n",
      "/home/ec2-user/anaconda3/envs/python3/lib/python3.6/site-packages/sklearn/grid_search.py:42: DeprecationWarning: This module was deprecated in version 0.18 in favor of the model_selection module into which all the refactored classes and functions are moved. This module will be removed in 0.20.\n",
      "  DeprecationWarning)\n"
     ]
    }
   ],
   "source": [
    "import xgboost as xgb\n",
    "from sklearn.grid_search import GridSearchCV"
   ]
  },
  {
   "cell_type": "code",
   "execution_count": 10,
   "metadata": {},
   "outputs": [
    {
     "name": "stdout",
     "output_type": "stream",
     "text": [
      "Fitting 3 folds for each of 36 candidates, totalling 108 fits\n",
      "[CV] colsample_bytree=0.7, learning_rate=0.05, max_depth=6, n_estimators=1000, objective=binary:logistic, silent=1, subsample=0.5 \n",
      "[CV]  colsample_bytree=0.7, learning_rate=0.05, max_depth=6, n_estimators=1000, objective=binary:logistic, silent=1, subsample=0.5 -   0.2s\n",
      "[CV] colsample_bytree=0.7, learning_rate=0.05, max_depth=6, n_estimators=1000, objective=binary:logistic, silent=1, subsample=0.5 \n"
     ]
    },
    {
     "name": "stderr",
     "output_type": "stream",
     "text": [
      "[Parallel(n_jobs=1)]: Done   1 out of   1 | elapsed:    0.2s remaining:    0.0s\n"
     ]
    },
    {
     "name": "stdout",
     "output_type": "stream",
     "text": [
      "[CV]  colsample_bytree=0.7, learning_rate=0.05, max_depth=6, n_estimators=1000, objective=binary:logistic, silent=1, subsample=0.5 -   0.2s\n",
      "[CV] colsample_bytree=0.7, learning_rate=0.05, max_depth=6, n_estimators=1000, objective=binary:logistic, silent=1, subsample=0.5 \n",
      "[CV]  colsample_bytree=0.7, learning_rate=0.05, max_depth=6, n_estimators=1000, objective=binary:logistic, silent=1, subsample=0.5 -   0.2s\n",
      "[CV] colsample_bytree=0.7, learning_rate=0.05, max_depth=6, n_estimators=1000, objective=binary:logistic, silent=1, subsample=0.8 \n",
      "[CV]  colsample_bytree=0.7, learning_rate=0.05, max_depth=6, n_estimators=1000, objective=binary:logistic, silent=1, subsample=0.8 -   0.2s\n",
      "[CV] colsample_bytree=0.7, learning_rate=0.05, max_depth=6, n_estimators=1000, objective=binary:logistic, silent=1, subsample=0.8 \n",
      "[CV]  colsample_bytree=0.7, learning_rate=0.05, max_depth=6, n_estimators=1000, objective=binary:logistic, silent=1, subsample=0.8 -   0.2s\n",
      "[CV] colsample_bytree=0.7, learning_rate=0.05, max_depth=6, n_estimators=1000, objective=binary:logistic, silent=1, subsample=0.8 \n",
      "[CV]  colsample_bytree=0.7, learning_rate=0.05, max_depth=6, n_estimators=1000, objective=binary:logistic, silent=1, subsample=0.8 -   0.2s\n",
      "[CV] colsample_bytree=0.7, learning_rate=0.05, max_depth=7, n_estimators=1000, objective=binary:logistic, silent=1, subsample=0.5 \n",
      "[CV]  colsample_bytree=0.7, learning_rate=0.05, max_depth=7, n_estimators=1000, objective=binary:logistic, silent=1, subsample=0.5 -   0.2s\n",
      "[CV] colsample_bytree=0.7, learning_rate=0.05, max_depth=7, n_estimators=1000, objective=binary:logistic, silent=1, subsample=0.5 \n",
      "[CV]  colsample_bytree=0.7, learning_rate=0.05, max_depth=7, n_estimators=1000, objective=binary:logistic, silent=1, subsample=0.5 -   0.2s\n",
      "[CV] colsample_bytree=0.7, learning_rate=0.05, max_depth=7, n_estimators=1000, objective=binary:logistic, silent=1, subsample=0.5 \n",
      "[CV]  colsample_bytree=0.7, learning_rate=0.05, max_depth=7, n_estimators=1000, objective=binary:logistic, silent=1, subsample=0.5 -   0.2s\n",
      "[CV] colsample_bytree=0.7, learning_rate=0.05, max_depth=7, n_estimators=1000, objective=binary:logistic, silent=1, subsample=0.8 \n",
      "[CV]  colsample_bytree=0.7, learning_rate=0.05, max_depth=7, n_estimators=1000, objective=binary:logistic, silent=1, subsample=0.8 -   0.2s\n",
      "[CV] colsample_bytree=0.7, learning_rate=0.05, max_depth=7, n_estimators=1000, objective=binary:logistic, silent=1, subsample=0.8 \n",
      "[CV]  colsample_bytree=0.7, learning_rate=0.05, max_depth=7, n_estimators=1000, objective=binary:logistic, silent=1, subsample=0.8 -   0.2s\n",
      "[CV] colsample_bytree=0.7, learning_rate=0.05, max_depth=7, n_estimators=1000, objective=binary:logistic, silent=1, subsample=0.8 \n",
      "[CV]  colsample_bytree=0.7, learning_rate=0.05, max_depth=7, n_estimators=1000, objective=binary:logistic, silent=1, subsample=0.8 -   0.2s\n",
      "[CV] colsample_bytree=0.7, learning_rate=0.05, max_depth=8, n_estimators=1000, objective=binary:logistic, silent=1, subsample=0.5 \n",
      "[CV]  colsample_bytree=0.7, learning_rate=0.05, max_depth=8, n_estimators=1000, objective=binary:logistic, silent=1, subsample=0.5 -   0.2s\n",
      "[CV] colsample_bytree=0.7, learning_rate=0.05, max_depth=8, n_estimators=1000, objective=binary:logistic, silent=1, subsample=0.5 \n",
      "[CV]  colsample_bytree=0.7, learning_rate=0.05, max_depth=8, n_estimators=1000, objective=binary:logistic, silent=1, subsample=0.5 -   0.2s\n",
      "[CV] colsample_bytree=0.7, learning_rate=0.05, max_depth=8, n_estimators=1000, objective=binary:logistic, silent=1, subsample=0.5 \n",
      "[CV]  colsample_bytree=0.7, learning_rate=0.05, max_depth=8, n_estimators=1000, objective=binary:logistic, silent=1, subsample=0.5 -   0.2s\n",
      "[CV] colsample_bytree=0.7, learning_rate=0.05, max_depth=8, n_estimators=1000, objective=binary:logistic, silent=1, subsample=0.8 \n",
      "[CV]  colsample_bytree=0.7, learning_rate=0.05, max_depth=8, n_estimators=1000, objective=binary:logistic, silent=1, subsample=0.8 -   0.2s\n",
      "[CV] colsample_bytree=0.7, learning_rate=0.05, max_depth=8, n_estimators=1000, objective=binary:logistic, silent=1, subsample=0.8 \n",
      "[CV]  colsample_bytree=0.7, learning_rate=0.05, max_depth=8, n_estimators=1000, objective=binary:logistic, silent=1, subsample=0.8 -   0.2s\n",
      "[CV] colsample_bytree=0.7, learning_rate=0.05, max_depth=8, n_estimators=1000, objective=binary:logistic, silent=1, subsample=0.8 \n",
      "[CV]  colsample_bytree=0.7, learning_rate=0.05, max_depth=8, n_estimators=1000, objective=binary:logistic, silent=1, subsample=0.8 -   0.2s\n",
      "[CV] colsample_bytree=0.7, learning_rate=0.1, max_depth=6, n_estimators=1000, objective=binary:logistic, silent=1, subsample=0.5 \n",
      "[CV]  colsample_bytree=0.7, learning_rate=0.1, max_depth=6, n_estimators=1000, objective=binary:logistic, silent=1, subsample=0.5 -   0.2s\n",
      "[CV] colsample_bytree=0.7, learning_rate=0.1, max_depth=6, n_estimators=1000, objective=binary:logistic, silent=1, subsample=0.5 \n",
      "[CV]  colsample_bytree=0.7, learning_rate=0.1, max_depth=6, n_estimators=1000, objective=binary:logistic, silent=1, subsample=0.5 -   0.2s\n",
      "[CV] colsample_bytree=0.7, learning_rate=0.1, max_depth=6, n_estimators=1000, objective=binary:logistic, silent=1, subsample=0.5 \n",
      "[CV]  colsample_bytree=0.7, learning_rate=0.1, max_depth=6, n_estimators=1000, objective=binary:logistic, silent=1, subsample=0.5 -   0.2s\n",
      "[CV] colsample_bytree=0.7, learning_rate=0.1, max_depth=6, n_estimators=1000, objective=binary:logistic, silent=1, subsample=0.8 \n",
      "[CV]  colsample_bytree=0.7, learning_rate=0.1, max_depth=6, n_estimators=1000, objective=binary:logistic, silent=1, subsample=0.8 -   0.2s\n",
      "[CV] colsample_bytree=0.7, learning_rate=0.1, max_depth=6, n_estimators=1000, objective=binary:logistic, silent=1, subsample=0.8 \n",
      "[CV]  colsample_bytree=0.7, learning_rate=0.1, max_depth=6, n_estimators=1000, objective=binary:logistic, silent=1, subsample=0.8 -   0.2s\n",
      "[CV] colsample_bytree=0.7, learning_rate=0.1, max_depth=6, n_estimators=1000, objective=binary:logistic, silent=1, subsample=0.8 \n",
      "[CV]  colsample_bytree=0.7, learning_rate=0.1, max_depth=6, n_estimators=1000, objective=binary:logistic, silent=1, subsample=0.8 -   0.2s\n",
      "[CV] colsample_bytree=0.7, learning_rate=0.1, max_depth=7, n_estimators=1000, objective=binary:logistic, silent=1, subsample=0.5 \n",
      "[CV]  colsample_bytree=0.7, learning_rate=0.1, max_depth=7, n_estimators=1000, objective=binary:logistic, silent=1, subsample=0.5 -   0.2s\n",
      "[CV] colsample_bytree=0.7, learning_rate=0.1, max_depth=7, n_estimators=1000, objective=binary:logistic, silent=1, subsample=0.5 \n",
      "[CV]  colsample_bytree=0.7, learning_rate=0.1, max_depth=7, n_estimators=1000, objective=binary:logistic, silent=1, subsample=0.5 -   0.2s\n",
      "[CV] colsample_bytree=0.7, learning_rate=0.1, max_depth=7, n_estimators=1000, objective=binary:logistic, silent=1, subsample=0.5 \n",
      "[CV]  colsample_bytree=0.7, learning_rate=0.1, max_depth=7, n_estimators=1000, objective=binary:logistic, silent=1, subsample=0.5 -   0.2s\n",
      "[CV] colsample_bytree=0.7, learning_rate=0.1, max_depth=7, n_estimators=1000, objective=binary:logistic, silent=1, subsample=0.8 \n",
      "[CV]  colsample_bytree=0.7, learning_rate=0.1, max_depth=7, n_estimators=1000, objective=binary:logistic, silent=1, subsample=0.8 -   0.2s\n",
      "[CV] colsample_bytree=0.7, learning_rate=0.1, max_depth=7, n_estimators=1000, objective=binary:logistic, silent=1, subsample=0.8 \n",
      "[CV]  colsample_bytree=0.7, learning_rate=0.1, max_depth=7, n_estimators=1000, objective=binary:logistic, silent=1, subsample=0.8 -   0.2s\n",
      "[CV] colsample_bytree=0.7, learning_rate=0.1, max_depth=7, n_estimators=1000, objective=binary:logistic, silent=1, subsample=0.8 \n",
      "[CV]  colsample_bytree=0.7, learning_rate=0.1, max_depth=7, n_estimators=1000, objective=binary:logistic, silent=1, subsample=0.8 -   0.2s\n",
      "[CV] colsample_bytree=0.7, learning_rate=0.1, max_depth=8, n_estimators=1000, objective=binary:logistic, silent=1, subsample=0.5 \n",
      "[CV]  colsample_bytree=0.7, learning_rate=0.1, max_depth=8, n_estimators=1000, objective=binary:logistic, silent=1, subsample=0.5 -   0.2s\n",
      "[CV] colsample_bytree=0.7, learning_rate=0.1, max_depth=8, n_estimators=1000, objective=binary:logistic, silent=1, subsample=0.5 \n",
      "[CV]  colsample_bytree=0.7, learning_rate=0.1, max_depth=8, n_estimators=1000, objective=binary:logistic, silent=1, subsample=0.5 -   0.2s\n",
      "[CV] colsample_bytree=0.7, learning_rate=0.1, max_depth=8, n_estimators=1000, objective=binary:logistic, silent=1, subsample=0.5 \n",
      "[CV]  colsample_bytree=0.7, learning_rate=0.1, max_depth=8, n_estimators=1000, objective=binary:logistic, silent=1, subsample=0.5 -   0.2s\n",
      "[CV] colsample_bytree=0.7, learning_rate=0.1, max_depth=8, n_estimators=1000, objective=binary:logistic, silent=1, subsample=0.8 \n"
     ]
    },
    {
     "name": "stdout",
     "output_type": "stream",
     "text": [
      "[CV]  colsample_bytree=0.7, learning_rate=0.1, max_depth=8, n_estimators=1000, objective=binary:logistic, silent=1, subsample=0.8 -   0.2s\n",
      "[CV] colsample_bytree=0.7, learning_rate=0.1, max_depth=8, n_estimators=1000, objective=binary:logistic, silent=1, subsample=0.8 \n",
      "[CV]  colsample_bytree=0.7, learning_rate=0.1, max_depth=8, n_estimators=1000, objective=binary:logistic, silent=1, subsample=0.8 -   0.2s\n",
      "[CV] colsample_bytree=0.7, learning_rate=0.1, max_depth=8, n_estimators=1000, objective=binary:logistic, silent=1, subsample=0.8 \n",
      "[CV]  colsample_bytree=0.7, learning_rate=0.1, max_depth=8, n_estimators=1000, objective=binary:logistic, silent=1, subsample=0.8 -   0.2s\n",
      "[CV] colsample_bytree=0.7, learning_rate=0.2, max_depth=6, n_estimators=1000, objective=binary:logistic, silent=1, subsample=0.5 \n",
      "[CV]  colsample_bytree=0.7, learning_rate=0.2, max_depth=6, n_estimators=1000, objective=binary:logistic, silent=1, subsample=0.5 -   0.1s\n",
      "[CV] colsample_bytree=0.7, learning_rate=0.2, max_depth=6, n_estimators=1000, objective=binary:logistic, silent=1, subsample=0.5 \n",
      "[CV]  colsample_bytree=0.7, learning_rate=0.2, max_depth=6, n_estimators=1000, objective=binary:logistic, silent=1, subsample=0.5 -   0.1s\n",
      "[CV] colsample_bytree=0.7, learning_rate=0.2, max_depth=6, n_estimators=1000, objective=binary:logistic, silent=1, subsample=0.5 \n",
      "[CV]  colsample_bytree=0.7, learning_rate=0.2, max_depth=6, n_estimators=1000, objective=binary:logistic, silent=1, subsample=0.5 -   0.1s\n",
      "[CV] colsample_bytree=0.7, learning_rate=0.2, max_depth=6, n_estimators=1000, objective=binary:logistic, silent=1, subsample=0.8 \n",
      "[CV]  colsample_bytree=0.7, learning_rate=0.2, max_depth=6, n_estimators=1000, objective=binary:logistic, silent=1, subsample=0.8 -   0.1s\n",
      "[CV] colsample_bytree=0.7, learning_rate=0.2, max_depth=6, n_estimators=1000, objective=binary:logistic, silent=1, subsample=0.8 \n",
      "[CV]  colsample_bytree=0.7, learning_rate=0.2, max_depth=6, n_estimators=1000, objective=binary:logistic, silent=1, subsample=0.8 -   0.1s\n",
      "[CV] colsample_bytree=0.7, learning_rate=0.2, max_depth=6, n_estimators=1000, objective=binary:logistic, silent=1, subsample=0.8 \n",
      "[CV]  colsample_bytree=0.7, learning_rate=0.2, max_depth=6, n_estimators=1000, objective=binary:logistic, silent=1, subsample=0.8 -   0.1s\n",
      "[CV] colsample_bytree=0.7, learning_rate=0.2, max_depth=7, n_estimators=1000, objective=binary:logistic, silent=1, subsample=0.5 \n",
      "[CV]  colsample_bytree=0.7, learning_rate=0.2, max_depth=7, n_estimators=1000, objective=binary:logistic, silent=1, subsample=0.5 -   0.1s\n",
      "[CV] colsample_bytree=0.7, learning_rate=0.2, max_depth=7, n_estimators=1000, objective=binary:logistic, silent=1, subsample=0.5 \n",
      "[CV]  colsample_bytree=0.7, learning_rate=0.2, max_depth=7, n_estimators=1000, objective=binary:logistic, silent=1, subsample=0.5 -   0.1s\n",
      "[CV] colsample_bytree=0.7, learning_rate=0.2, max_depth=7, n_estimators=1000, objective=binary:logistic, silent=1, subsample=0.5 \n",
      "[CV]  colsample_bytree=0.7, learning_rate=0.2, max_depth=7, n_estimators=1000, objective=binary:logistic, silent=1, subsample=0.5 -   0.1s\n",
      "[CV] colsample_bytree=0.7, learning_rate=0.2, max_depth=7, n_estimators=1000, objective=binary:logistic, silent=1, subsample=0.8 \n",
      "[CV]  colsample_bytree=0.7, learning_rate=0.2, max_depth=7, n_estimators=1000, objective=binary:logistic, silent=1, subsample=0.8 -   0.1s\n",
      "[CV] colsample_bytree=0.7, learning_rate=0.2, max_depth=7, n_estimators=1000, objective=binary:logistic, silent=1, subsample=0.8 \n",
      "[CV]  colsample_bytree=0.7, learning_rate=0.2, max_depth=7, n_estimators=1000, objective=binary:logistic, silent=1, subsample=0.8 -   0.1s\n",
      "[CV] colsample_bytree=0.7, learning_rate=0.2, max_depth=7, n_estimators=1000, objective=binary:logistic, silent=1, subsample=0.8 \n",
      "[CV]  colsample_bytree=0.7, learning_rate=0.2, max_depth=7, n_estimators=1000, objective=binary:logistic, silent=1, subsample=0.8 -   0.1s\n",
      "[CV] colsample_bytree=0.7, learning_rate=0.2, max_depth=8, n_estimators=1000, objective=binary:logistic, silent=1, subsample=0.5 \n",
      "[CV]  colsample_bytree=0.7, learning_rate=0.2, max_depth=8, n_estimators=1000, objective=binary:logistic, silent=1, subsample=0.5 -   0.1s\n",
      "[CV] colsample_bytree=0.7, learning_rate=0.2, max_depth=8, n_estimators=1000, objective=binary:logistic, silent=1, subsample=0.5 \n",
      "[CV]  colsample_bytree=0.7, learning_rate=0.2, max_depth=8, n_estimators=1000, objective=binary:logistic, silent=1, subsample=0.5 -   0.1s\n",
      "[CV] colsample_bytree=0.7, learning_rate=0.2, max_depth=8, n_estimators=1000, objective=binary:logistic, silent=1, subsample=0.5 \n",
      "[CV]  colsample_bytree=0.7, learning_rate=0.2, max_depth=8, n_estimators=1000, objective=binary:logistic, silent=1, subsample=0.5 -   0.1s\n",
      "[CV] colsample_bytree=0.7, learning_rate=0.2, max_depth=8, n_estimators=1000, objective=binary:logistic, silent=1, subsample=0.8 \n",
      "[CV]  colsample_bytree=0.7, learning_rate=0.2, max_depth=8, n_estimators=1000, objective=binary:logistic, silent=1, subsample=0.8 -   0.1s\n",
      "[CV] colsample_bytree=0.7, learning_rate=0.2, max_depth=8, n_estimators=1000, objective=binary:logistic, silent=1, subsample=0.8 \n",
      "[CV]  colsample_bytree=0.7, learning_rate=0.2, max_depth=8, n_estimators=1000, objective=binary:logistic, silent=1, subsample=0.8 -   0.1s\n",
      "[CV] colsample_bytree=0.7, learning_rate=0.2, max_depth=8, n_estimators=1000, objective=binary:logistic, silent=1, subsample=0.8 \n",
      "[CV]  colsample_bytree=0.7, learning_rate=0.2, max_depth=8, n_estimators=1000, objective=binary:logistic, silent=1, subsample=0.8 -   0.1s\n",
      "[CV] colsample_bytree=0.8, learning_rate=0.05, max_depth=6, n_estimators=1000, objective=binary:logistic, silent=1, subsample=0.5 \n",
      "[CV]  colsample_bytree=0.8, learning_rate=0.05, max_depth=6, n_estimators=1000, objective=binary:logistic, silent=1, subsample=0.5 -   0.2s\n",
      "[CV] colsample_bytree=0.8, learning_rate=0.05, max_depth=6, n_estimators=1000, objective=binary:logistic, silent=1, subsample=0.5 \n",
      "[CV]  colsample_bytree=0.8, learning_rate=0.05, max_depth=6, n_estimators=1000, objective=binary:logistic, silent=1, subsample=0.5 -   0.2s\n",
      "[CV] colsample_bytree=0.8, learning_rate=0.05, max_depth=6, n_estimators=1000, objective=binary:logistic, silent=1, subsample=0.5 \n",
      "[CV]  colsample_bytree=0.8, learning_rate=0.05, max_depth=6, n_estimators=1000, objective=binary:logistic, silent=1, subsample=0.5 -   0.2s\n",
      "[CV] colsample_bytree=0.8, learning_rate=0.05, max_depth=6, n_estimators=1000, objective=binary:logistic, silent=1, subsample=0.8 \n",
      "[CV]  colsample_bytree=0.8, learning_rate=0.05, max_depth=6, n_estimators=1000, objective=binary:logistic, silent=1, subsample=0.8 -   0.2s\n",
      "[CV] colsample_bytree=0.8, learning_rate=0.05, max_depth=6, n_estimators=1000, objective=binary:logistic, silent=1, subsample=0.8 \n",
      "[CV]  colsample_bytree=0.8, learning_rate=0.05, max_depth=6, n_estimators=1000, objective=binary:logistic, silent=1, subsample=0.8 -   0.2s\n",
      "[CV] colsample_bytree=0.8, learning_rate=0.05, max_depth=6, n_estimators=1000, objective=binary:logistic, silent=1, subsample=0.8 \n",
      "[CV]  colsample_bytree=0.8, learning_rate=0.05, max_depth=6, n_estimators=1000, objective=binary:logistic, silent=1, subsample=0.8 -   0.2s\n",
      "[CV] colsample_bytree=0.8, learning_rate=0.05, max_depth=7, n_estimators=1000, objective=binary:logistic, silent=1, subsample=0.5 \n",
      "[CV]  colsample_bytree=0.8, learning_rate=0.05, max_depth=7, n_estimators=1000, objective=binary:logistic, silent=1, subsample=0.5 -   0.2s\n",
      "[CV] colsample_bytree=0.8, learning_rate=0.05, max_depth=7, n_estimators=1000, objective=binary:logistic, silent=1, subsample=0.5 \n",
      "[CV]  colsample_bytree=0.8, learning_rate=0.05, max_depth=7, n_estimators=1000, objective=binary:logistic, silent=1, subsample=0.5 -   0.2s\n",
      "[CV] colsample_bytree=0.8, learning_rate=0.05, max_depth=7, n_estimators=1000, objective=binary:logistic, silent=1, subsample=0.5 \n",
      "[CV]  colsample_bytree=0.8, learning_rate=0.05, max_depth=7, n_estimators=1000, objective=binary:logistic, silent=1, subsample=0.5 -   0.2s\n",
      "[CV] colsample_bytree=0.8, learning_rate=0.05, max_depth=7, n_estimators=1000, objective=binary:logistic, silent=1, subsample=0.8 \n",
      "[CV]  colsample_bytree=0.8, learning_rate=0.05, max_depth=7, n_estimators=1000, objective=binary:logistic, silent=1, subsample=0.8 -   0.2s\n"
     ]
    },
    {
     "name": "stdout",
     "output_type": "stream",
     "text": [
      "[CV] colsample_bytree=0.8, learning_rate=0.05, max_depth=7, n_estimators=1000, objective=binary:logistic, silent=1, subsample=0.8 \n",
      "[CV]  colsample_bytree=0.8, learning_rate=0.05, max_depth=7, n_estimators=1000, objective=binary:logistic, silent=1, subsample=0.8 -   0.2s\n",
      "[CV] colsample_bytree=0.8, learning_rate=0.05, max_depth=7, n_estimators=1000, objective=binary:logistic, silent=1, subsample=0.8 \n",
      "[CV]  colsample_bytree=0.8, learning_rate=0.05, max_depth=7, n_estimators=1000, objective=binary:logistic, silent=1, subsample=0.8 -   0.2s\n",
      "[CV] colsample_bytree=0.8, learning_rate=0.05, max_depth=8, n_estimators=1000, objective=binary:logistic, silent=1, subsample=0.5 \n",
      "[CV]  colsample_bytree=0.8, learning_rate=0.05, max_depth=8, n_estimators=1000, objective=binary:logistic, silent=1, subsample=0.5 -   0.2s\n",
      "[CV] colsample_bytree=0.8, learning_rate=0.05, max_depth=8, n_estimators=1000, objective=binary:logistic, silent=1, subsample=0.5 \n",
      "[CV]  colsample_bytree=0.8, learning_rate=0.05, max_depth=8, n_estimators=1000, objective=binary:logistic, silent=1, subsample=0.5 -   0.2s\n",
      "[CV] colsample_bytree=0.8, learning_rate=0.05, max_depth=8, n_estimators=1000, objective=binary:logistic, silent=1, subsample=0.5 \n",
      "[CV]  colsample_bytree=0.8, learning_rate=0.05, max_depth=8, n_estimators=1000, objective=binary:logistic, silent=1, subsample=0.5 -   0.2s\n",
      "[CV] colsample_bytree=0.8, learning_rate=0.05, max_depth=8, n_estimators=1000, objective=binary:logistic, silent=1, subsample=0.8 \n",
      "[CV]  colsample_bytree=0.8, learning_rate=0.05, max_depth=8, n_estimators=1000, objective=binary:logistic, silent=1, subsample=0.8 -   0.2s\n",
      "[CV] colsample_bytree=0.8, learning_rate=0.05, max_depth=8, n_estimators=1000, objective=binary:logistic, silent=1, subsample=0.8 \n",
      "[CV]  colsample_bytree=0.8, learning_rate=0.05, max_depth=8, n_estimators=1000, objective=binary:logistic, silent=1, subsample=0.8 -   0.2s\n",
      "[CV] colsample_bytree=0.8, learning_rate=0.05, max_depth=8, n_estimators=1000, objective=binary:logistic, silent=1, subsample=0.8 \n",
      "[CV]  colsample_bytree=0.8, learning_rate=0.05, max_depth=8, n_estimators=1000, objective=binary:logistic, silent=1, subsample=0.8 -   0.2s\n",
      "[CV] colsample_bytree=0.8, learning_rate=0.1, max_depth=6, n_estimators=1000, objective=binary:logistic, silent=1, subsample=0.5 \n",
      "[CV]  colsample_bytree=0.8, learning_rate=0.1, max_depth=6, n_estimators=1000, objective=binary:logistic, silent=1, subsample=0.5 -   0.2s\n",
      "[CV] colsample_bytree=0.8, learning_rate=0.1, max_depth=6, n_estimators=1000, objective=binary:logistic, silent=1, subsample=0.5 \n",
      "[CV]  colsample_bytree=0.8, learning_rate=0.1, max_depth=6, n_estimators=1000, objective=binary:logistic, silent=1, subsample=0.5 -   0.2s\n",
      "[CV] colsample_bytree=0.8, learning_rate=0.1, max_depth=6, n_estimators=1000, objective=binary:logistic, silent=1, subsample=0.5 \n",
      "[CV]  colsample_bytree=0.8, learning_rate=0.1, max_depth=6, n_estimators=1000, objective=binary:logistic, silent=1, subsample=0.5 -   0.2s\n",
      "[CV] colsample_bytree=0.8, learning_rate=0.1, max_depth=6, n_estimators=1000, objective=binary:logistic, silent=1, subsample=0.8 \n",
      "[CV]  colsample_bytree=0.8, learning_rate=0.1, max_depth=6, n_estimators=1000, objective=binary:logistic, silent=1, subsample=0.8 -   0.2s\n",
      "[CV] colsample_bytree=0.8, learning_rate=0.1, max_depth=6, n_estimators=1000, objective=binary:logistic, silent=1, subsample=0.8 \n",
      "[CV]  colsample_bytree=0.8, learning_rate=0.1, max_depth=6, n_estimators=1000, objective=binary:logistic, silent=1, subsample=0.8 -   0.2s\n",
      "[CV] colsample_bytree=0.8, learning_rate=0.1, max_depth=6, n_estimators=1000, objective=binary:logistic, silent=1, subsample=0.8 \n",
      "[CV]  colsample_bytree=0.8, learning_rate=0.1, max_depth=6, n_estimators=1000, objective=binary:logistic, silent=1, subsample=0.8 -   0.2s\n",
      "[CV] colsample_bytree=0.8, learning_rate=0.1, max_depth=7, n_estimators=1000, objective=binary:logistic, silent=1, subsample=0.5 \n",
      "[CV]  colsample_bytree=0.8, learning_rate=0.1, max_depth=7, n_estimators=1000, objective=binary:logistic, silent=1, subsample=0.5 -   0.2s\n",
      "[CV] colsample_bytree=0.8, learning_rate=0.1, max_depth=7, n_estimators=1000, objective=binary:logistic, silent=1, subsample=0.5 \n",
      "[CV]  colsample_bytree=0.8, learning_rate=0.1, max_depth=7, n_estimators=1000, objective=binary:logistic, silent=1, subsample=0.5 -   0.2s\n",
      "[CV] colsample_bytree=0.8, learning_rate=0.1, max_depth=7, n_estimators=1000, objective=binary:logistic, silent=1, subsample=0.5 \n",
      "[CV]  colsample_bytree=0.8, learning_rate=0.1, max_depth=7, n_estimators=1000, objective=binary:logistic, silent=1, subsample=0.5 -   0.2s\n",
      "[CV] colsample_bytree=0.8, learning_rate=0.1, max_depth=7, n_estimators=1000, objective=binary:logistic, silent=1, subsample=0.8 \n",
      "[CV]  colsample_bytree=0.8, learning_rate=0.1, max_depth=7, n_estimators=1000, objective=binary:logistic, silent=1, subsample=0.8 -   0.2s\n",
      "[CV] colsample_bytree=0.8, learning_rate=0.1, max_depth=7, n_estimators=1000, objective=binary:logistic, silent=1, subsample=0.8 \n",
      "[CV]  colsample_bytree=0.8, learning_rate=0.1, max_depth=7, n_estimators=1000, objective=binary:logistic, silent=1, subsample=0.8 -   0.2s\n",
      "[CV] colsample_bytree=0.8, learning_rate=0.1, max_depth=7, n_estimators=1000, objective=binary:logistic, silent=1, subsample=0.8 \n",
      "[CV]  colsample_bytree=0.8, learning_rate=0.1, max_depth=7, n_estimators=1000, objective=binary:logistic, silent=1, subsample=0.8 -   0.2s\n",
      "[CV] colsample_bytree=0.8, learning_rate=0.1, max_depth=8, n_estimators=1000, objective=binary:logistic, silent=1, subsample=0.5 \n",
      "[CV]  colsample_bytree=0.8, learning_rate=0.1, max_depth=8, n_estimators=1000, objective=binary:logistic, silent=1, subsample=0.5 -   0.2s\n",
      "[CV] colsample_bytree=0.8, learning_rate=0.1, max_depth=8, n_estimators=1000, objective=binary:logistic, silent=1, subsample=0.5 \n",
      "[CV]  colsample_bytree=0.8, learning_rate=0.1, max_depth=8, n_estimators=1000, objective=binary:logistic, silent=1, subsample=0.5 -   0.2s\n",
      "[CV] colsample_bytree=0.8, learning_rate=0.1, max_depth=8, n_estimators=1000, objective=binary:logistic, silent=1, subsample=0.5 \n",
      "[CV]  colsample_bytree=0.8, learning_rate=0.1, max_depth=8, n_estimators=1000, objective=binary:logistic, silent=1, subsample=0.5 -   0.2s\n",
      "[CV] colsample_bytree=0.8, learning_rate=0.1, max_depth=8, n_estimators=1000, objective=binary:logistic, silent=1, subsample=0.8 \n",
      "[CV]  colsample_bytree=0.8, learning_rate=0.1, max_depth=8, n_estimators=1000, objective=binary:logistic, silent=1, subsample=0.8 -   0.2s\n",
      "[CV] colsample_bytree=0.8, learning_rate=0.1, max_depth=8, n_estimators=1000, objective=binary:logistic, silent=1, subsample=0.8 \n",
      "[CV]  colsample_bytree=0.8, learning_rate=0.1, max_depth=8, n_estimators=1000, objective=binary:logistic, silent=1, subsample=0.8 -   0.2s\n",
      "[CV] colsample_bytree=0.8, learning_rate=0.1, max_depth=8, n_estimators=1000, objective=binary:logistic, silent=1, subsample=0.8 \n",
      "[CV]  colsample_bytree=0.8, learning_rate=0.1, max_depth=8, n_estimators=1000, objective=binary:logistic, silent=1, subsample=0.8 -   0.2s\n",
      "[CV] colsample_bytree=0.8, learning_rate=0.2, max_depth=6, n_estimators=1000, objective=binary:logistic, silent=1, subsample=0.5 \n",
      "[CV]  colsample_bytree=0.8, learning_rate=0.2, max_depth=6, n_estimators=1000, objective=binary:logistic, silent=1, subsample=0.5 -   0.1s\n",
      "[CV] colsample_bytree=0.8, learning_rate=0.2, max_depth=6, n_estimators=1000, objective=binary:logistic, silent=1, subsample=0.5 \n",
      "[CV]  colsample_bytree=0.8, learning_rate=0.2, max_depth=6, n_estimators=1000, objective=binary:logistic, silent=1, subsample=0.5 -   0.1s\n",
      "[CV] colsample_bytree=0.8, learning_rate=0.2, max_depth=6, n_estimators=1000, objective=binary:logistic, silent=1, subsample=0.5 \n",
      "[CV]  colsample_bytree=0.8, learning_rate=0.2, max_depth=6, n_estimators=1000, objective=binary:logistic, silent=1, subsample=0.5 -   0.2s\n",
      "[CV] colsample_bytree=0.8, learning_rate=0.2, max_depth=6, n_estimators=1000, objective=binary:logistic, silent=1, subsample=0.8 \n",
      "[CV]  colsample_bytree=0.8, learning_rate=0.2, max_depth=6, n_estimators=1000, objective=binary:logistic, silent=1, subsample=0.8 -   0.2s\n",
      "[CV] colsample_bytree=0.8, learning_rate=0.2, max_depth=6, n_estimators=1000, objective=binary:logistic, silent=1, subsample=0.8 \n",
      "[CV]  colsample_bytree=0.8, learning_rate=0.2, max_depth=6, n_estimators=1000, objective=binary:logistic, silent=1, subsample=0.8 -   0.2s\n",
      "[CV] colsample_bytree=0.8, learning_rate=0.2, max_depth=6, n_estimators=1000, objective=binary:logistic, silent=1, subsample=0.8 \n"
     ]
    },
    {
     "name": "stdout",
     "output_type": "stream",
     "text": [
      "[CV]  colsample_bytree=0.8, learning_rate=0.2, max_depth=6, n_estimators=1000, objective=binary:logistic, silent=1, subsample=0.8 -   0.2s\n",
      "[CV] colsample_bytree=0.8, learning_rate=0.2, max_depth=7, n_estimators=1000, objective=binary:logistic, silent=1, subsample=0.5 \n",
      "[CV]  colsample_bytree=0.8, learning_rate=0.2, max_depth=7, n_estimators=1000, objective=binary:logistic, silent=1, subsample=0.5 -   0.1s\n",
      "[CV] colsample_bytree=0.8, learning_rate=0.2, max_depth=7, n_estimators=1000, objective=binary:logistic, silent=1, subsample=0.5 \n",
      "[CV]  colsample_bytree=0.8, learning_rate=0.2, max_depth=7, n_estimators=1000, objective=binary:logistic, silent=1, subsample=0.5 -   0.1s\n",
      "[CV] colsample_bytree=0.8, learning_rate=0.2, max_depth=7, n_estimators=1000, objective=binary:logistic, silent=1, subsample=0.5 \n",
      "[CV]  colsample_bytree=0.8, learning_rate=0.2, max_depth=7, n_estimators=1000, objective=binary:logistic, silent=1, subsample=0.5 -   0.2s\n",
      "[CV] colsample_bytree=0.8, learning_rate=0.2, max_depth=7, n_estimators=1000, objective=binary:logistic, silent=1, subsample=0.8 \n",
      "[CV]  colsample_bytree=0.8, learning_rate=0.2, max_depth=7, n_estimators=1000, objective=binary:logistic, silent=1, subsample=0.8 -   0.2s\n",
      "[CV] colsample_bytree=0.8, learning_rate=0.2, max_depth=7, n_estimators=1000, objective=binary:logistic, silent=1, subsample=0.8 \n",
      "[CV]  colsample_bytree=0.8, learning_rate=0.2, max_depth=7, n_estimators=1000, objective=binary:logistic, silent=1, subsample=0.8 -   0.2s\n",
      "[CV] colsample_bytree=0.8, learning_rate=0.2, max_depth=7, n_estimators=1000, objective=binary:logistic, silent=1, subsample=0.8 \n",
      "[CV]  colsample_bytree=0.8, learning_rate=0.2, max_depth=7, n_estimators=1000, objective=binary:logistic, silent=1, subsample=0.8 -   0.2s\n",
      "[CV] colsample_bytree=0.8, learning_rate=0.2, max_depth=8, n_estimators=1000, objective=binary:logistic, silent=1, subsample=0.5 \n",
      "[CV]  colsample_bytree=0.8, learning_rate=0.2, max_depth=8, n_estimators=1000, objective=binary:logistic, silent=1, subsample=0.5 -   0.1s\n",
      "[CV] colsample_bytree=0.8, learning_rate=0.2, max_depth=8, n_estimators=1000, objective=binary:logistic, silent=1, subsample=0.5 \n",
      "[CV]  colsample_bytree=0.8, learning_rate=0.2, max_depth=8, n_estimators=1000, objective=binary:logistic, silent=1, subsample=0.5 -   0.1s\n",
      "[CV] colsample_bytree=0.8, learning_rate=0.2, max_depth=8, n_estimators=1000, objective=binary:logistic, silent=1, subsample=0.5 \n",
      "[CV]  colsample_bytree=0.8, learning_rate=0.2, max_depth=8, n_estimators=1000, objective=binary:logistic, silent=1, subsample=0.5 -   0.2s\n",
      "[CV] colsample_bytree=0.8, learning_rate=0.2, max_depth=8, n_estimators=1000, objective=binary:logistic, silent=1, subsample=0.8 \n",
      "[CV]  colsample_bytree=0.8, learning_rate=0.2, max_depth=8, n_estimators=1000, objective=binary:logistic, silent=1, subsample=0.8 -   0.2s\n",
      "[CV] colsample_bytree=0.8, learning_rate=0.2, max_depth=8, n_estimators=1000, objective=binary:logistic, silent=1, subsample=0.8 \n",
      "[CV]  colsample_bytree=0.8, learning_rate=0.2, max_depth=8, n_estimators=1000, objective=binary:logistic, silent=1, subsample=0.8 -   0.2s\n",
      "[CV] colsample_bytree=0.8, learning_rate=0.2, max_depth=8, n_estimators=1000, objective=binary:logistic, silent=1, subsample=0.8 \n",
      "[CV]  colsample_bytree=0.8, learning_rate=0.2, max_depth=8, n_estimators=1000, objective=binary:logistic, silent=1, subsample=0.8 -   0.2s\n"
     ]
    },
    {
     "name": "stderr",
     "output_type": "stream",
     "text": [
      "[Parallel(n_jobs=1)]: Done 108 out of 108 | elapsed:   18.4s finished\n"
     ]
    },
    {
     "name": "stdout",
     "output_type": "stream",
     "text": [
      "Raw AUC score: 0.9997470374736552\n",
      "colsample_bytree: 0.7\n",
      "learning_rate: 0.1\n",
      "max_depth: 6\n",
      "n_estimators: 1000\n",
      "objective: 'binary:logistic'\n",
      "silent: 1\n",
      "subsample: 0.8\n"
     ]
    }
   ],
   "source": [
    "#this part is called grid search, it fine tune the parameter of model, and find the best AUC value. \n",
    "#make sure you use the best parameter in your production model\n",
    "xgb_model = xgb.XGBClassifier()\n",
    "#this is the parameter you want to search, objective is binary classfication, so we use binary:logistic\n",
    "parameters = {'objective':['binary:logistic'],\n",
    "              'learning_rate': [0.05,0.1,0.2], #so called `eta` value\n",
    "              'max_depth': [6,7,8],#depth of the tree\n",
    "              'silent': [1],\n",
    "              'subsample': [0.5,0.8],#each tree contains x% of the training data\n",
    "              'colsample_bytree': [0.7,0.8],#how many column,feature you want to use in each tree\n",
    "              'n_estimators': [1000]} #number of trees, change it to 1000 for better results}\n",
    "#change n_jobs to avoid overfitting, also! slow your model !!!make sure you find the balance\n",
    "clf = GridSearchCV(xgb_model, parameters, n_jobs=1, \n",
    "                   scoring='roc_auc',\n",
    "                   verbose=2, refit=True)\n",
    "clf.fit(X_train, yt_train)\n",
    "#trust your CV!\n",
    "best_parameters, score, _ = max(clf.grid_scores_, key=lambda x: x[1])\n",
    "print('Raw AUC score:', score)\n",
    "for param_name in sorted(best_parameters.keys()):\n",
    "    print(\"%s: %r\" % (param_name, best_parameters[param_name]))\n",
    "test_probs = clf.predict_proba(X_test)[:,1]"
   ]
  },
  {
   "cell_type": "code",
   "execution_count": null,
   "metadata": {},
   "outputs": [],
   "source": [
    "#best parameter model!\n",
    "bt = xgb.XGBClassifier(max_depth=6,learning_rate=0.1,n_estimators=1000,colsample_bytree=0.7,silent=1,subsample=0.8)\n",
    "bt.fit(X_train, yt_train, eval_set=[(X_test, yt_test)], verbose=False)"
   ]
  },
  {
   "cell_type": "markdown",
   "metadata": {},
   "source": [
    "## 3.2 Save Best Model\n",
    "you want this model file to create the IOTdetection endpoint!\n",
    "this is the core component in your endpoint"
   ]
  },
  {
   "cell_type": "code",
   "execution_count": 12,
   "metadata": {},
   "outputs": [
    {
     "name": "stdout",
     "output_type": "stream",
     "text": [
      "IOTDetection\r\n"
     ]
    }
   ],
   "source": [
    "model_file_name = \"IOTDetection\"\n",
    "bt._Booster.save_model(model_file_name)\n",
    "!tar czvf Detection.tar.gz $model_file_name"
   ]
  },
  {
   "cell_type": "code",
   "execution_count": 14,
   "metadata": {
    "collapsed": true
   },
   "outputs": [],
   "source": [
    "import os\n",
    "fObj = open(\"Detection.tar.gz\", 'rb')\n",
    "key= os.path.join(model_file_name, 'Detection.tar.gz')\n",
    "boto3.Session().resource('s3').Bucket(bucket).Object(key).upload_fileobj(fObj)"
   ]
  },
  {
   "cell_type": "markdown",
   "metadata": {},
   "source": [
    "# 4. Create Endpoint\n",
    "## 4.1 Create Endpoint Configuration\n",
    "the same parameter you need if you create from sagemaker dashboard\n"
   ]
  },
  {
   "cell_type": "code",
   "execution_count": 15,
   "metadata": {
    "collapsed": true
   },
   "outputs": [],
   "source": [
    "containers = {'us-west-2': '433757028032.dkr.ecr.us-west-2.amazonaws.com/xgboost:latest',\n",
    "              'us-east-1': '811284229777.dkr.ecr.us-east-1.amazonaws.com/xgboost:latest',\n",
    "              'us-east-2': '825641698319.dkr.ecr.us-east-2.amazonaws.com/xgboost:latest',\n",
    "              'eu-west-1': '685385470294.dkr.ecr.eu-west-1.amazonaws.com/xgboost:latest'}\n",
    "container = containers[boto3.Session().region_name]"
   ]
  },
  {
   "cell_type": "code",
   "execution_count": 16,
   "metadata": {},
   "outputs": [
    {
     "name": "stdout",
     "output_type": "stream",
     "text": [
      "https://s3-us-east-1.amazonaws.com/sagemaker-model-ml/IOTDetection/Detection.tar.gz\n",
      "arn:aws:sagemaker:us-east-1:197066110901:model/iotdetection\n",
      "CPU times: user 16 ms, sys: 4 ms, total: 20 ms\n",
      "Wall time: 218 ms\n"
     ]
    }
   ],
   "source": [
    "%%time\n",
    "from time import gmtime, strftime\n",
    "\n",
    "model_name = model_file_name\n",
    "model_url = 'https://s3-{}.amazonaws.com/{}/{}'.format(region,bucket,key)\n",
    "sm_client = boto3.client('sagemaker')\n",
    "\n",
    "print (model_url)\n",
    "\n",
    "primary_container = {\n",
    "    'Image': container,\n",
    "    'ModelDataUrl': model_url,\n",
    "}\n",
    "\n",
    "create_model_response2 = sm_client.create_model(\n",
    "    ModelName = model_name,\n",
    "    ExecutionRoleArn = role,\n",
    "    PrimaryContainer = primary_container)\n",
    "\n",
    "print(create_model_response2['ModelArn'])"
   ]
  },
  {
   "cell_type": "code",
   "execution_count": 17,
   "metadata": {},
   "outputs": [
    {
     "name": "stdout",
     "output_type": "stream",
     "text": [
      "IOTDetectionEndpointConfig1\n",
      "Endpoint Config Arn: arn:aws:sagemaker:us-east-1:197066110901:endpoint-config/iotdetectionendpointconfig1\n"
     ]
    }
   ],
   "source": [
    "from time import gmtime, strftime\n",
    "\n",
    "endpoint_config_name = 'IOTDetectionEndpointConfig1'\n",
    "print(endpoint_config_name)\n",
    "create_endpoint_config_response = sm_client.create_endpoint_config(\n",
    "    EndpointConfigName = endpoint_config_name,\n",
    "    ProductionVariants=[{\n",
    "        'InstanceType':'ml.m4.xlarge',\n",
    "        'InitialInstanceCount':1,\n",
    "        'InitialVariantWeight':1,\n",
    "        'ModelName':model_name,\n",
    "        'VariantName':'AllTraffic'}])\n",
    "\n",
    "print(\"Endpoint Config Arn: \" + create_endpoint_config_response['EndpointConfigArn'])"
   ]
  },
  {
   "cell_type": "markdown",
   "metadata": {},
   "source": [
    "## 4.2 Create Endpoint "
   ]
  },
  {
   "cell_type": "code",
   "execution_count": 18,
   "metadata": {},
   "outputs": [
    {
     "name": "stdout",
     "output_type": "stream",
     "text": [
      "IOTDetectionEndpoint1\n",
      "arn:aws:sagemaker:us-east-1:197066110901:endpoint/iotdetectionendpoint1\n",
      "Status: Creating\n",
      "Status: Creating\n",
      "Status: Creating\n",
      "Status: Creating\n",
      "Status: Creating\n",
      "Status: Creating\n",
      "Status: Creating\n",
      "Status: InService\n",
      "Arn: arn:aws:sagemaker:us-east-1:197066110901:endpoint/iotdetectionendpoint1\n",
      "Status: InService\n",
      "CPU times: user 60 ms, sys: 8 ms, total: 68 ms\n",
      "Wall time: 7min 1s\n"
     ]
    }
   ],
   "source": [
    "%%time\n",
    "import time\n",
    "\n",
    "endpoint_name = 'IOTDetectionEndpoint1'\n",
    "print(endpoint_name)\n",
    "create_endpoint_response = sm_client.create_endpoint(\n",
    "    EndpointName=endpoint_name,\n",
    "    EndpointConfigName=endpoint_config_name)\n",
    "print(create_endpoint_response['EndpointArn'])\n",
    "\n",
    "resp = sm_client.describe_endpoint(EndpointName=endpoint_name)\n",
    "status = resp['EndpointStatus']\n",
    "print(\"Status: \" + status)\n",
    "\n",
    "while status=='Creating':\n",
    "    time.sleep(60)\n",
    "    resp = sm_client.describe_endpoint(EndpointName=endpoint_name)\n",
    "    status = resp['EndpointStatus']\n",
    "    print(\"Status: \" + status)\n",
    "\n",
    "print(\"Arn: \" + resp['EndpointArn'])\n",
    "print(\"Status: \" + status)"
   ]
  },
  {
   "cell_type": "code",
   "execution_count": 19,
   "metadata": {
    "collapsed": true
   },
   "outputs": [],
   "source": [
    "runtime_client = boto3.client('runtime.sagemaker')"
   ]
  },
  {
   "cell_type": "markdown",
   "metadata": {},
   "source": [
    "# 5. Test Model"
   ]
  },
  {
   "cell_type": "code",
   "execution_count": 21,
   "metadata": {
    "collapsed": true
   },
   "outputs": [],
   "source": [
    "#test data, you have to run it through the same preprocessing code\n",
    "test = pd.read_csv('testData_cleaned.csv')\n",
    "test[['uri_num','query_num','CN','OU','O']] = \\\n",
    "test[['uri_num','query_num','CN','OU','O']].fillna(0)\n",
    "test = test.drop(['mac','ts'],1)\n",
    "test = test[Feature]\n",
    "#point_x is your test_x, point_y is your test_y. point_x has the same column as your training data!!!!\n",
    "point_X = test.drop(['IOT','Device'],1)\n",
    "point_y = encode(test['IOT'])\n",
    "np.savetxt(\"test_point.csv\", point_X, delimiter=\",\")"
   ]
  },
  {
   "cell_type": "code",
   "execution_count": 22,
   "metadata": {},
   "outputs": [
    {
     "name": "stdout",
     "output_type": "stream",
     "text": [
      "CPU times: user 12 ms, sys: 0 ns, total: 12 ms\n",
      "Wall time: 311 ms\n"
     ]
    }
   ],
   "source": [
    "%%time\n",
    "import json\n",
    "\n",
    "\n",
    "file_name = 'test_point.csv' #customize to your test file, this is the same file you want to use\n",
    "# but in production, if you call from the database/S3, you will get same test_point.csv, use lambda feed csv to endpoint, giving you the result\n",
    "\n",
    "with open(file_name, 'r') as f:\n",
    "    payload = f.read().strip()\n",
    "\n",
    "response = runtime_client.invoke_endpoint(EndpointName=endpoint_name, \n",
    "                                   ContentType='text/csv', \n",
    "                                   Body=payload)\n",
    "result = response['Body'].read().decode('ascii')\n",
    "#print('Predicted Class Probabilities: {}.'.format(result))"
   ]
  },
  {
   "cell_type": "code",
   "execution_count": 23,
   "metadata": {},
   "outputs": [
    {
     "data": {
      "text/plain": [
       "array([[231,  67],\n",
       "       [ 42, 366]])"
      ]
     },
     "execution_count": 23,
     "metadata": {},
     "output_type": "execute_result"
    }
   ],
   "source": [
    "predictedLabel = [1 if num >0.5 else 0 for num in np.array(result.split(',')).astype('float')]\n",
    "confusion_matrix(point_y,predictedLabel)\n",
    "#print('Predicted Class Label: {}.'.format(floatArr))\n",
    "#print('Actual Class Label: {}.'.format(point_y))"
   ]
  },
  {
   "cell_type": "markdown",
   "metadata": {},
   "source": [
    "# WARNING: this line delete the endpoint"
   ]
  },
  {
   "cell_type": "code",
   "execution_count": null,
   "metadata": {
    "collapsed": true
   },
   "outputs": [],
   "source": [
    "sm_client.delete_endpoint(EndpointName=endpoint_name)"
   ]
  }
 ],
 "metadata": {
  "kernelspec": {
   "display_name": "Python 3",
   "language": "python",
   "name": "python3"
  },
  "language_info": {
   "codemirror_mode": {
    "name": "ipython",
    "version": 3
   },
   "file_extension": ".py",
   "mimetype": "text/x-python",
   "name": "python",
   "nbconvert_exporter": "python",
   "pygments_lexer": "ipython3",
   "version": "3.6.3"
  }
 },
 "nbformat": 4,
 "nbformat_minor": 2
}
