{
 "cells": [
  {
   "cell_type": "markdown",
   "metadata": {},
   "source": [
    "## 1. Install Needed Resources"
   ]
  },
  {
   "cell_type": "code",
   "execution_count": 42,
   "metadata": {
    "collapsed": true
   },
   "outputs": [],
   "source": [
    "import numpy as np\n",
    "import pandas as pd\n",
    "import os\n",
    "import matplotlib.pyplot as plt"
   ]
  },
  {
   "cell_type": "code",
   "execution_count": 43,
   "metadata": {},
   "outputs": [
    {
     "data": {
      "text/plain": [
       "'/Users/Rachel/Desktop/AtomicIOT/Rachel/Sagemaker/Data'"
      ]
     },
     "execution_count": 43,
     "metadata": {},
     "output_type": "execute_result"
    }
   ],
   "source": [
    "os.chdir('/Users/Rachel/Desktop/AtomicIOT/Rachel/Sagemaker/Data/')\n",
    "os.getcwd()"
   ]
  },
  {
   "cell_type": "markdown",
   "metadata": {},
   "source": [
    "## 2. Analysis about Original Data Set\n",
    "* Data from Aug, 2017 to Oct, 2017"
   ]
  },
  {
   "cell_type": "code",
   "execution_count": 44,
   "metadata": {
    "collapsed": true
   },
   "outputs": [],
   "source": [
    "train_original = pd.read_csv('AUGandOCT.csv')"
   ]
  },
  {
   "cell_type": "code",
   "execution_count": 45,
   "metadata": {},
   "outputs": [
    {
     "data": {
      "text/plain": [
       "(722, 26)"
      ]
     },
     "execution_count": 45,
     "metadata": {},
     "output_type": "execute_result"
    }
   ],
   "source": [
    "train_original.shape"
   ]
  },
  {
   "cell_type": "code",
   "execution_count": null,
   "metadata": {
    "collapsed": true
   },
   "outputs": [],
   "source": []
  },
  {
   "cell_type": "code",
   "execution_count": 46,
   "metadata": {},
   "outputs": [
    {
     "data": {
      "text/plain": [
       "id_orig_p_num       0\n",
       "id_resp_h_num       0\n",
       "id_resp_p_num       0\n",
       "proto_num           0\n",
       "conn_state_num      0\n",
       "history_num         0\n",
       "orig_bt_sum         0\n",
       "resp_bt_sum         0\n",
       "orig_pk_sum         0\n",
       "resp_pk_sum         0\n",
       "orig_bt_std         0\n",
       "resp_bt_std         0\n",
       "uri_num           722\n",
       "usr_agent_text    722\n",
       "query_num           0\n",
       "CN                722\n",
       "OU                722\n",
       "O                 722\n",
       "up_down             0\n",
       "Device              0\n",
       "IOT                 0\n",
       "SAX_resp_h          0\n",
       "mac                 0\n",
       "query_text        142\n",
       "ts                  0\n",
       "user_agent        722\n",
       "dtype: int64"
      ]
     },
     "execution_count": 46,
     "metadata": {},
     "output_type": "execute_result"
    }
   ],
   "source": [
    "train_original.isnull().sum()"
   ]
  },
  {
   "cell_type": "code",
   "execution_count": 47,
   "metadata": {
    "collapsed": true
   },
   "outputs": [],
   "source": [
    "train_original[['uri_num','query_num','CN','OU','O']] = \\\n",
    "train_original[['uri_num','query_num','CN','OU','O']].fillna(0)"
   ]
  },
  {
   "cell_type": "code",
   "execution_count": 48,
   "metadata": {
    "collapsed": true
   },
   "outputs": [],
   "source": [
    "#define the hamming distance to the baseline SAX value\n",
    "def hamdist(str1, str2):        \n",
    "        diffs = 0\n",
    "        for ch1, ch2 in zip(str1, str2):\n",
    "                if ch1 != ch2:\n",
    "                        diffs += 1\n",
    "        return diffs\n",
    "train_original['SAX_resp_ham']=train_original.SAX_resp_h.apply(lambda x: hamdist(x,'bbbbbbbbbbbbbbbbbbbbbbbb'))"
   ]
  },
  {
   "cell_type": "code",
   "execution_count": 49,
   "metadata": {
    "collapsed": true
   },
   "outputs": [],
   "source": [
    "train_original = train_original.drop(['mac','ts'],1)\n",
    "Feature_Original = ['id_resp_h_num','proto_num','conn_state_num','history_num',\n",
    "           'orig_bt_sum','resp_bt_sum','orig_bt_std','resp_bt_std',\n",
    "           'uri_num','query_num','up_down','SAX_resp_ham','O','OU','IOT','Device']\n",
    "train_original = train_original[Feature_Original]"
   ]
  },
  {
   "cell_type": "code",
   "execution_count": 50,
   "metadata": {},
   "outputs": [
    {
     "data": {
      "text/html": [
       "<div>\n",
       "<style>\n",
       "    .dataframe thead tr:only-child th {\n",
       "        text-align: right;\n",
       "    }\n",
       "\n",
       "    .dataframe thead th {\n",
       "        text-align: left;\n",
       "    }\n",
       "\n",
       "    .dataframe tbody tr th {\n",
       "        vertical-align: top;\n",
       "    }\n",
       "</style>\n",
       "<table border=\"1\" class=\"dataframe\">\n",
       "  <thead>\n",
       "    <tr style=\"text-align: right;\">\n",
       "      <th></th>\n",
       "      <th>id_resp_h_num</th>\n",
       "      <th>proto_num</th>\n",
       "      <th>conn_state_num</th>\n",
       "      <th>history_num</th>\n",
       "      <th>orig_bt_sum</th>\n",
       "      <th>resp_bt_sum</th>\n",
       "      <th>orig_bt_std</th>\n",
       "      <th>resp_bt_std</th>\n",
       "      <th>uri_num</th>\n",
       "      <th>query_num</th>\n",
       "      <th>up_down</th>\n",
       "      <th>SAX_resp_ham</th>\n",
       "      <th>O</th>\n",
       "      <th>OU</th>\n",
       "    </tr>\n",
       "  </thead>\n",
       "  <tbody>\n",
       "    <tr>\n",
       "      <th>count</th>\n",
       "      <td>722.000000</td>\n",
       "      <td>722.000000</td>\n",
       "      <td>722.000000</td>\n",
       "      <td>722.000000</td>\n",
       "      <td>7.220000e+02</td>\n",
       "      <td>7.220000e+02</td>\n",
       "      <td>7.220000e+02</td>\n",
       "      <td>7.220000e+02</td>\n",
       "      <td>722.0</td>\n",
       "      <td>722.000000</td>\n",
       "      <td>722.000000</td>\n",
       "      <td>722.000000</td>\n",
       "      <td>722.0</td>\n",
       "      <td>722.0</td>\n",
       "    </tr>\n",
       "    <tr>\n",
       "      <th>mean</th>\n",
       "      <td>73.993075</td>\n",
       "      <td>0.680055</td>\n",
       "      <td>3.462604</td>\n",
       "      <td>15.699446</td>\n",
       "      <td>6.372408e+06</td>\n",
       "      <td>1.090575e+08</td>\n",
       "      <td>8.279361e+04</td>\n",
       "      <td>1.749916e+06</td>\n",
       "      <td>0.0</td>\n",
       "      <td>31.258243</td>\n",
       "      <td>1.021681</td>\n",
       "      <td>20.973684</td>\n",
       "      <td>0.0</td>\n",
       "      <td>0.0</td>\n",
       "    </tr>\n",
       "    <tr>\n",
       "      <th>std</th>\n",
       "      <td>216.486280</td>\n",
       "      <td>0.466778</td>\n",
       "      <td>3.834924</td>\n",
       "      <td>26.160917</td>\n",
       "      <td>4.009583e+07</td>\n",
       "      <td>4.932895e+08</td>\n",
       "      <td>5.723388e+05</td>\n",
       "      <td>6.583850e+06</td>\n",
       "      <td>0.0</td>\n",
       "      <td>102.311154</td>\n",
       "      <td>3.003802</td>\n",
       "      <td>5.751259</td>\n",
       "      <td>0.0</td>\n",
       "      <td>0.0</td>\n",
       "    </tr>\n",
       "    <tr>\n",
       "      <th>min</th>\n",
       "      <td>0.000000</td>\n",
       "      <td>0.000000</td>\n",
       "      <td>0.000000</td>\n",
       "      <td>0.000000</td>\n",
       "      <td>0.000000e+00</td>\n",
       "      <td>1.000000e-01</td>\n",
       "      <td>0.000000e+00</td>\n",
       "      <td>0.000000e+00</td>\n",
       "      <td>0.0</td>\n",
       "      <td>0.000000</td>\n",
       "      <td>0.000000</td>\n",
       "      <td>0.000000</td>\n",
       "      <td>0.0</td>\n",
       "      <td>0.0</td>\n",
       "    </tr>\n",
       "    <tr>\n",
       "      <th>25%</th>\n",
       "      <td>0.000000</td>\n",
       "      <td>0.000000</td>\n",
       "      <td>0.000000</td>\n",
       "      <td>0.000000</td>\n",
       "      <td>0.000000e+00</td>\n",
       "      <td>1.000000e-01</td>\n",
       "      <td>2.466868e+02</td>\n",
       "      <td>2.717376e+03</td>\n",
       "      <td>0.0</td>\n",
       "      <td>1.000000</td>\n",
       "      <td>0.000000</td>\n",
       "      <td>22.000000</td>\n",
       "      <td>0.0</td>\n",
       "      <td>0.0</td>\n",
       "    </tr>\n",
       "    <tr>\n",
       "      <th>50%</th>\n",
       "      <td>4.000000</td>\n",
       "      <td>1.000000</td>\n",
       "      <td>2.000000</td>\n",
       "      <td>3.000000</td>\n",
       "      <td>1.714400e+04</td>\n",
       "      <td>4.619700e+04</td>\n",
       "      <td>4.868345e+03</td>\n",
       "      <td>4.790605e+04</td>\n",
       "      <td>0.0</td>\n",
       "      <td>2.000000</td>\n",
       "      <td>0.007524</td>\n",
       "      <td>24.000000</td>\n",
       "      <td>0.0</td>\n",
       "      <td>0.0</td>\n",
       "    </tr>\n",
       "    <tr>\n",
       "      <th>75%</th>\n",
       "      <td>46.000000</td>\n",
       "      <td>1.000000</td>\n",
       "      <td>6.000000</td>\n",
       "      <td>18.000000</td>\n",
       "      <td>1.002370e+06</td>\n",
       "      <td>1.331279e+07</td>\n",
       "      <td>1.423429e+04</td>\n",
       "      <td>8.465970e+05</td>\n",
       "      <td>0.0</td>\n",
       "      <td>10.000000</td>\n",
       "      <td>0.229844</td>\n",
       "      <td>24.000000</td>\n",
       "      <td>0.0</td>\n",
       "      <td>0.0</td>\n",
       "    </tr>\n",
       "    <tr>\n",
       "      <th>max</th>\n",
       "      <td>2695.000000</td>\n",
       "      <td>1.000000</td>\n",
       "      <td>13.000000</td>\n",
       "      <td>164.000000</td>\n",
       "      <td>7.220994e+08</td>\n",
       "      <td>6.755023e+09</td>\n",
       "      <td>1.052104e+07</td>\n",
       "      <td>8.130062e+07</td>\n",
       "      <td>0.0</td>\n",
       "      <td>849.000000</td>\n",
       "      <td>46.089490</td>\n",
       "      <td>24.000000</td>\n",
       "      <td>0.0</td>\n",
       "      <td>0.0</td>\n",
       "    </tr>\n",
       "  </tbody>\n",
       "</table>\n",
       "</div>"
      ],
      "text/plain": [
       "       id_resp_h_num   proto_num  conn_state_num  history_num   orig_bt_sum  \\\n",
       "count     722.000000  722.000000      722.000000   722.000000  7.220000e+02   \n",
       "mean       73.993075    0.680055        3.462604    15.699446  6.372408e+06   \n",
       "std       216.486280    0.466778        3.834924    26.160917  4.009583e+07   \n",
       "min         0.000000    0.000000        0.000000     0.000000  0.000000e+00   \n",
       "25%         0.000000    0.000000        0.000000     0.000000  0.000000e+00   \n",
       "50%         4.000000    1.000000        2.000000     3.000000  1.714400e+04   \n",
       "75%        46.000000    1.000000        6.000000    18.000000  1.002370e+06   \n",
       "max      2695.000000    1.000000       13.000000   164.000000  7.220994e+08   \n",
       "\n",
       "        resp_bt_sum   orig_bt_std   resp_bt_std  uri_num   query_num  \\\n",
       "count  7.220000e+02  7.220000e+02  7.220000e+02    722.0  722.000000   \n",
       "mean   1.090575e+08  8.279361e+04  1.749916e+06      0.0   31.258243   \n",
       "std    4.932895e+08  5.723388e+05  6.583850e+06      0.0  102.311154   \n",
       "min    1.000000e-01  0.000000e+00  0.000000e+00      0.0    0.000000   \n",
       "25%    1.000000e-01  2.466868e+02  2.717376e+03      0.0    1.000000   \n",
       "50%    4.619700e+04  4.868345e+03  4.790605e+04      0.0    2.000000   \n",
       "75%    1.331279e+07  1.423429e+04  8.465970e+05      0.0   10.000000   \n",
       "max    6.755023e+09  1.052104e+07  8.130062e+07      0.0  849.000000   \n",
       "\n",
       "          up_down  SAX_resp_ham      O     OU  \n",
       "count  722.000000    722.000000  722.0  722.0  \n",
       "mean     1.021681     20.973684    0.0    0.0  \n",
       "std      3.003802      5.751259    0.0    0.0  \n",
       "min      0.000000      0.000000    0.0    0.0  \n",
       "25%      0.000000     22.000000    0.0    0.0  \n",
       "50%      0.007524     24.000000    0.0    0.0  \n",
       "75%      0.229844     24.000000    0.0    0.0  \n",
       "max     46.089490     24.000000    0.0    0.0  "
      ]
     },
     "execution_count": 50,
     "metadata": {},
     "output_type": "execute_result"
    }
   ],
   "source": [
    "train_original.describe()"
   ]
  },
  {
   "cell_type": "code",
   "execution_count": null,
   "metadata": {
    "collapsed": true
   },
   "outputs": [],
   "source": []
  },
  {
   "cell_type": "markdown",
   "metadata": {},
   "source": [
    "## 3. Analysis about All Data We Have\n",
    "* Data from Aug, 2017 to Oct, 2017 plus Data from Nov, 2017 to Jun, 2018\n"
   ]
  },
  {
   "cell_type": "code",
   "execution_count": 51,
   "metadata": {
    "collapsed": true
   },
   "outputs": [],
   "source": [
    "train_new = pd.read_csv('Cleaned_Data_Orig(17_11-18_06)/Cleaned_Data_Orig(17_11-18_06).csv')"
   ]
  },
  {
   "cell_type": "code",
   "execution_count": 52,
   "metadata": {},
   "outputs": [
    {
     "data": {
      "text/plain": [
       "(7120, 26)"
      ]
     },
     "execution_count": 52,
     "metadata": {},
     "output_type": "execute_result"
    }
   ],
   "source": [
    "train_new.shape"
   ]
  },
  {
   "cell_type": "code",
   "execution_count": 53,
   "metadata": {},
   "outputs": [
    {
     "data": {
      "text/html": [
       "<div>\n",
       "<style>\n",
       "    .dataframe thead tr:only-child th {\n",
       "        text-align: right;\n",
       "    }\n",
       "\n",
       "    .dataframe thead th {\n",
       "        text-align: left;\n",
       "    }\n",
       "\n",
       "    .dataframe tbody tr th {\n",
       "        vertical-align: top;\n",
       "    }\n",
       "</style>\n",
       "<table border=\"1\" class=\"dataframe\">\n",
       "  <thead>\n",
       "    <tr style=\"text-align: right;\">\n",
       "      <th></th>\n",
       "      <th>id_orig_p_num</th>\n",
       "      <th>id_resp_h_num</th>\n",
       "      <th>id_resp_p_num</th>\n",
       "      <th>proto_num</th>\n",
       "      <th>conn_state_num</th>\n",
       "      <th>history_num</th>\n",
       "      <th>orig_bt_sum</th>\n",
       "      <th>resp_bt_sum</th>\n",
       "      <th>orig_pk_sum</th>\n",
       "      <th>resp_pk_sum</th>\n",
       "      <th>orig_bt_std</th>\n",
       "      <th>resp_bt_std</th>\n",
       "      <th>uri_num</th>\n",
       "      <th>query_num</th>\n",
       "      <th>CN</th>\n",
       "      <th>OU</th>\n",
       "      <th>O</th>\n",
       "      <th>up_down</th>\n",
       "      <th>SAX_resp_ham</th>\n",
       "    </tr>\n",
       "  </thead>\n",
       "  <tbody>\n",
       "    <tr>\n",
       "      <th>count</th>\n",
       "      <td>7120.00000</td>\n",
       "      <td>7120.000000</td>\n",
       "      <td>7120.000000</td>\n",
       "      <td>7120.000000</td>\n",
       "      <td>7120.000000</td>\n",
       "      <td>7120.000000</td>\n",
       "      <td>7.120000e+03</td>\n",
       "      <td>7.120000e+03</td>\n",
       "      <td>7.120000e+03</td>\n",
       "      <td>7.120000e+03</td>\n",
       "      <td>7.120000e+03</td>\n",
       "      <td>7.120000e+03</td>\n",
       "      <td>7119.000000</td>\n",
       "      <td>7120.000000</td>\n",
       "      <td>5944.000000</td>\n",
       "      <td>5944.000000</td>\n",
       "      <td>5944.000000</td>\n",
       "      <td>7120.000000</td>\n",
       "      <td>7120.000000</td>\n",
       "    </tr>\n",
       "    <tr>\n",
       "      <th>mean</th>\n",
       "      <td>192.45323</td>\n",
       "      <td>29.651404</td>\n",
       "      <td>1.195506</td>\n",
       "      <td>0.536798</td>\n",
       "      <td>0.727388</td>\n",
       "      <td>7.015028</td>\n",
       "      <td>7.258450e+07</td>\n",
       "      <td>8.386834e+07</td>\n",
       "      <td>1.799110e+04</td>\n",
       "      <td>3.220105e+04</td>\n",
       "      <td>4.716751e+06</td>\n",
       "      <td>7.168806e+06</td>\n",
       "      <td>40.473556</td>\n",
       "      <td>12.576671</td>\n",
       "      <td>12.099260</td>\n",
       "      <td>5.010094</td>\n",
       "      <td>3.326716</td>\n",
       "      <td>74.848445</td>\n",
       "      <td>22.570084</td>\n",
       "    </tr>\n",
       "    <tr>\n",
       "      <th>std</th>\n",
       "      <td>863.73713</td>\n",
       "      <td>130.426866</td>\n",
       "      <td>2.230560</td>\n",
       "      <td>0.498679</td>\n",
       "      <td>0.853001</td>\n",
       "      <td>15.986164</td>\n",
       "      <td>1.020714e+09</td>\n",
       "      <td>1.216240e+09</td>\n",
       "      <td>1.266308e+05</td>\n",
       "      <td>2.384028e+05</td>\n",
       "      <td>2.444541e+07</td>\n",
       "      <td>2.686257e+07</td>\n",
       "      <td>299.496461</td>\n",
       "      <td>51.788479</td>\n",
       "      <td>46.930205</td>\n",
       "      <td>17.901385</td>\n",
       "      <td>11.586469</td>\n",
       "      <td>1327.585434</td>\n",
       "      <td>4.101004</td>\n",
       "    </tr>\n",
       "    <tr>\n",
       "      <th>min</th>\n",
       "      <td>0.00000</td>\n",
       "      <td>0.000000</td>\n",
       "      <td>0.000000</td>\n",
       "      <td>0.000000</td>\n",
       "      <td>0.000000</td>\n",
       "      <td>0.000000</td>\n",
       "      <td>0.000000e+00</td>\n",
       "      <td>1.000000e-01</td>\n",
       "      <td>0.000000e+00</td>\n",
       "      <td>0.000000e+00</td>\n",
       "      <td>0.000000e+00</td>\n",
       "      <td>0.000000e+00</td>\n",
       "      <td>0.000000</td>\n",
       "      <td>0.000000</td>\n",
       "      <td>0.000000</td>\n",
       "      <td>0.000000</td>\n",
       "      <td>0.000000</td>\n",
       "      <td>0.000000</td>\n",
       "      <td>0.000000</td>\n",
       "    </tr>\n",
       "    <tr>\n",
       "      <th>25%</th>\n",
       "      <td>0.00000</td>\n",
       "      <td>0.000000</td>\n",
       "      <td>0.000000</td>\n",
       "      <td>0.000000</td>\n",
       "      <td>0.000000</td>\n",
       "      <td>0.000000</td>\n",
       "      <td>0.000000e+00</td>\n",
       "      <td>1.000000e-01</td>\n",
       "      <td>0.000000e+00</td>\n",
       "      <td>0.000000e+00</td>\n",
       "      <td>1.193992e+03</td>\n",
       "      <td>1.101773e+04</td>\n",
       "      <td>0.000000</td>\n",
       "      <td>0.000000</td>\n",
       "      <td>0.000000</td>\n",
       "      <td>0.000000</td>\n",
       "      <td>0.000000</td>\n",
       "      <td>0.000000</td>\n",
       "      <td>23.000000</td>\n",
       "    </tr>\n",
       "    <tr>\n",
       "      <th>50%</th>\n",
       "      <td>1.00000</td>\n",
       "      <td>1.000000</td>\n",
       "      <td>1.000000</td>\n",
       "      <td>1.000000</td>\n",
       "      <td>0.000000</td>\n",
       "      <td>1.000000</td>\n",
       "      <td>1.001500e+03</td>\n",
       "      <td>3.655000e+03</td>\n",
       "      <td>1.400000e+01</td>\n",
       "      <td>1.100000e+01</td>\n",
       "      <td>7.586847e+03</td>\n",
       "      <td>1.459348e+05</td>\n",
       "      <td>0.000000</td>\n",
       "      <td>1.000000</td>\n",
       "      <td>0.000000</td>\n",
       "      <td>0.000000</td>\n",
       "      <td>0.000000</td>\n",
       "      <td>0.000455</td>\n",
       "      <td>24.000000</td>\n",
       "    </tr>\n",
       "    <tr>\n",
       "      <th>75%</th>\n",
       "      <td>31.00000</td>\n",
       "      <td>7.000000</td>\n",
       "      <td>2.000000</td>\n",
       "      <td>1.000000</td>\n",
       "      <td>2.000000</td>\n",
       "      <td>5.000000</td>\n",
       "      <td>1.089020e+05</td>\n",
       "      <td>6.403472e+05</td>\n",
       "      <td>2.293000e+03</td>\n",
       "      <td>2.831500e+03</td>\n",
       "      <td>2.489567e+04</td>\n",
       "      <td>7.790829e+06</td>\n",
       "      <td>4.000000</td>\n",
       "      <td>5.000000</td>\n",
       "      <td>6.000000</td>\n",
       "      <td>2.000000</td>\n",
       "      <td>2.000000</td>\n",
       "      <td>0.195955</td>\n",
       "      <td>24.000000</td>\n",
       "    </tr>\n",
       "    <tr>\n",
       "      <th>max</th>\n",
       "      <td>16375.00000</td>\n",
       "      <td>2176.000000</td>\n",
       "      <td>82.000000</td>\n",
       "      <td>1.000000</td>\n",
       "      <td>4.000000</td>\n",
       "      <td>172.000000</td>\n",
       "      <td>2.040567e+10</td>\n",
       "      <td>8.130656e+10</td>\n",
       "      <td>4.556398e+06</td>\n",
       "      <td>1.015801e+07</td>\n",
       "      <td>4.257003e+08</td>\n",
       "      <td>1.138044e+09</td>\n",
       "      <td>13259.000000</td>\n",
       "      <td>756.000000</td>\n",
       "      <td>619.000000</td>\n",
       "      <td>204.000000</td>\n",
       "      <td>141.000000</td>\n",
       "      <td>74311.057433</td>\n",
       "      <td>24.000000</td>\n",
       "    </tr>\n",
       "  </tbody>\n",
       "</table>\n",
       "</div>"
      ],
      "text/plain": [
       "       id_orig_p_num  id_resp_h_num  id_resp_p_num    proto_num  \\\n",
       "count     7120.00000    7120.000000    7120.000000  7120.000000   \n",
       "mean       192.45323      29.651404       1.195506     0.536798   \n",
       "std        863.73713     130.426866       2.230560     0.498679   \n",
       "min          0.00000       0.000000       0.000000     0.000000   \n",
       "25%          0.00000       0.000000       0.000000     0.000000   \n",
       "50%          1.00000       1.000000       1.000000     1.000000   \n",
       "75%         31.00000       7.000000       2.000000     1.000000   \n",
       "max      16375.00000    2176.000000      82.000000     1.000000   \n",
       "\n",
       "       conn_state_num  history_num   orig_bt_sum   resp_bt_sum   orig_pk_sum  \\\n",
       "count     7120.000000  7120.000000  7.120000e+03  7.120000e+03  7.120000e+03   \n",
       "mean         0.727388     7.015028  7.258450e+07  8.386834e+07  1.799110e+04   \n",
       "std          0.853001    15.986164  1.020714e+09  1.216240e+09  1.266308e+05   \n",
       "min          0.000000     0.000000  0.000000e+00  1.000000e-01  0.000000e+00   \n",
       "25%          0.000000     0.000000  0.000000e+00  1.000000e-01  0.000000e+00   \n",
       "50%          0.000000     1.000000  1.001500e+03  3.655000e+03  1.400000e+01   \n",
       "75%          2.000000     5.000000  1.089020e+05  6.403472e+05  2.293000e+03   \n",
       "max          4.000000   172.000000  2.040567e+10  8.130656e+10  4.556398e+06   \n",
       "\n",
       "        resp_pk_sum   orig_bt_std   resp_bt_std       uri_num    query_num  \\\n",
       "count  7.120000e+03  7.120000e+03  7.120000e+03   7119.000000  7120.000000   \n",
       "mean   3.220105e+04  4.716751e+06  7.168806e+06     40.473556    12.576671   \n",
       "std    2.384028e+05  2.444541e+07  2.686257e+07    299.496461    51.788479   \n",
       "min    0.000000e+00  0.000000e+00  0.000000e+00      0.000000     0.000000   \n",
       "25%    0.000000e+00  1.193992e+03  1.101773e+04      0.000000     0.000000   \n",
       "50%    1.100000e+01  7.586847e+03  1.459348e+05      0.000000     1.000000   \n",
       "75%    2.831500e+03  2.489567e+04  7.790829e+06      4.000000     5.000000   \n",
       "max    1.015801e+07  4.257003e+08  1.138044e+09  13259.000000   756.000000   \n",
       "\n",
       "                CN           OU            O       up_down  SAX_resp_ham  \n",
       "count  5944.000000  5944.000000  5944.000000   7120.000000   7120.000000  \n",
       "mean     12.099260     5.010094     3.326716     74.848445     22.570084  \n",
       "std      46.930205    17.901385    11.586469   1327.585434      4.101004  \n",
       "min       0.000000     0.000000     0.000000      0.000000      0.000000  \n",
       "25%       0.000000     0.000000     0.000000      0.000000     23.000000  \n",
       "50%       0.000000     0.000000     0.000000      0.000455     24.000000  \n",
       "75%       6.000000     2.000000     2.000000      0.195955     24.000000  \n",
       "max     619.000000   204.000000   141.000000  74311.057433     24.000000  "
      ]
     },
     "execution_count": 53,
     "metadata": {},
     "output_type": "execute_result"
    }
   ],
   "source": [
    "train_new.describe()"
   ]
  },
  {
   "cell_type": "code",
   "execution_count": 54,
   "metadata": {},
   "outputs": [
    {
     "data": {
      "text/plain": [
       "id_orig_p_num        0\n",
       "id_resp_h_num        0\n",
       "id_resp_p_num        0\n",
       "proto_num            0\n",
       "conn_state_num       0\n",
       "history_num          0\n",
       "orig_bt_sum          0\n",
       "resp_bt_sum          0\n",
       "orig_pk_sum          0\n",
       "resp_pk_sum          0\n",
       "orig_bt_std          0\n",
       "resp_bt_std          0\n",
       "uri_num              1\n",
       "query_num            0\n",
       "CN                1176\n",
       "OU                1176\n",
       "O                 1176\n",
       "up_down              0\n",
       "SAX_resp_ham         0\n",
       "Device               0\n",
       "IOT                  0\n",
       "SAX_resp_h           0\n",
       "mac                  0\n",
       "query_text           6\n",
       "ts                   0\n",
       "user_agent        4492\n",
       "dtype: int64"
      ]
     },
     "execution_count": 54,
     "metadata": {},
     "output_type": "execute_result"
    }
   ],
   "source": [
    "train_new.isnull().sum()"
   ]
  },
  {
   "cell_type": "code",
   "execution_count": 55,
   "metadata": {
    "collapsed": true
   },
   "outputs": [],
   "source": [
    "train_new[['uri_num','query_num','CN','OU','O']] = \\\n",
    "train_new[['uri_num','query_num','CN','OU','O']].fillna(0)\n",
    "train_new = train_new.drop(['mac','ts'],1)\n",
    "train_new = train_new[Feature_Original]"
   ]
  },
  {
   "cell_type": "code",
   "execution_count": null,
   "metadata": {
    "collapsed": true
   },
   "outputs": [],
   "source": [
    "data = train_original.append(train_new, ignore_index = True)"
   ]
  },
  {
   "cell_type": "code",
   "execution_count": 58,
   "metadata": {},
   "outputs": [
    {
     "data": {
      "text/plain": [
       "(7842, 16)"
      ]
     },
     "execution_count": 58,
     "metadata": {},
     "output_type": "execute_result"
    }
   ],
   "source": [
    "data.shape"
   ]
  },
  {
   "cell_type": "code",
   "execution_count": 60,
   "metadata": {},
   "outputs": [
    {
     "data": {
      "text/plain": [
       "id_resp_h_num     0\n",
       "proto_num         0\n",
       "conn_state_num    0\n",
       "history_num       0\n",
       "orig_bt_sum       0\n",
       "resp_bt_sum       0\n",
       "orig_bt_std       0\n",
       "resp_bt_std       0\n",
       "uri_num           0\n",
       "query_num         0\n",
       "up_down           0\n",
       "SAX_resp_ham      0\n",
       "O                 0\n",
       "OU                0\n",
       "IOT               0\n",
       "Device            0\n",
       "dtype: int64"
      ]
     },
     "execution_count": 60,
     "metadata": {},
     "output_type": "execute_result"
    }
   ],
   "source": [
    "data.isnull().sum()"
   ]
  },
  {
   "cell_type": "code",
   "execution_count": 61,
   "metadata": {
    "collapsed": true
   },
   "outputs": [],
   "source": [
    "train = data.sample(frac=0.7)\n",
    "test = data.loc[~data.index.isin(train.index)]"
   ]
  },
  {
   "cell_type": "code",
   "execution_count": 62,
   "metadata": {},
   "outputs": [
    {
     "data": {
      "text/plain": [
       "(5489, 16)"
      ]
     },
     "execution_count": 62,
     "metadata": {},
     "output_type": "execute_result"
    }
   ],
   "source": [
    "train.shape"
   ]
  },
  {
   "cell_type": "code",
   "execution_count": 63,
   "metadata": {},
   "outputs": [
    {
     "data": {
      "text/plain": [
       "(2353, 16)"
      ]
     },
     "execution_count": 63,
     "metadata": {},
     "output_type": "execute_result"
    }
   ],
   "source": [
    "test.shape"
   ]
  },
  {
   "cell_type": "code",
   "execution_count": 65,
   "metadata": {},
   "outputs": [
    {
     "data": {
      "text/html": [
       "<style  type=\"text/css\" >\n",
       "    #T_ae5f98ac_8ab5_11e8_b8d9_8c85903b2d4erow0_col0 {\n",
       "            background-color:  #023858;\n",
       "        }    #T_ae5f98ac_8ab5_11e8_b8d9_8c85903b2d4erow0_col1 {\n",
       "            background-color:  #99b8d8;\n",
       "        }    #T_ae5f98ac_8ab5_11e8_b8d9_8c85903b2d4erow0_col2 {\n",
       "            background-color:  #80aed2;\n",
       "        }    #T_ae5f98ac_8ab5_11e8_b8d9_8c85903b2d4erow0_col3 {\n",
       "            background-color:  #04639b;\n",
       "        }    #T_ae5f98ac_8ab5_11e8_b8d9_8c85903b2d4erow0_col4 {\n",
       "            background-color:  #fdf5fa;\n",
       "        }    #T_ae5f98ac_8ab5_11e8_b8d9_8c85903b2d4erow0_col5 {\n",
       "            background-color:  #d0d1e6;\n",
       "        }    #T_ae5f98ac_8ab5_11e8_b8d9_8c85903b2d4erow0_col6 {\n",
       "            background-color:  #f9f2f8;\n",
       "        }    #T_ae5f98ac_8ab5_11e8_b8d9_8c85903b2d4erow0_col7 {\n",
       "            background-color:  #e7e3f0;\n",
       "        }    #T_ae5f98ac_8ab5_11e8_b8d9_8c85903b2d4erow0_col8 {\n",
       "            background-color:  #2081b9;\n",
       "        }    #T_ae5f98ac_8ab5_11e8_b8d9_8c85903b2d4erow0_col9 {\n",
       "            background-color:  #034871;\n",
       "        }    #T_ae5f98ac_8ab5_11e8_b8d9_8c85903b2d4erow0_col10 {\n",
       "            background-color:  #fbf4f9;\n",
       "        }    #T_ae5f98ac_8ab5_11e8_b8d9_8c85903b2d4erow0_col11 {\n",
       "            background-color:  #eae6f1;\n",
       "        }    #T_ae5f98ac_8ab5_11e8_b8d9_8c85903b2d4erow0_col12 {\n",
       "            background-color:  #046299;\n",
       "        }    #T_ae5f98ac_8ab5_11e8_b8d9_8c85903b2d4erow0_col13 {\n",
       "            background-color:  #046299;\n",
       "        }    #T_ae5f98ac_8ab5_11e8_b8d9_8c85903b2d4erow1_col0 {\n",
       "            background-color:  #b9c6e0;\n",
       "        }    #T_ae5f98ac_8ab5_11e8_b8d9_8c85903b2d4erow1_col1 {\n",
       "            background-color:  #023858;\n",
       "        }    #T_ae5f98ac_8ab5_11e8_b8d9_8c85903b2d4erow1_col2 {\n",
       "            background-color:  #3d93c2;\n",
       "        }    #T_ae5f98ac_8ab5_11e8_b8d9_8c85903b2d4erow1_col3 {\n",
       "            background-color:  #79abd0;\n",
       "        }    #T_ae5f98ac_8ab5_11e8_b8d9_8c85903b2d4erow1_col4 {\n",
       "            background-color:  #f3edf5;\n",
       "        }    #T_ae5f98ac_8ab5_11e8_b8d9_8c85903b2d4erow1_col5 {\n",
       "            background-color:  #ede8f3;\n",
       "        }    #T_ae5f98ac_8ab5_11e8_b8d9_8c85903b2d4erow1_col6 {\n",
       "            background-color:  #fff7fb;\n",
       "        }    #T_ae5f98ac_8ab5_11e8_b8d9_8c85903b2d4erow1_col7 {\n",
       "            background-color:  #fff7fb;\n",
       "        }    #T_ae5f98ac_8ab5_11e8_b8d9_8c85903b2d4erow1_col8 {\n",
       "            background-color:  #d9d8ea;\n",
       "        }    #T_ae5f98ac_8ab5_11e8_b8d9_8c85903b2d4erow1_col9 {\n",
       "            background-color:  #c0c9e2;\n",
       "        }    #T_ae5f98ac_8ab5_11e8_b8d9_8c85903b2d4erow1_col10 {\n",
       "            background-color:  #f3edf5;\n",
       "        }    #T_ae5f98ac_8ab5_11e8_b8d9_8c85903b2d4erow1_col11 {\n",
       "            background-color:  #fff7fb;\n",
       "        }    #T_ae5f98ac_8ab5_11e8_b8d9_8c85903b2d4erow1_col12 {\n",
       "            background-color:  #bcc7e1;\n",
       "        }    #T_ae5f98ac_8ab5_11e8_b8d9_8c85903b2d4erow1_col13 {\n",
       "            background-color:  #bfc9e1;\n",
       "        }    #T_ae5f98ac_8ab5_11e8_b8d9_8c85903b2d4erow2_col0 {\n",
       "            background-color:  #84b0d3;\n",
       "        }    #T_ae5f98ac_8ab5_11e8_b8d9_8c85903b2d4erow2_col1 {\n",
       "            background-color:  #2987bc;\n",
       "        }    #T_ae5f98ac_8ab5_11e8_b8d9_8c85903b2d4erow2_col2 {\n",
       "            background-color:  #023858;\n",
       "        }    #T_ae5f98ac_8ab5_11e8_b8d9_8c85903b2d4erow2_col3 {\n",
       "            background-color:  #2383ba;\n",
       "        }    #T_ae5f98ac_8ab5_11e8_b8d9_8c85903b2d4erow2_col4 {\n",
       "            background-color:  #fbf3f9;\n",
       "        }    #T_ae5f98ac_8ab5_11e8_b8d9_8c85903b2d4erow2_col5 {\n",
       "            background-color:  #e7e3f0;\n",
       "        }    #T_ae5f98ac_8ab5_11e8_b8d9_8c85903b2d4erow2_col6 {\n",
       "            background-color:  #fdf5fa;\n",
       "        }    #T_ae5f98ac_8ab5_11e8_b8d9_8c85903b2d4erow2_col7 {\n",
       "            background-color:  #f4edf6;\n",
       "        }    #T_ae5f98ac_8ab5_11e8_b8d9_8c85903b2d4erow2_col8 {\n",
       "            background-color:  #dfddec;\n",
       "        }    #T_ae5f98ac_8ab5_11e8_b8d9_8c85903b2d4erow2_col9 {\n",
       "            background-color:  #8fb4d6;\n",
       "        }    #T_ae5f98ac_8ab5_11e8_b8d9_8c85903b2d4erow2_col10 {\n",
       "            background-color:  #faf2f8;\n",
       "        }    #T_ae5f98ac_8ab5_11e8_b8d9_8c85903b2d4erow2_col11 {\n",
       "            background-color:  #eee9f3;\n",
       "        }    #T_ae5f98ac_8ab5_11e8_b8d9_8c85903b2d4erow2_col12 {\n",
       "            background-color:  #d1d2e6;\n",
       "        }    #T_ae5f98ac_8ab5_11e8_b8d9_8c85903b2d4erow2_col13 {\n",
       "            background-color:  #d2d2e7;\n",
       "        }    #T_ae5f98ac_8ab5_11e8_b8d9_8c85903b2d4erow3_col0 {\n",
       "            background-color:  #04639b;\n",
       "        }    #T_ae5f98ac_8ab5_11e8_b8d9_8c85903b2d4erow3_col1 {\n",
       "            background-color:  #589ec8;\n",
       "        }    #T_ae5f98ac_8ab5_11e8_b8d9_8c85903b2d4erow3_col2 {\n",
       "            background-color:  #2081b9;\n",
       "        }    #T_ae5f98ac_8ab5_11e8_b8d9_8c85903b2d4erow3_col3 {\n",
       "            background-color:  #023858;\n",
       "        }    #T_ae5f98ac_8ab5_11e8_b8d9_8c85903b2d4erow3_col4 {\n",
       "            background-color:  #fbf4f9;\n",
       "        }    #T_ae5f98ac_8ab5_11e8_b8d9_8c85903b2d4erow3_col5 {\n",
       "            background-color:  #bbc7e0;\n",
       "        }    #T_ae5f98ac_8ab5_11e8_b8d9_8c85903b2d4erow3_col6 {\n",
       "            background-color:  #fbf3f9;\n",
       "        }    #T_ae5f98ac_8ab5_11e8_b8d9_8c85903b2d4erow3_col7 {\n",
       "            background-color:  #dfddec;\n",
       "        }    #T_ae5f98ac_8ab5_11e8_b8d9_8c85903b2d4erow3_col8 {\n",
       "            background-color:  #73a9cf;\n",
       "        }    #T_ae5f98ac_8ab5_11e8_b8d9_8c85903b2d4erow3_col9 {\n",
       "            background-color:  #0569a4;\n",
       "        }    #T_ae5f98ac_8ab5_11e8_b8d9_8c85903b2d4erow3_col10 {\n",
       "            background-color:  #faf3f9;\n",
       "        }    #T_ae5f98ac_8ab5_11e8_b8d9_8c85903b2d4erow3_col11 {\n",
       "            background-color:  #eae6f1;\n",
       "        }    #T_ae5f98ac_8ab5_11e8_b8d9_8c85903b2d4erow3_col12 {\n",
       "            background-color:  #0771b1;\n",
       "        }    #T_ae5f98ac_8ab5_11e8_b8d9_8c85903b2d4erow3_col13 {\n",
       "            background-color:  #056fae;\n",
       "        }    #T_ae5f98ac_8ab5_11e8_b8d9_8c85903b2d4erow4_col0 {\n",
       "            background-color:  #ece7f2;\n",
       "        }    #T_ae5f98ac_8ab5_11e8_b8d9_8c85903b2d4erow4_col1 {\n",
       "            background-color:  #c1cae2;\n",
       "        }    #T_ae5f98ac_8ab5_11e8_b8d9_8c85903b2d4erow4_col2 {\n",
       "            background-color:  #e4e1ef;\n",
       "        }    #T_ae5f98ac_8ab5_11e8_b8d9_8c85903b2d4erow4_col3 {\n",
       "            background-color:  #e9e5f1;\n",
       "        }    #T_ae5f98ac_8ab5_11e8_b8d9_8c85903b2d4erow4_col4 {\n",
       "            background-color:  #023858;\n",
       "        }    #T_ae5f98ac_8ab5_11e8_b8d9_8c85903b2d4erow4_col5 {\n",
       "            background-color:  #fbf4f9;\n",
       "        }    #T_ae5f98ac_8ab5_11e8_b8d9_8c85903b2d4erow4_col6 {\n",
       "            background-color:  #056aa6;\n",
       "        }    #T_ae5f98ac_8ab5_11e8_b8d9_8c85903b2d4erow4_col7 {\n",
       "            background-color:  #efe9f3;\n",
       "        }    #T_ae5f98ac_8ab5_11e8_b8d9_8c85903b2d4erow4_col8 {\n",
       "            background-color:  #f2ecf5;\n",
       "        }    #T_ae5f98ac_8ab5_11e8_b8d9_8c85903b2d4erow4_col9 {\n",
       "            background-color:  #ede8f3;\n",
       "        }    #T_ae5f98ac_8ab5_11e8_b8d9_8c85903b2d4erow4_col10 {\n",
       "            background-color:  #3790c0;\n",
       "        }    #T_ae5f98ac_8ab5_11e8_b8d9_8c85903b2d4erow4_col11 {\n",
       "            background-color:  #cccfe5;\n",
       "        }    #T_ae5f98ac_8ab5_11e8_b8d9_8c85903b2d4erow4_col12 {\n",
       "            background-color:  #eee9f3;\n",
       "        }    #T_ae5f98ac_8ab5_11e8_b8d9_8c85903b2d4erow4_col13 {\n",
       "            background-color:  #f0eaf4;\n",
       "        }    #T_ae5f98ac_8ab5_11e8_b8d9_8c85903b2d4erow5_col0 {\n",
       "            background-color:  #b5c4df;\n",
       "        }    #T_ae5f98ac_8ab5_11e8_b8d9_8c85903b2d4erow5_col1 {\n",
       "            background-color:  #bbc7e0;\n",
       "        }    #T_ae5f98ac_8ab5_11e8_b8d9_8c85903b2d4erow5_col2 {\n",
       "            background-color:  #ced0e6;\n",
       "        }    #T_ae5f98ac_8ab5_11e8_b8d9_8c85903b2d4erow5_col3 {\n",
       "            background-color:  #a2bcda;\n",
       "        }    #T_ae5f98ac_8ab5_11e8_b8d9_8c85903b2d4erow5_col4 {\n",
       "            background-color:  #fdf5fa;\n",
       "        }    #T_ae5f98ac_8ab5_11e8_b8d9_8c85903b2d4erow5_col5 {\n",
       "            background-color:  #023858;\n",
       "        }    #T_ae5f98ac_8ab5_11e8_b8d9_8c85903b2d4erow5_col6 {\n",
       "            background-color:  #f6eff7;\n",
       "        }    #T_ae5f98ac_8ab5_11e8_b8d9_8c85903b2d4erow5_col7 {\n",
       "            background-color:  #0c74b2;\n",
       "        }    #T_ae5f98ac_8ab5_11e8_b8d9_8c85903b2d4erow5_col8 {\n",
       "            background-color:  #ced0e6;\n",
       "        }    #T_ae5f98ac_8ab5_11e8_b8d9_8c85903b2d4erow5_col9 {\n",
       "            background-color:  #c1cae2;\n",
       "        }    #T_ae5f98ac_8ab5_11e8_b8d9_8c85903b2d4erow5_col10 {\n",
       "            background-color:  #fbf3f9;\n",
       "        }    #T_ae5f98ac_8ab5_11e8_b8d9_8c85903b2d4erow5_col11 {\n",
       "            background-color:  #d6d6e9;\n",
       "        }    #T_ae5f98ac_8ab5_11e8_b8d9_8c85903b2d4erow5_col12 {\n",
       "            background-color:  #bfc9e1;\n",
       "        }    #T_ae5f98ac_8ab5_11e8_b8d9_8c85903b2d4erow5_col13 {\n",
       "            background-color:  #bdc8e1;\n",
       "        }    #T_ae5f98ac_8ab5_11e8_b8d9_8c85903b2d4erow6_col0 {\n",
       "            background-color:  #f0eaf4;\n",
       "        }    #T_ae5f98ac_8ab5_11e8_b8d9_8c85903b2d4erow6_col1 {\n",
       "            background-color:  #dfddec;\n",
       "        }    #T_ae5f98ac_8ab5_11e8_b8d9_8c85903b2d4erow6_col2 {\n",
       "            background-color:  #f0eaf4;\n",
       "        }    #T_ae5f98ac_8ab5_11e8_b8d9_8c85903b2d4erow6_col3 {\n",
       "            background-color:  #f2ecf5;\n",
       "        }    #T_ae5f98ac_8ab5_11e8_b8d9_8c85903b2d4erow6_col4 {\n",
       "            background-color:  #056dab;\n",
       "        }    #T_ae5f98ac_8ab5_11e8_b8d9_8c85903b2d4erow6_col5 {\n",
       "            background-color:  #fdf5fa;\n",
       "        }    #T_ae5f98ac_8ab5_11e8_b8d9_8c85903b2d4erow6_col6 {\n",
       "            background-color:  #023858;\n",
       "        }    #T_ae5f98ac_8ab5_11e8_b8d9_8c85903b2d4erow6_col7 {\n",
       "            background-color:  #e4e1ef;\n",
       "        }    #T_ae5f98ac_8ab5_11e8_b8d9_8c85903b2d4erow6_col8 {\n",
       "            background-color:  #f4eef6;\n",
       "        }    #T_ae5f98ac_8ab5_11e8_b8d9_8c85903b2d4erow6_col9 {\n",
       "            background-color:  #f1ebf5;\n",
       "        }    #T_ae5f98ac_8ab5_11e8_b8d9_8c85903b2d4erow6_col10 {\n",
       "            background-color:  #308cbe;\n",
       "        }    #T_ae5f98ac_8ab5_11e8_b8d9_8c85903b2d4erow6_col11 {\n",
       "            background-color:  #c4cbe3;\n",
       "        }    #T_ae5f98ac_8ab5_11e8_b8d9_8c85903b2d4erow6_col12 {\n",
       "            background-color:  #f3edf5;\n",
       "        }    #T_ae5f98ac_8ab5_11e8_b8d9_8c85903b2d4erow6_col13 {\n",
       "            background-color:  #f4edf6;\n",
       "        }    #T_ae5f98ac_8ab5_11e8_b8d9_8c85903b2d4erow7_col0 {\n",
       "            background-color:  #e7e3f0;\n",
       "        }    #T_ae5f98ac_8ab5_11e8_b8d9_8c85903b2d4erow7_col1 {\n",
       "            background-color:  #e8e4f0;\n",
       "        }    #T_ae5f98ac_8ab5_11e8_b8d9_8c85903b2d4erow7_col2 {\n",
       "            background-color:  #efe9f3;\n",
       "        }    #T_ae5f98ac_8ab5_11e8_b8d9_8c85903b2d4erow7_col3 {\n",
       "            background-color:  #dedcec;\n",
       "        }    #T_ae5f98ac_8ab5_11e8_b8d9_8c85903b2d4erow7_col4 {\n",
       "            background-color:  #fff7fb;\n",
       "        }    #T_ae5f98ac_8ab5_11e8_b8d9_8c85903b2d4erow7_col5 {\n",
       "            background-color:  #167bb6;\n",
       "        }    #T_ae5f98ac_8ab5_11e8_b8d9_8c85903b2d4erow7_col6 {\n",
       "            background-color:  #eee8f3;\n",
       "        }    #T_ae5f98ac_8ab5_11e8_b8d9_8c85903b2d4erow7_col7 {\n",
       "            background-color:  #023858;\n",
       "        }    #T_ae5f98ac_8ab5_11e8_b8d9_8c85903b2d4erow7_col8 {\n",
       "            background-color:  #ede8f3;\n",
       "        }    #T_ae5f98ac_8ab5_11e8_b8d9_8c85903b2d4erow7_col9 {\n",
       "            background-color:  #eae6f1;\n",
       "        }    #T_ae5f98ac_8ab5_11e8_b8d9_8c85903b2d4erow7_col10 {\n",
       "            background-color:  #fdf5fa;\n",
       "        }    #T_ae5f98ac_8ab5_11e8_b8d9_8c85903b2d4erow7_col11 {\n",
       "            background-color:  #c8cde4;\n",
       "        }    #T_ae5f98ac_8ab5_11e8_b8d9_8c85903b2d4erow7_col12 {\n",
       "            background-color:  #e8e4f0;\n",
       "        }    #T_ae5f98ac_8ab5_11e8_b8d9_8c85903b2d4erow7_col13 {\n",
       "            background-color:  #e7e3f0;\n",
       "        }    #T_ae5f98ac_8ab5_11e8_b8d9_8c85903b2d4erow8_col0 {\n",
       "            background-color:  #1b7eb7;\n",
       "        }    #T_ae5f98ac_8ab5_11e8_b8d9_8c85903b2d4erow8_col1 {\n",
       "            background-color:  #b0c2de;\n",
       "        }    #T_ae5f98ac_8ab5_11e8_b8d9_8c85903b2d4erow8_col2 {\n",
       "            background-color:  #d3d4e7;\n",
       "        }    #T_ae5f98ac_8ab5_11e8_b8d9_8c85903b2d4erow8_col3 {\n",
       "            background-color:  #6ba5cd;\n",
       "        }    #T_ae5f98ac_8ab5_11e8_b8d9_8c85903b2d4erow8_col4 {\n",
       "            background-color:  #fef6fa;\n",
       "        }    #T_ae5f98ac_8ab5_11e8_b8d9_8c85903b2d4erow8_col5 {\n",
       "            background-color:  #dbdaeb;\n",
       "        }    #T_ae5f98ac_8ab5_11e8_b8d9_8c85903b2d4erow8_col6 {\n",
       "            background-color:  #f7f0f7;\n",
       "        }    #T_ae5f98ac_8ab5_11e8_b8d9_8c85903b2d4erow8_col7 {\n",
       "            background-color:  #e7e3f0;\n",
       "        }    #T_ae5f98ac_8ab5_11e8_b8d9_8c85903b2d4erow8_col8 {\n",
       "            background-color:  #023858;\n",
       "        }    #T_ae5f98ac_8ab5_11e8_b8d9_8c85903b2d4erow8_col9 {\n",
       "            background-color:  #348ebf;\n",
       "        }    #T_ae5f98ac_8ab5_11e8_b8d9_8c85903b2d4erow8_col10 {\n",
       "            background-color:  #fbf4f9;\n",
       "        }    #T_ae5f98ac_8ab5_11e8_b8d9_8c85903b2d4erow8_col11 {\n",
       "            background-color:  #e2dfee;\n",
       "        }    #T_ae5f98ac_8ab5_11e8_b8d9_8c85903b2d4erow8_col12 {\n",
       "            background-color:  #1b7eb7;\n",
       "        }    #T_ae5f98ac_8ab5_11e8_b8d9_8c85903b2d4erow8_col13 {\n",
       "            background-color:  #2081b9;\n",
       "        }    #T_ae5f98ac_8ab5_11e8_b8d9_8c85903b2d4erow9_col0 {\n",
       "            background-color:  #034871;\n",
       "        }    #T_ae5f98ac_8ab5_11e8_b8d9_8c85903b2d4erow9_col1 {\n",
       "            background-color:  #9ebad9;\n",
       "        }    #T_ae5f98ac_8ab5_11e8_b8d9_8c85903b2d4erow9_col2 {\n",
       "            background-color:  #89b1d4;\n",
       "        }    #T_ae5f98ac_8ab5_11e8_b8d9_8c85903b2d4erow9_col3 {\n",
       "            background-color:  #0568a3;\n",
       "        }    #T_ae5f98ac_8ab5_11e8_b8d9_8c85903b2d4erow9_col4 {\n",
       "            background-color:  #fef6fb;\n",
       "        }    #T_ae5f98ac_8ab5_11e8_b8d9_8c85903b2d4erow9_col5 {\n",
       "            background-color:  #d8d7e9;\n",
       "        }    #T_ae5f98ac_8ab5_11e8_b8d9_8c85903b2d4erow9_col6 {\n",
       "            background-color:  #faf2f8;\n",
       "        }    #T_ae5f98ac_8ab5_11e8_b8d9_8c85903b2d4erow9_col7 {\n",
       "            background-color:  #eae6f1;\n",
       "        }    #T_ae5f98ac_8ab5_11e8_b8d9_8c85903b2d4erow9_col8 {\n",
       "            background-color:  #3991c1;\n",
       "        }    #T_ae5f98ac_8ab5_11e8_b8d9_8c85903b2d4erow9_col9 {\n",
       "            background-color:  #023858;\n",
       "        }    #T_ae5f98ac_8ab5_11e8_b8d9_8c85903b2d4erow9_col10 {\n",
       "            background-color:  #fcf4fa;\n",
       "        }    #T_ae5f98ac_8ab5_11e8_b8d9_8c85903b2d4erow9_col11 {\n",
       "            background-color:  #e9e5f1;\n",
       "        }    #T_ae5f98ac_8ab5_11e8_b8d9_8c85903b2d4erow9_col12 {\n",
       "            background-color:  #04639b;\n",
       "        }    #T_ae5f98ac_8ab5_11e8_b8d9_8c85903b2d4erow9_col13 {\n",
       "            background-color:  #04649d;\n",
       "        }    #T_ae5f98ac_8ab5_11e8_b8d9_8c85903b2d4erow10_col0 {\n",
       "            background-color:  #ece7f2;\n",
       "        }    #T_ae5f98ac_8ab5_11e8_b8d9_8c85903b2d4erow10_col1 {\n",
       "            background-color:  #c4cbe3;\n",
       "        }    #T_ae5f98ac_8ab5_11e8_b8d9_8c85903b2d4erow10_col2 {\n",
       "            background-color:  #e5e1ef;\n",
       "        }    #T_ae5f98ac_8ab5_11e8_b8d9_8c85903b2d4erow10_col3 {\n",
       "            background-color:  #ece7f2;\n",
       "        }    #T_ae5f98ac_8ab5_11e8_b8d9_8c85903b2d4erow10_col4 {\n",
       "            background-color:  #3b92c1;\n",
       "        }    #T_ae5f98ac_8ab5_11e8_b8d9_8c85903b2d4erow10_col5 {\n",
       "            background-color:  #fbf4f9;\n",
       "        }    #T_ae5f98ac_8ab5_11e8_b8d9_8c85903b2d4erow10_col6 {\n",
       "            background-color:  #2a88bc;\n",
       "        }    #T_ae5f98ac_8ab5_11e8_b8d9_8c85903b2d4erow10_col7 {\n",
       "            background-color:  #eee9f3;\n",
       "        }    #T_ae5f98ac_8ab5_11e8_b8d9_8c85903b2d4erow10_col8 {\n",
       "            background-color:  #f2ecf5;\n",
       "        }    #T_ae5f98ac_8ab5_11e8_b8d9_8c85903b2d4erow10_col9 {\n",
       "            background-color:  #eee8f3;\n",
       "        }    #T_ae5f98ac_8ab5_11e8_b8d9_8c85903b2d4erow10_col10 {\n",
       "            background-color:  #023858;\n",
       "        }    #T_ae5f98ac_8ab5_11e8_b8d9_8c85903b2d4erow10_col11 {\n",
       "            background-color:  #d7d6e9;\n",
       "        }    #T_ae5f98ac_8ab5_11e8_b8d9_8c85903b2d4erow10_col12 {\n",
       "            background-color:  #efe9f3;\n",
       "        }    #T_ae5f98ac_8ab5_11e8_b8d9_8c85903b2d4erow10_col13 {\n",
       "            background-color:  #f0eaf4;\n",
       "        }    #T_ae5f98ac_8ab5_11e8_b8d9_8c85903b2d4erow11_col0 {\n",
       "            background-color:  #fff7fb;\n",
       "        }    #T_ae5f98ac_8ab5_11e8_b8d9_8c85903b2d4erow11_col1 {\n",
       "            background-color:  #fff7fb;\n",
       "        }    #T_ae5f98ac_8ab5_11e8_b8d9_8c85903b2d4erow11_col2 {\n",
       "            background-color:  #fff7fb;\n",
       "        }    #T_ae5f98ac_8ab5_11e8_b8d9_8c85903b2d4erow11_col3 {\n",
       "            background-color:  #fff7fb;\n",
       "        }    #T_ae5f98ac_8ab5_11e8_b8d9_8c85903b2d4erow11_col4 {\n",
       "            background-color:  #f9f2f8;\n",
       "        }    #T_ae5f98ac_8ab5_11e8_b8d9_8c85903b2d4erow11_col5 {\n",
       "            background-color:  #fff7fb;\n",
       "        }    #T_ae5f98ac_8ab5_11e8_b8d9_8c85903b2d4erow11_col6 {\n",
       "            background-color:  #ede7f2;\n",
       "        }    #T_ae5f98ac_8ab5_11e8_b8d9_8c85903b2d4erow11_col7 {\n",
       "            background-color:  #e6e2ef;\n",
       "        }    #T_ae5f98ac_8ab5_11e8_b8d9_8c85903b2d4erow11_col8 {\n",
       "            background-color:  #fff7fb;\n",
       "        }    #T_ae5f98ac_8ab5_11e8_b8d9_8c85903b2d4erow11_col9 {\n",
       "            background-color:  #fff7fb;\n",
       "        }    #T_ae5f98ac_8ab5_11e8_b8d9_8c85903b2d4erow11_col10 {\n",
       "            background-color:  #fff7fb;\n",
       "        }    #T_ae5f98ac_8ab5_11e8_b8d9_8c85903b2d4erow11_col11 {\n",
       "            background-color:  #023858;\n",
       "        }    #T_ae5f98ac_8ab5_11e8_b8d9_8c85903b2d4erow11_col12 {\n",
       "            background-color:  #fff7fb;\n",
       "        }    #T_ae5f98ac_8ab5_11e8_b8d9_8c85903b2d4erow11_col13 {\n",
       "            background-color:  #fff7fb;\n",
       "        }    #T_ae5f98ac_8ab5_11e8_b8d9_8c85903b2d4erow12_col0 {\n",
       "            background-color:  #046097;\n",
       "        }    #T_ae5f98ac_8ab5_11e8_b8d9_8c85903b2d4erow12_col1 {\n",
       "            background-color:  #96b6d7;\n",
       "        }    #T_ae5f98ac_8ab5_11e8_b8d9_8c85903b2d4erow12_col2 {\n",
       "            background-color:  #c4cbe3;\n",
       "        }    #T_ae5f98ac_8ab5_11e8_b8d9_8c85903b2d4erow12_col3 {\n",
       "            background-color:  #056faf;\n",
       "        }    #T_ae5f98ac_8ab5_11e8_b8d9_8c85903b2d4erow12_col4 {\n",
       "            background-color:  #fdf5fa;\n",
       "        }    #T_ae5f98ac_8ab5_11e8_b8d9_8c85903b2d4erow12_col5 {\n",
       "            background-color:  #d2d3e7;\n",
       "        }    #T_ae5f98ac_8ab5_11e8_b8d9_8c85903b2d4erow12_col6 {\n",
       "            background-color:  #f8f1f8;\n",
       "        }    #T_ae5f98ac_8ab5_11e8_b8d9_8c85903b2d4erow12_col7 {\n",
       "            background-color:  #e6e2ef;\n",
       "        }    #T_ae5f98ac_8ab5_11e8_b8d9_8c85903b2d4erow12_col8 {\n",
       "            background-color:  #1c7fb8;\n",
       "        }    #T_ae5f98ac_8ab5_11e8_b8d9_8c85903b2d4erow12_col9 {\n",
       "            background-color:  #04639b;\n",
       "        }    #T_ae5f98ac_8ab5_11e8_b8d9_8c85903b2d4erow12_col10 {\n",
       "            background-color:  #fbf3f9;\n",
       "        }    #T_ae5f98ac_8ab5_11e8_b8d9_8c85903b2d4erow12_col11 {\n",
       "            background-color:  #e6e2ef;\n",
       "        }    #T_ae5f98ac_8ab5_11e8_b8d9_8c85903b2d4erow12_col12 {\n",
       "            background-color:  #023858;\n",
       "        }    #T_ae5f98ac_8ab5_11e8_b8d9_8c85903b2d4erow12_col13 {\n",
       "            background-color:  #02395a;\n",
       "        }    #T_ae5f98ac_8ab5_11e8_b8d9_8c85903b2d4erow13_col0 {\n",
       "            background-color:  #046198;\n",
       "        }    #T_ae5f98ac_8ab5_11e8_b8d9_8c85903b2d4erow13_col1 {\n",
       "            background-color:  #97b7d7;\n",
       "        }    #T_ae5f98ac_8ab5_11e8_b8d9_8c85903b2d4erow13_col2 {\n",
       "            background-color:  #c5cce3;\n",
       "        }    #T_ae5f98ac_8ab5_11e8_b8d9_8c85903b2d4erow13_col3 {\n",
       "            background-color:  #056ead;\n",
       "        }    #T_ae5f98ac_8ab5_11e8_b8d9_8c85903b2d4erow13_col4 {\n",
       "            background-color:  #fdf5fa;\n",
       "        }    #T_ae5f98ac_8ab5_11e8_b8d9_8c85903b2d4erow13_col5 {\n",
       "            background-color:  #d1d2e6;\n",
       "        }    #T_ae5f98ac_8ab5_11e8_b8d9_8c85903b2d4erow13_col6 {\n",
       "            background-color:  #f9f2f8;\n",
       "        }    #T_ae5f98ac_8ab5_11e8_b8d9_8c85903b2d4erow13_col7 {\n",
       "            background-color:  #e4e1ef;\n",
       "        }    #T_ae5f98ac_8ab5_11e8_b8d9_8c85903b2d4erow13_col8 {\n",
       "            background-color:  #2182b9;\n",
       "        }    #T_ae5f98ac_8ab5_11e8_b8d9_8c85903b2d4erow13_col9 {\n",
       "            background-color:  #04639b;\n",
       "        }    #T_ae5f98ac_8ab5_11e8_b8d9_8c85903b2d4erow13_col10 {\n",
       "            background-color:  #fbf3f9;\n",
       "        }    #T_ae5f98ac_8ab5_11e8_b8d9_8c85903b2d4erow13_col11 {\n",
       "            background-color:  #e5e1ef;\n",
       "        }    #T_ae5f98ac_8ab5_11e8_b8d9_8c85903b2d4erow13_col12 {\n",
       "            background-color:  #02395a;\n",
       "        }    #T_ae5f98ac_8ab5_11e8_b8d9_8c85903b2d4erow13_col13 {\n",
       "            background-color:  #023858;\n",
       "        }</style>  \n",
       "<table id=\"T_ae5f98ac_8ab5_11e8_b8d9_8c85903b2d4e\" > \n",
       "<thead>    <tr> \n",
       "        <th class=\"blank level0\" ></th> \n",
       "        <th class=\"col_heading level0 col0\" >id_resp_h_num</th> \n",
       "        <th class=\"col_heading level0 col1\" >proto_num</th> \n",
       "        <th class=\"col_heading level0 col2\" >conn_state_num</th> \n",
       "        <th class=\"col_heading level0 col3\" >history_num</th> \n",
       "        <th class=\"col_heading level0 col4\" >orig_bt_sum</th> \n",
       "        <th class=\"col_heading level0 col5\" >resp_bt_sum</th> \n",
       "        <th class=\"col_heading level0 col6\" >orig_bt_std</th> \n",
       "        <th class=\"col_heading level0 col7\" >resp_bt_std</th> \n",
       "        <th class=\"col_heading level0 col8\" >uri_num</th> \n",
       "        <th class=\"col_heading level0 col9\" >query_num</th> \n",
       "        <th class=\"col_heading level0 col10\" >up_down</th> \n",
       "        <th class=\"col_heading level0 col11\" >SAX_resp_ham</th> \n",
       "        <th class=\"col_heading level0 col12\" >O</th> \n",
       "        <th class=\"col_heading level0 col13\" >OU</th> \n",
       "    </tr></thead> \n",
       "<tbody>    <tr> \n",
       "        <th id=\"T_ae5f98ac_8ab5_11e8_b8d9_8c85903b2d4elevel0_row0\" class=\"row_heading level0 row0\" >id_resp_h_num</th> \n",
       "        <td id=\"T_ae5f98ac_8ab5_11e8_b8d9_8c85903b2d4erow0_col0\" class=\"data row0 col0\" >1</td> \n",
       "        <td id=\"T_ae5f98ac_8ab5_11e8_b8d9_8c85903b2d4erow0_col1\" class=\"data row0 col1\" >0.21</td> \n",
       "        <td id=\"T_ae5f98ac_8ab5_11e8_b8d9_8c85903b2d4erow0_col2\" class=\"data row0 col2\" >0.38</td> \n",
       "        <td id=\"T_ae5f98ac_8ab5_11e8_b8d9_8c85903b2d4erow0_col3\" class=\"data row0 col3\" >0.8</td> \n",
       "        <td id=\"T_ae5f98ac_8ab5_11e8_b8d9_8c85903b2d4erow0_col4\" class=\"data row0 col4\" >-0.0047</td> \n",
       "        <td id=\"T_ae5f98ac_8ab5_11e8_b8d9_8c85903b2d4erow0_col5\" class=\"data row0 col5\" >0.23</td> \n",
       "        <td id=\"T_ae5f98ac_8ab5_11e8_b8d9_8c85903b2d4erow0_col6\" class=\"data row0 col6\" >-0.037</td> \n",
       "        <td id=\"T_ae5f98ac_8ab5_11e8_b8d9_8c85903b2d4erow0_col7\" class=\"data row0 col7\" >0.023</td> \n",
       "        <td id=\"T_ae5f98ac_8ab5_11e8_b8d9_8c85903b2d4erow0_col8\" class=\"data row0 col8\" >0.65</td> \n",
       "        <td id=\"T_ae5f98ac_8ab5_11e8_b8d9_8c85903b2d4erow0_col9\" class=\"data row0 col9\" >0.93</td> \n",
       "        <td id=\"T_ae5f98ac_8ab5_11e8_b8d9_8c85903b2d4erow0_col10\" class=\"data row0 col10\" >-0.0079</td> \n",
       "        <td id=\"T_ae5f98ac_8ab5_11e8_b8d9_8c85903b2d4erow0_col11\" class=\"data row0 col11\" >-0.15</td> \n",
       "        <td id=\"T_ae5f98ac_8ab5_11e8_b8d9_8c85903b2d4erow0_col12\" class=\"data row0 col12\" >0.81</td> \n",
       "        <td id=\"T_ae5f98ac_8ab5_11e8_b8d9_8c85903b2d4erow0_col13\" class=\"data row0 col13\" >0.81</td> \n",
       "    </tr>    <tr> \n",
       "        <th id=\"T_ae5f98ac_8ab5_11e8_b8d9_8c85903b2d4elevel0_row1\" class=\"row_heading level0 row1\" >proto_num</th> \n",
       "        <td id=\"T_ae5f98ac_8ab5_11e8_b8d9_8c85903b2d4erow1_col0\" class=\"data row1 col0\" >0.21</td> \n",
       "        <td id=\"T_ae5f98ac_8ab5_11e8_b8d9_8c85903b2d4erow1_col1\" class=\"data row1 col1\" >1</td> \n",
       "        <td id=\"T_ae5f98ac_8ab5_11e8_b8d9_8c85903b2d4erow1_col2\" class=\"data row1 col2\" >0.54</td> \n",
       "        <td id=\"T_ae5f98ac_8ab5_11e8_b8d9_8c85903b2d4erow1_col3\" class=\"data row1 col3\" >0.41</td> \n",
       "        <td id=\"T_ae5f98ac_8ab5_11e8_b8d9_8c85903b2d4erow1_col4\" class=\"data row1 col4\" >0.064</td> \n",
       "        <td id=\"T_ae5f98ac_8ab5_11e8_b8d9_8c85903b2d4erow1_col5\" class=\"data row1 col5\" >0.09</td> \n",
       "        <td id=\"T_ae5f98ac_8ab5_11e8_b8d9_8c85903b2d4erow1_col6\" class=\"data row1 col6\" >-0.082</td> \n",
       "        <td id=\"T_ae5f98ac_8ab5_11e8_b8d9_8c85903b2d4erow1_col7\" class=\"data row1 col7\" >-0.14</td> \n",
       "        <td id=\"T_ae5f98ac_8ab5_11e8_b8d9_8c85903b2d4erow1_col8\" class=\"data row1 col8\" >0.13</td> \n",
       "        <td id=\"T_ae5f98ac_8ab5_11e8_b8d9_8c85903b2d4erow1_col9\" class=\"data row1 col9\" >0.2</td> \n",
       "        <td id=\"T_ae5f98ac_8ab5_11e8_b8d9_8c85903b2d4erow1_col10\" class=\"data row1 col10\" >0.05</td> \n",
       "        <td id=\"T_ae5f98ac_8ab5_11e8_b8d9_8c85903b2d4erow1_col11\" class=\"data row1 col11\" >-0.33</td> \n",
       "        <td id=\"T_ae5f98ac_8ab5_11e8_b8d9_8c85903b2d4erow1_col12\" class=\"data row1 col12\" >0.22</td> \n",
       "        <td id=\"T_ae5f98ac_8ab5_11e8_b8d9_8c85903b2d4erow1_col13\" class=\"data row1 col13\" >0.22</td> \n",
       "    </tr>    <tr> \n",
       "        <th id=\"T_ae5f98ac_8ab5_11e8_b8d9_8c85903b2d4elevel0_row2\" class=\"row_heading level0 row2\" >conn_state_num</th> \n",
       "        <td id=\"T_ae5f98ac_8ab5_11e8_b8d9_8c85903b2d4erow2_col0\" class=\"data row2 col0\" >0.38</td> \n",
       "        <td id=\"T_ae5f98ac_8ab5_11e8_b8d9_8c85903b2d4erow2_col1\" class=\"data row2 col1\" >0.54</td> \n",
       "        <td id=\"T_ae5f98ac_8ab5_11e8_b8d9_8c85903b2d4erow2_col2\" class=\"data row2 col2\" >1</td> \n",
       "        <td id=\"T_ae5f98ac_8ab5_11e8_b8d9_8c85903b2d4erow2_col3\" class=\"data row2 col3\" >0.62</td> \n",
       "        <td id=\"T_ae5f98ac_8ab5_11e8_b8d9_8c85903b2d4erow2_col4\" class=\"data row2 col4\" >0.0098</td> \n",
       "        <td id=\"T_ae5f98ac_8ab5_11e8_b8d9_8c85903b2d4erow2_col5\" class=\"data row2 col5\" >0.12</td> \n",
       "        <td id=\"T_ae5f98ac_8ab5_11e8_b8d9_8c85903b2d4erow2_col6\" class=\"data row2 col6\" >-0.066</td> \n",
       "        <td id=\"T_ae5f98ac_8ab5_11e8_b8d9_8c85903b2d4erow2_col7\" class=\"data row2 col7\" >-0.055</td> \n",
       "        <td id=\"T_ae5f98ac_8ab5_11e8_b8d9_8c85903b2d4erow2_col8\" class=\"data row2 col8\" >0.099</td> \n",
       "        <td id=\"T_ae5f98ac_8ab5_11e8_b8d9_8c85903b2d4erow2_col9\" class=\"data row2 col9\" >0.35</td> \n",
       "        <td id=\"T_ae5f98ac_8ab5_11e8_b8d9_8c85903b2d4erow2_col10\" class=\"data row2 col10\" >0.0039</td> \n",
       "        <td id=\"T_ae5f98ac_8ab5_11e8_b8d9_8c85903b2d4erow2_col11\" class=\"data row2 col11\" >-0.18</td> \n",
       "        <td id=\"T_ae5f98ac_8ab5_11e8_b8d9_8c85903b2d4erow2_col12\" class=\"data row2 col12\" >0.16</td> \n",
       "        <td id=\"T_ae5f98ac_8ab5_11e8_b8d9_8c85903b2d4erow2_col13\" class=\"data row2 col13\" >0.15</td> \n",
       "    </tr>    <tr> \n",
       "        <th id=\"T_ae5f98ac_8ab5_11e8_b8d9_8c85903b2d4elevel0_row3\" class=\"row_heading level0 row3\" >history_num</th> \n",
       "        <td id=\"T_ae5f98ac_8ab5_11e8_b8d9_8c85903b2d4erow3_col0\" class=\"data row3 col0\" >0.8</td> \n",
       "        <td id=\"T_ae5f98ac_8ab5_11e8_b8d9_8c85903b2d4erow3_col1\" class=\"data row3 col1\" >0.41</td> \n",
       "        <td id=\"T_ae5f98ac_8ab5_11e8_b8d9_8c85903b2d4erow3_col2\" class=\"data row3 col2\" >0.62</td> \n",
       "        <td id=\"T_ae5f98ac_8ab5_11e8_b8d9_8c85903b2d4erow3_col3\" class=\"data row3 col3\" >1</td> \n",
       "        <td id=\"T_ae5f98ac_8ab5_11e8_b8d9_8c85903b2d4erow3_col4\" class=\"data row3 col4\" >0.0087</td> \n",
       "        <td id=\"T_ae5f98ac_8ab5_11e8_b8d9_8c85903b2d4erow3_col5\" class=\"data row3 col5\" >0.29</td> \n",
       "        <td id=\"T_ae5f98ac_8ab5_11e8_b8d9_8c85903b2d4erow3_col6\" class=\"data row3 col6\" >-0.052</td> \n",
       "        <td id=\"T_ae5f98ac_8ab5_11e8_b8d9_8c85903b2d4erow3_col7\" class=\"data row3 col7\" >0.069</td> \n",
       "        <td id=\"T_ae5f98ac_8ab5_11e8_b8d9_8c85903b2d4erow3_col8\" class=\"data row3 col8\" >0.45</td> \n",
       "        <td id=\"T_ae5f98ac_8ab5_11e8_b8d9_8c85903b2d4erow3_col9\" class=\"data row3 col9\" >0.76</td> \n",
       "        <td id=\"T_ae5f98ac_8ab5_11e8_b8d9_8c85903b2d4erow3_col10\" class=\"data row3 col10\" >-0.00065</td> \n",
       "        <td id=\"T_ae5f98ac_8ab5_11e8_b8d9_8c85903b2d4erow3_col11\" class=\"data row3 col11\" >-0.15</td> \n",
       "        <td id=\"T_ae5f98ac_8ab5_11e8_b8d9_8c85903b2d4erow3_col12\" class=\"data row3 col12\" >0.71</td> \n",
       "        <td id=\"T_ae5f98ac_8ab5_11e8_b8d9_8c85903b2d4erow3_col13\" class=\"data row3 col13\" >0.73</td> \n",
       "    </tr>    <tr> \n",
       "        <th id=\"T_ae5f98ac_8ab5_11e8_b8d9_8c85903b2d4elevel0_row4\" class=\"row_heading level0 row4\" >orig_bt_sum</th> \n",
       "        <td id=\"T_ae5f98ac_8ab5_11e8_b8d9_8c85903b2d4erow4_col0\" class=\"data row4 col0\" >-0.0047</td> \n",
       "        <td id=\"T_ae5f98ac_8ab5_11e8_b8d9_8c85903b2d4erow4_col1\" class=\"data row4 col1\" >0.064</td> \n",
       "        <td id=\"T_ae5f98ac_8ab5_11e8_b8d9_8c85903b2d4erow4_col2\" class=\"data row4 col2\" >0.0098</td> \n",
       "        <td id=\"T_ae5f98ac_8ab5_11e8_b8d9_8c85903b2d4erow4_col3\" class=\"data row4 col3\" >0.0087</td> \n",
       "        <td id=\"T_ae5f98ac_8ab5_11e8_b8d9_8c85903b2d4erow4_col4\" class=\"data row4 col4\" >1</td> \n",
       "        <td id=\"T_ae5f98ac_8ab5_11e8_b8d9_8c85903b2d4erow4_col5\" class=\"data row4 col5\" >-0.0058</td> \n",
       "        <td id=\"T_ae5f98ac_8ab5_11e8_b8d9_8c85903b2d4erow4_col6\" class=\"data row4 col6\" >0.77</td> \n",
       "        <td id=\"T_ae5f98ac_8ab5_11e8_b8d9_8c85903b2d4erow4_col7\" class=\"data row4 col7\" >-0.019</td> \n",
       "        <td id=\"T_ae5f98ac_8ab5_11e8_b8d9_8c85903b2d4erow4_col8\" class=\"data row4 col8\" >-0.0071</td> \n",
       "        <td id=\"T_ae5f98ac_8ab5_11e8_b8d9_8c85903b2d4erow4_col9\" class=\"data row4 col9\" >-0.011</td> \n",
       "        <td id=\"T_ae5f98ac_8ab5_11e8_b8d9_8c85903b2d4erow4_col10\" class=\"data row4 col10\" >0.61</td> \n",
       "        <td id=\"T_ae5f98ac_8ab5_11e8_b8d9_8c85903b2d4erow4_col11\" class=\"data row4 col11\" >0.023</td> \n",
       "        <td id=\"T_ae5f98ac_8ab5_11e8_b8d9_8c85903b2d4erow4_col12\" class=\"data row4 col12\" >-0.00017</td> \n",
       "        <td id=\"T_ae5f98ac_8ab5_11e8_b8d9_8c85903b2d4erow4_col13\" class=\"data row4 col13\" >-0.0046</td> \n",
       "    </tr>    <tr> \n",
       "        <th id=\"T_ae5f98ac_8ab5_11e8_b8d9_8c85903b2d4elevel0_row5\" class=\"row_heading level0 row5\" >resp_bt_sum</th> \n",
       "        <td id=\"T_ae5f98ac_8ab5_11e8_b8d9_8c85903b2d4erow5_col0\" class=\"data row5 col0\" >0.23</td> \n",
       "        <td id=\"T_ae5f98ac_8ab5_11e8_b8d9_8c85903b2d4erow5_col1\" class=\"data row5 col1\" >0.09</td> \n",
       "        <td id=\"T_ae5f98ac_8ab5_11e8_b8d9_8c85903b2d4erow5_col2\" class=\"data row5 col2\" >0.12</td> \n",
       "        <td id=\"T_ae5f98ac_8ab5_11e8_b8d9_8c85903b2d4erow5_col3\" class=\"data row5 col3\" >0.29</td> \n",
       "        <td id=\"T_ae5f98ac_8ab5_11e8_b8d9_8c85903b2d4erow5_col4\" class=\"data row5 col4\" >-0.0058</td> \n",
       "        <td id=\"T_ae5f98ac_8ab5_11e8_b8d9_8c85903b2d4erow5_col5\" class=\"data row5 col5\" >1</td> \n",
       "        <td id=\"T_ae5f98ac_8ab5_11e8_b8d9_8c85903b2d4erow5_col6\" class=\"data row5 col6\" >-0.018</td> \n",
       "        <td id=\"T_ae5f98ac_8ab5_11e8_b8d9_8c85903b2d4erow5_col7\" class=\"data row5 col7\" >0.69</td> \n",
       "        <td id=\"T_ae5f98ac_8ab5_11e8_b8d9_8c85903b2d4erow5_col8\" class=\"data row5 col8\" >0.18</td> \n",
       "        <td id=\"T_ae5f98ac_8ab5_11e8_b8d9_8c85903b2d4erow5_col9\" class=\"data row5 col9\" >0.19</td> \n",
       "        <td id=\"T_ae5f98ac_8ab5_11e8_b8d9_8c85903b2d4erow5_col10\" class=\"data row5 col10\" >-0.0053</td> \n",
       "        <td id=\"T_ae5f98ac_8ab5_11e8_b8d9_8c85903b2d4erow5_col11\" class=\"data row5 col11\" >-0.032</td> \n",
       "        <td id=\"T_ae5f98ac_8ab5_11e8_b8d9_8c85903b2d4erow5_col12\" class=\"data row5 col12\" >0.22</td> \n",
       "        <td id=\"T_ae5f98ac_8ab5_11e8_b8d9_8c85903b2d4erow5_col13\" class=\"data row5 col13\" >0.22</td> \n",
       "    </tr>    <tr> \n",
       "        <th id=\"T_ae5f98ac_8ab5_11e8_b8d9_8c85903b2d4elevel0_row6\" class=\"row_heading level0 row6\" >orig_bt_std</th> \n",
       "        <td id=\"T_ae5f98ac_8ab5_11e8_b8d9_8c85903b2d4erow6_col0\" class=\"data row6 col0\" >-0.037</td> \n",
       "        <td id=\"T_ae5f98ac_8ab5_11e8_b8d9_8c85903b2d4erow6_col1\" class=\"data row6 col1\" >-0.082</td> \n",
       "        <td id=\"T_ae5f98ac_8ab5_11e8_b8d9_8c85903b2d4erow6_col2\" class=\"data row6 col2\" >-0.066</td> \n",
       "        <td id=\"T_ae5f98ac_8ab5_11e8_b8d9_8c85903b2d4erow6_col3\" class=\"data row6 col3\" >-0.052</td> \n",
       "        <td id=\"T_ae5f98ac_8ab5_11e8_b8d9_8c85903b2d4erow6_col4\" class=\"data row6 col4\" >0.77</td> \n",
       "        <td id=\"T_ae5f98ac_8ab5_11e8_b8d9_8c85903b2d4erow6_col5\" class=\"data row6 col5\" >-0.018</td> \n",
       "        <td id=\"T_ae5f98ac_8ab5_11e8_b8d9_8c85903b2d4erow6_col6\" class=\"data row6 col6\" >1</td> \n",
       "        <td id=\"T_ae5f98ac_8ab5_11e8_b8d9_8c85903b2d4erow6_col7\" class=\"data row6 col7\" >0.042</td> \n",
       "        <td id=\"T_ae5f98ac_8ab5_11e8_b8d9_8c85903b2d4erow6_col8\" class=\"data row6 col8\" >-0.027</td> \n",
       "        <td id=\"T_ae5f98ac_8ab5_11e8_b8d9_8c85903b2d4erow6_col9\" class=\"data row6 col9\" >-0.043</td> \n",
       "        <td id=\"T_ae5f98ac_8ab5_11e8_b8d9_8c85903b2d4erow6_col10\" class=\"data row6 col10\" >0.63</td> \n",
       "        <td id=\"T_ae5f98ac_8ab5_11e8_b8d9_8c85903b2d4erow6_col11\" class=\"data row6 col11\" >0.052</td> \n",
       "        <td id=\"T_ae5f98ac_8ab5_11e8_b8d9_8c85903b2d4erow6_col12\" class=\"data row6 col12\" >-0.033</td> \n",
       "        <td id=\"T_ae5f98ac_8ab5_11e8_b8d9_8c85903b2d4erow6_col13\" class=\"data row6 col13\" >-0.036</td> \n",
       "    </tr>    <tr> \n",
       "        <th id=\"T_ae5f98ac_8ab5_11e8_b8d9_8c85903b2d4elevel0_row7\" class=\"row_heading level0 row7\" >resp_bt_std</th> \n",
       "        <td id=\"T_ae5f98ac_8ab5_11e8_b8d9_8c85903b2d4erow7_col0\" class=\"data row7 col0\" >0.023</td> \n",
       "        <td id=\"T_ae5f98ac_8ab5_11e8_b8d9_8c85903b2d4erow7_col1\" class=\"data row7 col1\" >-0.14</td> \n",
       "        <td id=\"T_ae5f98ac_8ab5_11e8_b8d9_8c85903b2d4erow7_col2\" class=\"data row7 col2\" >-0.055</td> \n",
       "        <td id=\"T_ae5f98ac_8ab5_11e8_b8d9_8c85903b2d4erow7_col3\" class=\"data row7 col3\" >0.069</td> \n",
       "        <td id=\"T_ae5f98ac_8ab5_11e8_b8d9_8c85903b2d4erow7_col4\" class=\"data row7 col4\" >-0.019</td> \n",
       "        <td id=\"T_ae5f98ac_8ab5_11e8_b8d9_8c85903b2d4erow7_col5\" class=\"data row7 col5\" >0.69</td> \n",
       "        <td id=\"T_ae5f98ac_8ab5_11e8_b8d9_8c85903b2d4erow7_col6\" class=\"data row7 col6\" >0.042</td> \n",
       "        <td id=\"T_ae5f98ac_8ab5_11e8_b8d9_8c85903b2d4erow7_col7\" class=\"data row7 col7\" >1</td> \n",
       "        <td id=\"T_ae5f98ac_8ab5_11e8_b8d9_8c85903b2d4erow7_col8\" class=\"data row7 col8\" >0.024</td> \n",
       "        <td id=\"T_ae5f98ac_8ab5_11e8_b8d9_8c85903b2d4erow7_col9\" class=\"data row7 col9\" >0.01</td> \n",
       "        <td id=\"T_ae5f98ac_8ab5_11e8_b8d9_8c85903b2d4erow7_col10\" class=\"data row7 col10\" >-0.015</td> \n",
       "        <td id=\"T_ae5f98ac_8ab5_11e8_b8d9_8c85903b2d4erow7_col11\" class=\"data row7 col11\" >0.034</td> \n",
       "        <td id=\"T_ae5f98ac_8ab5_11e8_b8d9_8c85903b2d4erow7_col12\" class=\"data row7 col12\" >0.036</td> \n",
       "        <td id=\"T_ae5f98ac_8ab5_11e8_b8d9_8c85903b2d4erow7_col13\" class=\"data row7 col13\" >0.042</td> \n",
       "    </tr>    <tr> \n",
       "        <th id=\"T_ae5f98ac_8ab5_11e8_b8d9_8c85903b2d4elevel0_row8\" class=\"row_heading level0 row8\" >uri_num</th> \n",
       "        <td id=\"T_ae5f98ac_8ab5_11e8_b8d9_8c85903b2d4erow8_col0\" class=\"data row8 col0\" >0.65</td> \n",
       "        <td id=\"T_ae5f98ac_8ab5_11e8_b8d9_8c85903b2d4erow8_col1\" class=\"data row8 col1\" >0.13</td> \n",
       "        <td id=\"T_ae5f98ac_8ab5_11e8_b8d9_8c85903b2d4erow8_col2\" class=\"data row8 col2\" >0.099</td> \n",
       "        <td id=\"T_ae5f98ac_8ab5_11e8_b8d9_8c85903b2d4erow8_col3\" class=\"data row8 col3\" >0.45</td> \n",
       "        <td id=\"T_ae5f98ac_8ab5_11e8_b8d9_8c85903b2d4erow8_col4\" class=\"data row8 col4\" >-0.0071</td> \n",
       "        <td id=\"T_ae5f98ac_8ab5_11e8_b8d9_8c85903b2d4erow8_col5\" class=\"data row8 col5\" >0.18</td> \n",
       "        <td id=\"T_ae5f98ac_8ab5_11e8_b8d9_8c85903b2d4erow8_col6\" class=\"data row8 col6\" >-0.027</td> \n",
       "        <td id=\"T_ae5f98ac_8ab5_11e8_b8d9_8c85903b2d4erow8_col7\" class=\"data row8 col7\" >0.024</td> \n",
       "        <td id=\"T_ae5f98ac_8ab5_11e8_b8d9_8c85903b2d4erow8_col8\" class=\"data row8 col8\" >1</td> \n",
       "        <td id=\"T_ae5f98ac_8ab5_11e8_b8d9_8c85903b2d4erow8_col9\" class=\"data row8 col9\" >0.58</td> \n",
       "        <td id=\"T_ae5f98ac_8ab5_11e8_b8d9_8c85903b2d4erow8_col10\" class=\"data row8 col10\" >-0.008</td> \n",
       "        <td id=\"T_ae5f98ac_8ab5_11e8_b8d9_8c85903b2d4erow8_col11\" class=\"data row8 col11\" >-0.11</td> \n",
       "        <td id=\"T_ae5f98ac_8ab5_11e8_b8d9_8c85903b2d4erow8_col12\" class=\"data row8 col12\" >0.65</td> \n",
       "        <td id=\"T_ae5f98ac_8ab5_11e8_b8d9_8c85903b2d4erow8_col13\" class=\"data row8 col13\" >0.64</td> \n",
       "    </tr>    <tr> \n",
       "        <th id=\"T_ae5f98ac_8ab5_11e8_b8d9_8c85903b2d4elevel0_row9\" class=\"row_heading level0 row9\" >query_num</th> \n",
       "        <td id=\"T_ae5f98ac_8ab5_11e8_b8d9_8c85903b2d4erow9_col0\" class=\"data row9 col0\" >0.93</td> \n",
       "        <td id=\"T_ae5f98ac_8ab5_11e8_b8d9_8c85903b2d4erow9_col1\" class=\"data row9 col1\" >0.2</td> \n",
       "        <td id=\"T_ae5f98ac_8ab5_11e8_b8d9_8c85903b2d4erow9_col2\" class=\"data row9 col2\" >0.35</td> \n",
       "        <td id=\"T_ae5f98ac_8ab5_11e8_b8d9_8c85903b2d4erow9_col3\" class=\"data row9 col3\" >0.76</td> \n",
       "        <td id=\"T_ae5f98ac_8ab5_11e8_b8d9_8c85903b2d4erow9_col4\" class=\"data row9 col4\" >-0.011</td> \n",
       "        <td id=\"T_ae5f98ac_8ab5_11e8_b8d9_8c85903b2d4erow9_col5\" class=\"data row9 col5\" >0.19</td> \n",
       "        <td id=\"T_ae5f98ac_8ab5_11e8_b8d9_8c85903b2d4erow9_col6\" class=\"data row9 col6\" >-0.043</td> \n",
       "        <td id=\"T_ae5f98ac_8ab5_11e8_b8d9_8c85903b2d4erow9_col7\" class=\"data row9 col7\" >0.01</td> \n",
       "        <td id=\"T_ae5f98ac_8ab5_11e8_b8d9_8c85903b2d4erow9_col8\" class=\"data row9 col8\" >0.58</td> \n",
       "        <td id=\"T_ae5f98ac_8ab5_11e8_b8d9_8c85903b2d4erow9_col9\" class=\"data row9 col9\" >1</td> \n",
       "        <td id=\"T_ae5f98ac_8ab5_11e8_b8d9_8c85903b2d4erow9_col10\" class=\"data row9 col10\" >-0.012</td> \n",
       "        <td id=\"T_ae5f98ac_8ab5_11e8_b8d9_8c85903b2d4erow9_col11\" class=\"data row9 col11\" >-0.15</td> \n",
       "        <td id=\"T_ae5f98ac_8ab5_11e8_b8d9_8c85903b2d4erow9_col12\" class=\"data row9 col12\" >0.8</td> \n",
       "        <td id=\"T_ae5f98ac_8ab5_11e8_b8d9_8c85903b2d4erow9_col13\" class=\"data row9 col13\" >0.8</td> \n",
       "    </tr>    <tr> \n",
       "        <th id=\"T_ae5f98ac_8ab5_11e8_b8d9_8c85903b2d4elevel0_row10\" class=\"row_heading level0 row10\" >up_down</th> \n",
       "        <td id=\"T_ae5f98ac_8ab5_11e8_b8d9_8c85903b2d4erow10_col0\" class=\"data row10 col0\" >-0.0079</td> \n",
       "        <td id=\"T_ae5f98ac_8ab5_11e8_b8d9_8c85903b2d4erow10_col1\" class=\"data row10 col1\" >0.05</td> \n",
       "        <td id=\"T_ae5f98ac_8ab5_11e8_b8d9_8c85903b2d4erow10_col2\" class=\"data row10 col2\" >0.0039</td> \n",
       "        <td id=\"T_ae5f98ac_8ab5_11e8_b8d9_8c85903b2d4erow10_col3\" class=\"data row10 col3\" >-0.00065</td> \n",
       "        <td id=\"T_ae5f98ac_8ab5_11e8_b8d9_8c85903b2d4erow10_col4\" class=\"data row10 col4\" >0.61</td> \n",
       "        <td id=\"T_ae5f98ac_8ab5_11e8_b8d9_8c85903b2d4erow10_col5\" class=\"data row10 col5\" >-0.0053</td> \n",
       "        <td id=\"T_ae5f98ac_8ab5_11e8_b8d9_8c85903b2d4erow10_col6\" class=\"data row10 col6\" >0.63</td> \n",
       "        <td id=\"T_ae5f98ac_8ab5_11e8_b8d9_8c85903b2d4erow10_col7\" class=\"data row10 col7\" >-0.015</td> \n",
       "        <td id=\"T_ae5f98ac_8ab5_11e8_b8d9_8c85903b2d4erow10_col8\" class=\"data row10 col8\" >-0.008</td> \n",
       "        <td id=\"T_ae5f98ac_8ab5_11e8_b8d9_8c85903b2d4erow10_col9\" class=\"data row10 col9\" >-0.012</td> \n",
       "        <td id=\"T_ae5f98ac_8ab5_11e8_b8d9_8c85903b2d4erow10_col10\" class=\"data row10 col10\" >1</td> \n",
       "        <td id=\"T_ae5f98ac_8ab5_11e8_b8d9_8c85903b2d4erow10_col11\" class=\"data row10 col11\" >-0.035</td> \n",
       "        <td id=\"T_ae5f98ac_8ab5_11e8_b8d9_8c85903b2d4erow10_col12\" class=\"data row10 col12\" >-0.0029</td> \n",
       "        <td id=\"T_ae5f98ac_8ab5_11e8_b8d9_8c85903b2d4erow10_col13\" class=\"data row10 col13\" >-0.0062</td> \n",
       "    </tr>    <tr> \n",
       "        <th id=\"T_ae5f98ac_8ab5_11e8_b8d9_8c85903b2d4elevel0_row11\" class=\"row_heading level0 row11\" >SAX_resp_ham</th> \n",
       "        <td id=\"T_ae5f98ac_8ab5_11e8_b8d9_8c85903b2d4erow11_col0\" class=\"data row11 col0\" >-0.15</td> \n",
       "        <td id=\"T_ae5f98ac_8ab5_11e8_b8d9_8c85903b2d4erow11_col1\" class=\"data row11 col1\" >-0.33</td> \n",
       "        <td id=\"T_ae5f98ac_8ab5_11e8_b8d9_8c85903b2d4erow11_col2\" class=\"data row11 col2\" >-0.18</td> \n",
       "        <td id=\"T_ae5f98ac_8ab5_11e8_b8d9_8c85903b2d4erow11_col3\" class=\"data row11 col3\" >-0.15</td> \n",
       "        <td id=\"T_ae5f98ac_8ab5_11e8_b8d9_8c85903b2d4erow11_col4\" class=\"data row11 col4\" >0.023</td> \n",
       "        <td id=\"T_ae5f98ac_8ab5_11e8_b8d9_8c85903b2d4erow11_col5\" class=\"data row11 col5\" >-0.032</td> \n",
       "        <td id=\"T_ae5f98ac_8ab5_11e8_b8d9_8c85903b2d4erow11_col6\" class=\"data row11 col6\" >0.052</td> \n",
       "        <td id=\"T_ae5f98ac_8ab5_11e8_b8d9_8c85903b2d4erow11_col7\" class=\"data row11 col7\" >0.034</td> \n",
       "        <td id=\"T_ae5f98ac_8ab5_11e8_b8d9_8c85903b2d4erow11_col8\" class=\"data row11 col8\" >-0.11</td> \n",
       "        <td id=\"T_ae5f98ac_8ab5_11e8_b8d9_8c85903b2d4erow11_col9\" class=\"data row11 col9\" >-0.15</td> \n",
       "        <td id=\"T_ae5f98ac_8ab5_11e8_b8d9_8c85903b2d4erow11_col10\" class=\"data row11 col10\" >-0.035</td> \n",
       "        <td id=\"T_ae5f98ac_8ab5_11e8_b8d9_8c85903b2d4erow11_col11\" class=\"data row11 col11\" >1</td> \n",
       "        <td id=\"T_ae5f98ac_8ab5_11e8_b8d9_8c85903b2d4erow11_col12\" class=\"data row11 col12\" >-0.12</td> \n",
       "        <td id=\"T_ae5f98ac_8ab5_11e8_b8d9_8c85903b2d4erow11_col13\" class=\"data row11 col13\" >-0.12</td> \n",
       "    </tr>    <tr> \n",
       "        <th id=\"T_ae5f98ac_8ab5_11e8_b8d9_8c85903b2d4elevel0_row12\" class=\"row_heading level0 row12\" >O</th> \n",
       "        <td id=\"T_ae5f98ac_8ab5_11e8_b8d9_8c85903b2d4erow12_col0\" class=\"data row12 col0\" >0.81</td> \n",
       "        <td id=\"T_ae5f98ac_8ab5_11e8_b8d9_8c85903b2d4erow12_col1\" class=\"data row12 col1\" >0.22</td> \n",
       "        <td id=\"T_ae5f98ac_8ab5_11e8_b8d9_8c85903b2d4erow12_col2\" class=\"data row12 col2\" >0.16</td> \n",
       "        <td id=\"T_ae5f98ac_8ab5_11e8_b8d9_8c85903b2d4erow12_col3\" class=\"data row12 col3\" >0.71</td> \n",
       "        <td id=\"T_ae5f98ac_8ab5_11e8_b8d9_8c85903b2d4erow12_col4\" class=\"data row12 col4\" >-0.00017</td> \n",
       "        <td id=\"T_ae5f98ac_8ab5_11e8_b8d9_8c85903b2d4erow12_col5\" class=\"data row12 col5\" >0.22</td> \n",
       "        <td id=\"T_ae5f98ac_8ab5_11e8_b8d9_8c85903b2d4erow12_col6\" class=\"data row12 col6\" >-0.033</td> \n",
       "        <td id=\"T_ae5f98ac_8ab5_11e8_b8d9_8c85903b2d4erow12_col7\" class=\"data row12 col7\" >0.036</td> \n",
       "        <td id=\"T_ae5f98ac_8ab5_11e8_b8d9_8c85903b2d4erow12_col8\" class=\"data row12 col8\" >0.65</td> \n",
       "        <td id=\"T_ae5f98ac_8ab5_11e8_b8d9_8c85903b2d4erow12_col9\" class=\"data row12 col9\" >0.8</td> \n",
       "        <td id=\"T_ae5f98ac_8ab5_11e8_b8d9_8c85903b2d4erow12_col10\" class=\"data row12 col10\" >-0.0029</td> \n",
       "        <td id=\"T_ae5f98ac_8ab5_11e8_b8d9_8c85903b2d4erow12_col11\" class=\"data row12 col11\" >-0.12</td> \n",
       "        <td id=\"T_ae5f98ac_8ab5_11e8_b8d9_8c85903b2d4erow12_col12\" class=\"data row12 col12\" >1</td> \n",
       "        <td id=\"T_ae5f98ac_8ab5_11e8_b8d9_8c85903b2d4erow12_col13\" class=\"data row12 col13\" >1</td> \n",
       "    </tr>    <tr> \n",
       "        <th id=\"T_ae5f98ac_8ab5_11e8_b8d9_8c85903b2d4elevel0_row13\" class=\"row_heading level0 row13\" >OU</th> \n",
       "        <td id=\"T_ae5f98ac_8ab5_11e8_b8d9_8c85903b2d4erow13_col0\" class=\"data row13 col0\" >0.81</td> \n",
       "        <td id=\"T_ae5f98ac_8ab5_11e8_b8d9_8c85903b2d4erow13_col1\" class=\"data row13 col1\" >0.22</td> \n",
       "        <td id=\"T_ae5f98ac_8ab5_11e8_b8d9_8c85903b2d4erow13_col2\" class=\"data row13 col2\" >0.15</td> \n",
       "        <td id=\"T_ae5f98ac_8ab5_11e8_b8d9_8c85903b2d4erow13_col3\" class=\"data row13 col3\" >0.73</td> \n",
       "        <td id=\"T_ae5f98ac_8ab5_11e8_b8d9_8c85903b2d4erow13_col4\" class=\"data row13 col4\" >-0.0046</td> \n",
       "        <td id=\"T_ae5f98ac_8ab5_11e8_b8d9_8c85903b2d4erow13_col5\" class=\"data row13 col5\" >0.22</td> \n",
       "        <td id=\"T_ae5f98ac_8ab5_11e8_b8d9_8c85903b2d4erow13_col6\" class=\"data row13 col6\" >-0.036</td> \n",
       "        <td id=\"T_ae5f98ac_8ab5_11e8_b8d9_8c85903b2d4erow13_col7\" class=\"data row13 col7\" >0.042</td> \n",
       "        <td id=\"T_ae5f98ac_8ab5_11e8_b8d9_8c85903b2d4erow13_col8\" class=\"data row13 col8\" >0.64</td> \n",
       "        <td id=\"T_ae5f98ac_8ab5_11e8_b8d9_8c85903b2d4erow13_col9\" class=\"data row13 col9\" >0.8</td> \n",
       "        <td id=\"T_ae5f98ac_8ab5_11e8_b8d9_8c85903b2d4erow13_col10\" class=\"data row13 col10\" >-0.0062</td> \n",
       "        <td id=\"T_ae5f98ac_8ab5_11e8_b8d9_8c85903b2d4erow13_col11\" class=\"data row13 col11\" >-0.12</td> \n",
       "        <td id=\"T_ae5f98ac_8ab5_11e8_b8d9_8c85903b2d4erow13_col12\" class=\"data row13 col12\" >1</td> \n",
       "        <td id=\"T_ae5f98ac_8ab5_11e8_b8d9_8c85903b2d4erow13_col13\" class=\"data row13 col13\" >1</td> \n",
       "    </tr></tbody> \n",
       "</table> "
      ],
      "text/plain": [
       "<pandas.io.formats.style.Styler at 0x10db29400>"
      ]
     },
     "execution_count": 65,
     "metadata": {},
     "output_type": "execute_result"
    }
   ],
   "source": [
    "corr = train.corr()\n",
    "corr.style.background_gradient().set_precision(2)"
   ]
  },
  {
   "cell_type": "markdown",
   "metadata": {},
   "source": [
    "## 4. IoT Detection Model\n",
    "* 3 models were built in this section \n",
    "* 1st, all of the 9 features were included in this model\n",
    "* 2nd, 7 features were included in this model\n",
    "* 3rd, only 5 features were included in this model\n",
    "\n"
   ]
  },
  {
   "cell_type": "markdown",
   "metadata": {},
   "source": [
    "### 4.1 Model1 ( 9 features included)\n",
    "* ['proto_num','conn_state_num','orig_bt_std','resp_bt_std','uri_num','query_num','up_down','SAX_resp_ham','OU','IOT','Device']"
   ]
  },
  {
   "cell_type": "code",
   "execution_count": 66,
   "metadata": {},
   "outputs": [
    {
     "name": "stderr",
     "output_type": "stream",
     "text": [
      "/Users/Rachel/anaconda3/lib/python3.6/site-packages/sklearn/cross_validation.py:41: DeprecationWarning: This module was deprecated in version 0.18 in favor of the model_selection module into which all the refactored classes and functions are moved. Also note that the interface of the new CV iterators are different from that of this module. This module will be removed in 0.20.\n",
      "  \"This module will be removed in 0.20.\", DeprecationWarning)\n",
      "/Users/Rachel/anaconda3/lib/python3.6/site-packages/sklearn/grid_search.py:42: DeprecationWarning: This module was deprecated in version 0.18 in favor of the model_selection module into which all the refactored classes and functions are moved. This module will be removed in 0.20.\n",
      "  DeprecationWarning)\n"
     ]
    }
   ],
   "source": [
    "from sklearn.preprocessing import LabelEncoder, StandardScaler\n",
    "from sklearn.model_selection import train_test_split\n",
    "from sklearn.metrics import confusion_matrix\n",
    "from sklearn.ensemble import RandomForestClassifier\n",
    "import xgboost as xgb\n",
    "from sklearn.grid_search import GridSearchCV"
   ]
  },
  {
   "cell_type": "code",
   "execution_count": 67,
   "metadata": {
    "collapsed": true
   },
   "outputs": [],
   "source": [
    "Feature_New1 = ['proto_num','conn_state_num','orig_bt_std','resp_bt_std',\n",
    "               'uri_num','query_num','up_down','SAX_resp_ham','OU','IOT','Device']"
   ]
  },
  {
   "cell_type": "code",
   "execution_count": 68,
   "metadata": {
    "collapsed": true
   },
   "outputs": [],
   "source": [
    "train = train[Feature_New1]\n",
    "test = test[Feature_New1]"
   ]
  },
  {
   "cell_type": "code",
   "execution_count": 69,
   "metadata": {
    "collapsed": true
   },
   "outputs": [],
   "source": [
    "def encode(x):\n",
    "    le=LabelEncoder()\n",
    "    le.fit(x)\n",
    "    x=le.transform(x)\n",
    "    return x"
   ]
  },
  {
   "cell_type": "code",
   "execution_count": 70,
   "metadata": {
    "collapsed": true
   },
   "outputs": [],
   "source": [
    "ex=''\n",
    "X1 = train.drop(['IOT','Device'],1)[train.Device != ex]\n",
    "yt1 = encode(train['IOT'][train.Device != ex])\n",
    "X_train1 , X_test1, yt_train1, yt_test1 = train_test_split(X1, yt1, test_size = 0.2)"
   ]
  },
  {
   "cell_type": "code",
   "execution_count": 71,
   "metadata": {},
   "outputs": [
    {
     "data": {
      "text/plain": [
       "(4391, 9)"
      ]
     },
     "execution_count": 71,
     "metadata": {},
     "output_type": "execute_result"
    }
   ],
   "source": [
    "X_train1.shape"
   ]
  },
  {
   "cell_type": "code",
   "execution_count": 109,
   "metadata": {},
   "outputs": [
    {
     "data": {
      "text/plain": [
       "(1098, 9)"
      ]
     },
     "execution_count": 109,
     "metadata": {},
     "output_type": "execute_result"
    }
   ],
   "source": [
    "X_test1.shape"
   ]
  },
  {
   "cell_type": "code",
   "execution_count": 72,
   "metadata": {},
   "outputs": [
    {
     "name": "stdout",
     "output_type": "stream",
     "text": [
      "Raw AUC score: 0.994093030317481\n",
      "colsample_bytree: 0.8\n",
      "learning_rate: 0.05\n",
      "max_depth: 8\n",
      "n_estimators: 1000\n",
      "objective: 'binary:logistic'\n",
      "silent: 1\n",
      "subsample: 0.8\n"
     ]
    }
   ],
   "source": [
    "xgb_model = xgb.XGBClassifier()\n",
    "parameters = {'objective':['binary:logistic'],\n",
    "              'learning_rate': [0.05,0.1,0.2], #so called `eta` value\n",
    "              'max_depth': [6,7,8],#depth of the tree\n",
    "              'silent': [1],\n",
    "              'subsample': [0.5,0.8],#each tree contains x% of the training data\n",
    "              'colsample_bytree': [0.7,0.8],#how many column,feature you want to use in each tree\n",
    "              'n_estimators': [1000]} #number of trees, change it to 1000 for better results}\n",
    "\n",
    "clf = GridSearchCV(xgb_model, parameters, n_jobs=1, \n",
    "                   scoring='roc_auc',\n",
    "                   refit=True)\n",
    "clf.fit(X_train1, yt_train1)\n",
    "\n",
    "best_parameters, score, _ = max(clf.grid_scores_, key=lambda x: x[1])\n",
    "print('Raw AUC score:', score)\n",
    "for param_name in sorted(best_parameters.keys()):\n",
    "    print(\"%s: %r\" % (param_name, best_parameters[param_name]))\n"
   ]
  },
  {
   "cell_type": "code",
   "execution_count": 73,
   "metadata": {},
   "outputs": [
    {
     "data": {
      "text/plain": [
       "XGBClassifier(base_score=0.5, booster='gbtree', colsample_bylevel=1,\n",
       "       colsample_bytree=0.8, gamma=0, learning_rate=0.05, max_delta_step=0,\n",
       "       max_depth=8, min_child_weight=1, missing=None, n_estimators=1000,\n",
       "       n_jobs=1, nthread=None, objective='binary:logistic', random_state=0,\n",
       "       reg_alpha=0, reg_lambda=1, scale_pos_weight=1, seed=None, silent=1,\n",
       "       subsample=0.8)"
      ]
     },
     "execution_count": 73,
     "metadata": {},
     "output_type": "execute_result"
    }
   ],
   "source": [
    "bt1 = xgb.XGBClassifier(max_depth=8,learning_rate=0.05,n_estimators=1000,colsample_bytree=0.8,silent=1,subsample=0.8)\n",
    "bt1.fit(X_train1, yt_train1, eval_set=[(X_test1, yt_test1)], verbose=False)"
   ]
  },
  {
   "cell_type": "code",
   "execution_count": 74,
   "metadata": {
    "collapsed": true
   },
   "outputs": [],
   "source": [
    "test_X =test.drop(['IOT','Device'],1)\n",
    "test_y = encode(test['IOT'])"
   ]
  },
  {
   "cell_type": "code",
   "execution_count": 75,
   "metadata": {},
   "outputs": [
    {
     "data": {
      "text/plain": [
       "(2353, 9)"
      ]
     },
     "execution_count": 75,
     "metadata": {},
     "output_type": "execute_result"
    }
   ],
   "source": [
    "test_X.shape"
   ]
  },
  {
   "cell_type": "code",
   "execution_count": 76,
   "metadata": {},
   "outputs": [
    {
     "data": {
      "text/plain": [
       "array([[1115,   25],\n",
       "       [  42, 1171]])"
      ]
     },
     "execution_count": 76,
     "metadata": {},
     "output_type": "execute_result"
    }
   ],
   "source": [
    "y_pred1 = bt1.predict(test_X)\n",
    "confusion_matrix(test_y,y_pred1)"
   ]
  },
  {
   "cell_type": "code",
   "execution_count": 77,
   "metadata": {},
   "outputs": [
    {
     "data": {
      "text/plain": [
       "0.9715257118572036"
      ]
     },
     "execution_count": 77,
     "metadata": {},
     "output_type": "execute_result"
    }
   ],
   "source": [
    "acc1 = np.array(test_y==y_pred1).sum() / test_y.shape[0]\n",
    "acc1"
   ]
  },
  {
   "cell_type": "code",
   "execution_count": 78,
   "metadata": {},
   "outputs": [
    {
     "data": {
      "image/png": "[encoded data removed]",
      "text/plain": [
       "<matplotlib.figure.Figure at 0x108d39438>"
      ]
     },
     "metadata": {},
     "output_type": "display_data"
    }
   ],
   "source": [
    "xgb.plot_importance(bt1, importance_type='gain')\n",
    "plt.savefig('IoTDetection-9Features')\n",
    "plt.show()"
   ]
  },
  {
   "cell_type": "code",
   "execution_count": 79,
   "metadata": {},
   "outputs": [
    {
     "data": {
      "image/png": "[encoded data removed]",
      "text/plain": [
       "<matplotlib.figure.Figure at 0x1a10425400>"
      ]
     },
     "metadata": {},
     "output_type": "display_data"
    }
   ],
   "source": [
    "xgb.plot_importance(bt1, height=0.8)\n",
    "plt.show()"
   ]
  },
  {
   "cell_type": "markdown",
   "metadata": {},
   "source": [
    "### 4.2 Model2 ( 7 features included)\n",
    "* ['proto_num','orig_bt_std','resp_bt_std','uri_num','up_down','SAX_resp_ham','OU','IOT','Device']"
   ]
  },
  {
   "cell_type": "code",
   "execution_count": 84,
   "metadata": {
    "collapsed": true
   },
   "outputs": [],
   "source": [
    "Feature_New2 =  ['proto_num','orig_bt_std','resp_bt_std','uri_num','up_down','SAX_resp_ham','OU']"
   ]
  },
  {
   "cell_type": "code",
   "execution_count": 85,
   "metadata": {},
   "outputs": [
    {
     "data": {
      "text/plain": [
       "(4391, 9)"
      ]
     },
     "execution_count": 85,
     "metadata": {},
     "output_type": "execute_result"
    }
   ],
   "source": [
    "X_train1.shape"
   ]
  },
  {
   "cell_type": "code",
   "execution_count": 87,
   "metadata": {},
   "outputs": [
    {
     "data": {
      "text/html": [
       "<div>\n",
       "<style>\n",
       "    .dataframe thead tr:only-child th {\n",
       "        text-align: right;\n",
       "    }\n",
       "\n",
       "    .dataframe thead th {\n",
       "        text-align: left;\n",
       "    }\n",
       "\n",
       "    .dataframe tbody tr th {\n",
       "        vertical-align: top;\n",
       "    }\n",
       "</style>\n",
       "<table border=\"1\" class=\"dataframe\">\n",
       "  <thead>\n",
       "    <tr style=\"text-align: right;\">\n",
       "      <th></th>\n",
       "      <th>proto_num</th>\n",
       "      <th>conn_state_num</th>\n",
       "      <th>orig_bt_std</th>\n",
       "      <th>resp_bt_std</th>\n",
       "      <th>uri_num</th>\n",
       "      <th>query_num</th>\n",
       "      <th>up_down</th>\n",
       "      <th>SAX_resp_ham</th>\n",
       "      <th>OU</th>\n",
       "    </tr>\n",
       "  </thead>\n",
       "  <tbody>\n",
       "    <tr>\n",
       "      <th>count</th>\n",
       "      <td>4391.000000</td>\n",
       "      <td>4391.000000</td>\n",
       "      <td>4.391000e+03</td>\n",
       "      <td>4.391000e+03</td>\n",
       "      <td>4391.000000</td>\n",
       "      <td>4391.000000</td>\n",
       "      <td>4391.000000</td>\n",
       "      <td>4391.000000</td>\n",
       "      <td>4391.000000</td>\n",
       "    </tr>\n",
       "    <tr>\n",
       "      <th>mean</th>\n",
       "      <td>0.546345</td>\n",
       "      <td>0.979504</td>\n",
       "      <td>4.047298e+06</td>\n",
       "      <td>6.633492e+06</td>\n",
       "      <td>31.819776</td>\n",
       "      <td>13.704236</td>\n",
       "      <td>52.829893</td>\n",
       "      <td>22.455477</td>\n",
       "      <td>3.625826</td>\n",
       "    </tr>\n",
       "    <tr>\n",
       "      <th>std</th>\n",
       "      <td>0.497904</td>\n",
       "      <td>1.630305</td>\n",
       "      <td>2.210378e+07</td>\n",
       "      <td>2.538476e+07</td>\n",
       "      <td>210.120027</td>\n",
       "      <td>56.965492</td>\n",
       "      <td>754.628777</td>\n",
       "      <td>4.278384</td>\n",
       "      <td>15.159233</td>\n",
       "    </tr>\n",
       "    <tr>\n",
       "      <th>min</th>\n",
       "      <td>0.000000</td>\n",
       "      <td>0.000000</td>\n",
       "      <td>0.000000e+00</td>\n",
       "      <td>0.000000e+00</td>\n",
       "      <td>0.000000</td>\n",
       "      <td>0.000000</td>\n",
       "      <td>0.000000</td>\n",
       "      <td>0.000000</td>\n",
       "      <td>0.000000</td>\n",
       "    </tr>\n",
       "    <tr>\n",
       "      <th>25%</th>\n",
       "      <td>0.000000</td>\n",
       "      <td>0.000000</td>\n",
       "      <td>1.069121e+03</td>\n",
       "      <td>1.091708e+04</td>\n",
       "      <td>0.000000</td>\n",
       "      <td>0.000000</td>\n",
       "      <td>0.000000</td>\n",
       "      <td>23.000000</td>\n",
       "      <td>0.000000</td>\n",
       "    </tr>\n",
       "    <tr>\n",
       "      <th>50%</th>\n",
       "      <td>1.000000</td>\n",
       "      <td>0.000000</td>\n",
       "      <td>7.442964e+03</td>\n",
       "      <td>1.353734e+05</td>\n",
       "      <td>0.000000</td>\n",
       "      <td>1.000000</td>\n",
       "      <td>0.000431</td>\n",
       "      <td>24.000000</td>\n",
       "      <td>0.000000</td>\n",
       "    </tr>\n",
       "    <tr>\n",
       "      <th>75%</th>\n",
       "      <td>1.000000</td>\n",
       "      <td>2.000000</td>\n",
       "      <td>2.169372e+04</td>\n",
       "      <td>7.583877e+06</td>\n",
       "      <td>3.000000</td>\n",
       "      <td>5.000000</td>\n",
       "      <td>0.195953</td>\n",
       "      <td>24.000000</td>\n",
       "      <td>2.000000</td>\n",
       "    </tr>\n",
       "    <tr>\n",
       "      <th>max</th>\n",
       "      <td>1.000000</td>\n",
       "      <td>12.000000</td>\n",
       "      <td>3.241667e+08</td>\n",
       "      <td>6.526352e+08</td>\n",
       "      <td>6898.000000</td>\n",
       "      <td>849.000000</td>\n",
       "      <td>15400.936272</td>\n",
       "      <td>24.000000</td>\n",
       "      <td>188.000000</td>\n",
       "    </tr>\n",
       "  </tbody>\n",
       "</table>\n",
       "</div>"
      ],
      "text/plain": [
       "         proto_num  conn_state_num   orig_bt_std   resp_bt_std      uri_num  \\\n",
       "count  4391.000000     4391.000000  4.391000e+03  4.391000e+03  4391.000000   \n",
       "mean      0.546345        0.979504  4.047298e+06  6.633492e+06    31.819776   \n",
       "std       0.497904        1.630305  2.210378e+07  2.538476e+07   210.120027   \n",
       "min       0.000000        0.000000  0.000000e+00  0.000000e+00     0.000000   \n",
       "25%       0.000000        0.000000  1.069121e+03  1.091708e+04     0.000000   \n",
       "50%       1.000000        0.000000  7.442964e+03  1.353734e+05     0.000000   \n",
       "75%       1.000000        2.000000  2.169372e+04  7.583877e+06     3.000000   \n",
       "max       1.000000       12.000000  3.241667e+08  6.526352e+08  6898.000000   \n",
       "\n",
       "         query_num       up_down  SAX_resp_ham           OU  \n",
       "count  4391.000000   4391.000000   4391.000000  4391.000000  \n",
       "mean     13.704236     52.829893     22.455477     3.625826  \n",
       "std      56.965492    754.628777      4.278384    15.159233  \n",
       "min       0.000000      0.000000      0.000000     0.000000  \n",
       "25%       0.000000      0.000000     23.000000     0.000000  \n",
       "50%       1.000000      0.000431     24.000000     0.000000  \n",
       "75%       5.000000      0.195953     24.000000     2.000000  \n",
       "max     849.000000  15400.936272     24.000000   188.000000  "
      ]
     },
     "execution_count": 87,
     "metadata": {},
     "output_type": "execute_result"
    }
   ],
   "source": [
    "X_train1.describe()"
   ]
  },
  {
   "cell_type": "code",
   "execution_count": 88,
   "metadata": {
    "collapsed": true
   },
   "outputs": [],
   "source": [
    "X_train2 = X_train1[Feature_New2]"
   ]
  },
  {
   "cell_type": "code",
   "execution_count": 89,
   "metadata": {},
   "outputs": [
    {
     "data": {
      "text/plain": [
       "(4391, 7)"
      ]
     },
     "execution_count": 89,
     "metadata": {},
     "output_type": "execute_result"
    }
   ],
   "source": [
    "X_train2.shape"
   ]
  },
  {
   "cell_type": "code",
   "execution_count": 98,
   "metadata": {},
   "outputs": [
    {
     "data": {
      "text/plain": [
       "(4391,)"
      ]
     },
     "execution_count": 98,
     "metadata": {},
     "output_type": "execute_result"
    }
   ],
   "source": [
    "yt_train1.shape"
   ]
  },
  {
   "cell_type": "code",
   "execution_count": 90,
   "metadata": {},
   "outputs": [
    {
     "data": {
      "text/plain": [
       "GridSearchCV(cv=None, error_score='raise',\n",
       "       estimator=XGBClassifier(base_score=0.5, booster='gbtree', colsample_bylevel=1,\n",
       "       colsample_bytree=1, gamma=0, learning_rate=0.1, max_delta_step=0,\n",
       "       max_depth=3, min_child_weight=1, missing=None, n_estimators=100,\n",
       "       n_jobs=1, nthread=None, objective='binary:logistic', random_state=0,\n",
       "       reg_alpha=0, reg_lambda=1, scale_pos_weight=1, seed=None,\n",
       "       silent=True, subsample=1),\n",
       "       fit_params={}, iid=True, n_jobs=1,\n",
       "       param_grid={'objective': ['binary:logistic'], 'learning_rate': [0.05, 0.1, 0.2], 'max_depth': [6, 7, 8], 'silent': [1], 'subsample': [0.5, 0.8], 'colsample_bytree': [0.7, 0.8], 'n_estimators': [1000]},\n",
       "       pre_dispatch='2*n_jobs', refit=True, scoring='roc_auc', verbose=0)"
      ]
     },
     "execution_count": 90,
     "metadata": {},
     "output_type": "execute_result"
    }
   ],
   "source": [
    "clf.fit(X_train2, yt_train1)"
   ]
  },
  {
   "cell_type": "code",
   "execution_count": 91,
   "metadata": {},
   "outputs": [
    {
     "name": "stdout",
     "output_type": "stream",
     "text": [
      "Raw AUC score: 0.9920921791951615\n",
      "colsample_bytree: 0.8\n",
      "learning_rate: 0.05\n",
      "max_depth: 8\n",
      "n_estimators: 1000\n",
      "objective: 'binary:logistic'\n",
      "silent: 1\n",
      "subsample: 0.8\n"
     ]
    }
   ],
   "source": [
    "best_parameters, score, _ = max(clf.grid_scores_, key=lambda x: x[1])\n",
    "print('Raw AUC score:', score)\n",
    "for param_name in sorted(best_parameters.keys()):\n",
    "    print(\"%s: %r\" % (param_name, best_parameters[param_name]))"
   ]
  },
  {
   "cell_type": "code",
   "execution_count": 108,
   "metadata": {},
   "outputs": [
    {
     "data": {
      "text/plain": [
       "(1098, 7)"
      ]
     },
     "execution_count": 108,
     "metadata": {},
     "output_type": "execute_result"
    }
   ],
   "source": [
    "X_test2.shape"
   ]
  },
  {
   "cell_type": "code",
   "execution_count": 93,
   "metadata": {},
   "outputs": [
    {
     "data": {
      "text/plain": [
       "XGBClassifier(base_score=0.5, booster='gbtree', colsample_bylevel=1,\n",
       "       colsample_bytree=0.8, gamma=0, learning_rate=0.05, max_delta_step=0,\n",
       "       max_depth=8, min_child_weight=1, missing=None, n_estimators=1000,\n",
       "       n_jobs=1, nthread=None, objective='binary:logistic', random_state=0,\n",
       "       reg_alpha=0, reg_lambda=1, scale_pos_weight=1, seed=None, silent=1,\n",
       "       subsample=0.8)"
      ]
     },
     "execution_count": 93,
     "metadata": {},
     "output_type": "execute_result"
    }
   ],
   "source": [
    "bt2 = xgb.XGBClassifier(max_depth=8,learning_rate=0.05,n_estimators=1000,colsample_bytree=0.8,silent=1,subsample=0.8)\n",
    "bt2.fit(X_train2, yt_train1, eval_set=[(X_test2, yt_test1)], verbose=False)"
   ]
  },
  {
   "cell_type": "code",
   "execution_count": 100,
   "metadata": {
    "collapsed": true
   },
   "outputs": [],
   "source": [
    "test_X2 = test_X[Feature_New2]"
   ]
  },
  {
   "cell_type": "code",
   "execution_count": 101,
   "metadata": {},
   "outputs": [
    {
     "data": {
      "text/plain": [
       "(2353, 7)"
      ]
     },
     "execution_count": 101,
     "metadata": {},
     "output_type": "execute_result"
    }
   ],
   "source": [
    "test_X2.shape"
   ]
  },
  {
   "cell_type": "code",
   "execution_count": 102,
   "metadata": {},
   "outputs": [
    {
     "data": {
      "text/plain": [
       "array([[1105,   35],\n",
       "       [  52, 1161]])"
      ]
     },
     "execution_count": 102,
     "metadata": {},
     "output_type": "execute_result"
    }
   ],
   "source": [
    "y_pred2 = bt2.predict(test_X2)\n",
    "confusion_matrix(test_y,y_pred2)"
   ]
  },
  {
   "cell_type": "code",
   "execution_count": 103,
   "metadata": {},
   "outputs": [
    {
     "data": {
      "text/plain": [
       "0.96302592435189116"
      ]
     },
     "execution_count": 103,
     "metadata": {},
     "output_type": "execute_result"
    }
   ],
   "source": [
    "acc2 = np.array(test_y==y_pred2).sum() / test_y.shape[0]\n",
    "acc2"
   ]
  },
  {
   "cell_type": "code",
   "execution_count": 104,
   "metadata": {},
   "outputs": [
    {
     "data": {
      "image/png": "[encoded data removed]",
      "text/plain": [
       "<matplotlib.figure.Figure at 0x1a18b21be0>"
      ]
     },
     "metadata": {},
     "output_type": "display_data"
    }
   ],
   "source": [
    "xgb.plot_importance(bt2, importance_type='gain')\n",
    "plt.savefig('IoTDetection-7Features')\n",
    "plt.show()"
   ]
  },
  {
   "cell_type": "code",
   "execution_count": 105,
   "metadata": {},
   "outputs": [
    {
     "data": {
      "image/png": "[encoded data removed]",
      "text/plain": [
       "<matplotlib.figure.Figure at 0x1a18b35c18>"
      ]
     },
     "metadata": {},
     "output_type": "display_data"
    }
   ],
   "source": [
    "xgb.plot_importance(bt2, height=0.8)\n",
    "plt.show()"
   ]
  },
  {
   "cell_type": "markdown",
   "metadata": {},
   "source": [
    "### 4.3 Model3 ( 8 features included)\n",
    "* ['proto_num','conn_state_num','orig_bt_std','resp_bt_std','uri_num','up_down','SAX_resp_ham','OU','IOT','Device']\n",
    "* ['proto_num','conn_state_num','orig_bt_std','resp_bt_std','uri_num','query_num','up_down','SAX_resp_ham','IOT','Device']"
   ]
  },
  {
   "cell_type": "code",
   "execution_count": 106,
   "metadata": {
    "collapsed": true
   },
   "outputs": [],
   "source": [
    "Feature_New3 =  ['proto_num','conn_state_num','orig_bt_std','resp_bt_std','uri_num','up_down','SAX_resp_ham','OU']\n",
    "X_train3 = X_train1[Feature_New3]"
   ]
  },
  {
   "cell_type": "code",
   "execution_count": 107,
   "metadata": {},
   "outputs": [
    {
     "name": "stdout",
     "output_type": "stream",
     "text": [
      "Raw AUC score: 0.9924862227766772\n",
      "colsample_bytree: 0.7\n",
      "learning_rate: 0.05\n",
      "max_depth: 8\n",
      "n_estimators: 1000\n",
      "objective: 'binary:logistic'\n",
      "silent: 1\n",
      "subsample: 0.8\n"
     ]
    }
   ],
   "source": [
    "clf.fit(X_train3, yt_train1)\n",
    "best_parameters, score, _ = max(clf.grid_scores_, key=lambda x: x[1])\n",
    "print('Raw AUC score:', score)\n",
    "for param_name in sorted(best_parameters.keys()):\n",
    "    print(\"%s: %r\" % (param_name, best_parameters[param_name]))"
   ]
  },
  {
   "cell_type": "code",
   "execution_count": 110,
   "metadata": {
    "collapsed": true
   },
   "outputs": [],
   "source": [
    "X_test3 = X_test1[Feature_New3]"
   ]
  },
  {
   "cell_type": "code",
   "execution_count": 111,
   "metadata": {},
   "outputs": [
    {
     "data": {
      "text/plain": [
       "(1098, 8)"
      ]
     },
     "execution_count": 111,
     "metadata": {},
     "output_type": "execute_result"
    }
   ],
   "source": [
    "X_test3.shape"
   ]
  },
  {
   "cell_type": "code",
   "execution_count": 112,
   "metadata": {},
   "outputs": [
    {
     "data": {
      "text/plain": [
       "XGBClassifier(base_score=0.5, booster='gbtree', colsample_bylevel=1,\n",
       "       colsample_bytree=0.7, gamma=0, learning_rate=0.05, max_delta_step=0,\n",
       "       max_depth=8, min_child_weight=1, missing=None, n_estimators=1000,\n",
       "       n_jobs=1, nthread=None, objective='binary:logistic', random_state=0,\n",
       "       reg_alpha=0, reg_lambda=1, scale_pos_weight=1, seed=None, silent=1,\n",
       "       subsample=0.8)"
      ]
     },
     "execution_count": 112,
     "metadata": {},
     "output_type": "execute_result"
    }
   ],
   "source": [
    "bt3 = xgb.XGBClassifier(max_depth=8,learning_rate=0.05,n_estimators=1000,colsample_bytree=0.7,silent=1,subsample=0.8)\n",
    "bt3.fit(X_train3, yt_train1, eval_set=[(X_test3, yt_test1)], verbose=False)"
   ]
  },
  {
   "cell_type": "code",
   "execution_count": 113,
   "metadata": {
    "collapsed": true
   },
   "outputs": [],
   "source": [
    "test_X3 = test_X[Feature_New3]"
   ]
  },
  {
   "cell_type": "code",
   "execution_count": 114,
   "metadata": {},
   "outputs": [
    {
     "data": {
      "text/plain": [
       "array([[1110,   30],\n",
       "       [  52, 1161]])"
      ]
     },
     "execution_count": 114,
     "metadata": {},
     "output_type": "execute_result"
    }
   ],
   "source": [
    "y_pred3 = bt3.predict(test_X3)\n",
    "confusion_matrix(test_y,y_pred3)"
   ]
  },
  {
   "cell_type": "code",
   "execution_count": 115,
   "metadata": {},
   "outputs": [
    {
     "data": {
      "text/plain": [
       "0.9651508712282193"
      ]
     },
     "execution_count": 115,
     "metadata": {},
     "output_type": "execute_result"
    }
   ],
   "source": [
    "acc3 = np.array(test_y==y_pred3).sum() / test_y.shape[0]\n",
    "acc3"
   ]
  },
  {
   "cell_type": "code",
   "execution_count": 116,
   "metadata": {},
   "outputs": [
    {
     "data": {
      "image/png": "[encoded data removed]",
      "text/plain": [
       "<matplotlib.figure.Figure at 0x1a18c8f668>"
      ]
     },
     "metadata": {},
     "output_type": "display_data"
    }
   ],
   "source": [
    "xgb.plot_importance(bt3, importance_type='gain')\n",
    "plt.savefig('IoTDetection-8Features')\n",
    "plt.show()"
   ]
  },
  {
   "cell_type": "code",
   "execution_count": 117,
   "metadata": {
    "collapsed": true
   },
   "outputs": [],
   "source": [
    "Feature_New4 =  ['proto_num','conn_state_num','orig_bt_std','resp_bt_std','uri_num','query_num','up_down','SAX_resp_ham']\n",
    "X_train4 = X_train1[Feature_New4]"
   ]
  },
  {
   "cell_type": "code",
   "execution_count": 118,
   "metadata": {},
   "outputs": [
    {
     "name": "stdout",
     "output_type": "stream",
     "text": [
      "Raw AUC score: 0.9934540765935652\n",
      "colsample_bytree: 0.8\n",
      "learning_rate: 0.05\n",
      "max_depth: 8\n",
      "n_estimators: 1000\n",
      "objective: 'binary:logistic'\n",
      "silent: 1\n",
      "subsample: 0.5\n"
     ]
    }
   ],
   "source": [
    "clf.fit(X_train4, yt_train1)\n",
    "best_parameters, score, _ = max(clf.grid_scores_, key=lambda x: x[1])\n",
    "print('Raw AUC score:', score)\n",
    "for param_name in sorted(best_parameters.keys()):\n",
    "    print(\"%s: %r\" % (param_name, best_parameters[param_name]))"
   ]
  },
  {
   "cell_type": "code",
   "execution_count": 119,
   "metadata": {
    "collapsed": true
   },
   "outputs": [],
   "source": [
    "X_test4 = X_test1[Feature_New4]"
   ]
  },
  {
   "cell_type": "code",
   "execution_count": 120,
   "metadata": {},
   "outputs": [
    {
     "data": {
      "text/plain": [
       "XGBClassifier(base_score=0.5, booster='gbtree', colsample_bylevel=1,\n",
       "       colsample_bytree=0.8, gamma=0, learning_rate=0.05, max_delta_step=0,\n",
       "       max_depth=8, min_child_weight=1, missing=None, n_estimators=1000,\n",
       "       n_jobs=1, nthread=None, objective='binary:logistic', random_state=0,\n",
       "       reg_alpha=0, reg_lambda=1, scale_pos_weight=1, seed=None, silent=1,\n",
       "       subsample=0.5)"
      ]
     },
     "execution_count": 120,
     "metadata": {},
     "output_type": "execute_result"
    }
   ],
   "source": [
    "bt4 = xgb.XGBClassifier(max_depth=8,learning_rate=0.05,n_estimators=1000,colsample_bytree=0.8,silent=1,subsample=0.5)\n",
    "bt4.fit(X_train4, yt_train1, eval_set=[(X_test4, yt_test1)], verbose=False)"
   ]
  },
  {
   "cell_type": "code",
   "execution_count": 121,
   "metadata": {
    "collapsed": true
   },
   "outputs": [],
   "source": [
    "test_X4 = test_X[Feature_New4]"
   ]
  },
  {
   "cell_type": "code",
   "execution_count": 122,
   "metadata": {},
   "outputs": [
    {
     "data": {
      "text/plain": [
       "array([[1114,   26],\n",
       "       [  45, 1168]])"
      ]
     },
     "execution_count": 122,
     "metadata": {},
     "output_type": "execute_result"
    }
   ],
   "source": [
    "y_pred4 = bt4.predict(test_X4)\n",
    "confusion_matrix(test_y,y_pred4)"
   ]
  },
  {
   "cell_type": "code",
   "execution_count": 123,
   "metadata": {},
   "outputs": [
    {
     "data": {
      "text/plain": [
       "0.96982575435614105"
      ]
     },
     "execution_count": 123,
     "metadata": {},
     "output_type": "execute_result"
    }
   ],
   "source": [
    "acc4 = np.array(test_y==y_pred4).sum() / test_y.shape[0]\n",
    "acc4"
   ]
  },
  {
   "cell_type": "code",
   "execution_count": 124,
   "metadata": {},
   "outputs": [
    {
     "data": {
      "image/png": "[encoded data removed]",
      "text/plain": [
       "<matplotlib.figure.Figure at 0x1a189cc4a8>"
      ]
     },
     "metadata": {},
     "output_type": "display_data"
    }
   ],
   "source": [
    "xgb.plot_importance(bt4, importance_type='gain')\n",
    "plt.savefig('IoTDetection-8Features-2')\n",
    "plt.show()"
   ]
  },
  {
   "cell_type": "markdown",
   "metadata": {},
   "source": [
    "### 4.4 Model4 ( 6 features included)\n",
    "*  ['proto_num','conn_state_num','uri_num','query_num','up_down','SAX_resp_ham']\n"
   ]
  },
  {
   "cell_type": "code",
   "execution_count": 125,
   "metadata": {
    "collapsed": true
   },
   "outputs": [],
   "source": [
    "Feature_New5 =  ['proto_num','conn_state_num','uri_num','query_num','up_down','SAX_resp_ham']\n",
    "X_train5 = X_train1[Feature_New5]"
   ]
  },
  {
   "cell_type": "code",
   "execution_count": 126,
   "metadata": {},
   "outputs": [
    {
     "name": "stdout",
     "output_type": "stream",
     "text": [
      "Raw AUC score: 0.8964005538492328\n",
      "colsample_bytree: 0.7\n",
      "learning_rate: 0.05\n",
      "max_depth: 7\n",
      "n_estimators: 1000\n",
      "objective: 'binary:logistic'\n",
      "silent: 1\n",
      "subsample: 0.5\n"
     ]
    }
   ],
   "source": [
    "clf.fit(X_train5, yt_train1)\n",
    "best_parameters, score, _ = max(clf.grid_scores_, key=lambda x: x[1])\n",
    "print('Raw AUC score:', score)\n",
    "for param_name in sorted(best_parameters.keys()):\n",
    "    print(\"%s: %r\" % (param_name, best_parameters[param_name]))"
   ]
  },
  {
   "cell_type": "code",
   "execution_count": 127,
   "metadata": {
    "collapsed": true
   },
   "outputs": [],
   "source": [
    "X_test5 = X_test1[Feature_New5]"
   ]
  },
  {
   "cell_type": "code",
   "execution_count": 128,
   "metadata": {},
   "outputs": [
    {
     "data": {
      "text/plain": [
       "XGBClassifier(base_score=0.5, booster='gbtree', colsample_bylevel=1,\n",
       "       colsample_bytree=0.7, gamma=0, learning_rate=0.05, max_delta_step=0,\n",
       "       max_depth=7, min_child_weight=1, missing=None, n_estimators=1000,\n",
       "       n_jobs=1, nthread=None, objective='binary:logistic', random_state=0,\n",
       "       reg_alpha=0, reg_lambda=1, scale_pos_weight=1, seed=None, silent=1,\n",
       "       subsample=0.5)"
      ]
     },
     "execution_count": 128,
     "metadata": {},
     "output_type": "execute_result"
    }
   ],
   "source": [
    "bt5 = xgb.XGBClassifier(max_depth=7,learning_rate=0.05,n_estimators=1000,colsample_bytree=0.7,silent=1,subsample=0.5)\n",
    "bt5.fit(X_train5, yt_train1, eval_set=[(X_test5, yt_test1)], verbose=False)"
   ]
  },
  {
   "cell_type": "code",
   "execution_count": 129,
   "metadata": {},
   "outputs": [
    {
     "data": {
      "text/plain": [
       "array([[1068,   72],\n",
       "       [ 361,  852]])"
      ]
     },
     "execution_count": 129,
     "metadata": {},
     "output_type": "execute_result"
    }
   ],
   "source": [
    "test_X5 = test_X[Feature_New5]\n",
    "y_pred5 = bt5.predict(test_X5)\n",
    "confusion_matrix(test_y,y_pred5)"
   ]
  },
  {
   "cell_type": "code",
   "execution_count": 130,
   "metadata": {},
   "outputs": [
    {
     "data": {
      "text/plain": [
       "0.8159796005099873"
      ]
     },
     "execution_count": 130,
     "metadata": {},
     "output_type": "execute_result"
    }
   ],
   "source": [
    "acc5 = np.array(test_y==y_pred5).sum() / test_y.shape[0]\n",
    "acc5"
   ]
  },
  {
   "cell_type": "code",
   "execution_count": 131,
   "metadata": {},
   "outputs": [
    {
     "data": {
      "image/png": "[encoded data removed]",
      "text/plain": [
       "<matplotlib.figure.Figure at 0x1a18f46128>"
      ]
     },
     "metadata": {},
     "output_type": "display_data"
    }
   ],
   "source": [
    "xgb.plot_importance(bt5, importance_type='gain')\n",
    "plt.savefig('IoTDetection-6Features')\n",
    "plt.show()"
   ]
  },
  {
   "cell_type": "markdown",
   "metadata": {},
   "source": [
    "### 4.5 Model5 ( 5features included)\n",
    "* ['proto_num','conn_state_num','orig_bt_std','resp_bt_std','query_num','IOT','Device']"
   ]
  },
  {
   "cell_type": "code",
   "execution_count": 132,
   "metadata": {
    "collapsed": true
   },
   "outputs": [],
   "source": [
    "Feature_New6 =  ['proto_num','conn_state_num','orig_bt_std','resp_bt_std','query_num']\n",
    "X_train6 = X_train1[Feature_New6]"
   ]
  },
  {
   "cell_type": "code",
   "execution_count": 133,
   "metadata": {},
   "outputs": [
    {
     "name": "stdout",
     "output_type": "stream",
     "text": [
      "Raw AUC score: 0.9897280095284539\n",
      "colsample_bytree: 0.8\n",
      "learning_rate: 0.05\n",
      "max_depth: 7\n",
      "n_estimators: 1000\n",
      "objective: 'binary:logistic'\n",
      "silent: 1\n",
      "subsample: 0.8\n"
     ]
    }
   ],
   "source": [
    "clf.fit(X_train6, yt_train1)\n",
    "best_parameters, score, _ = max(clf.grid_scores_, key=lambda x: x[1])\n",
    "print('Raw AUC score:', score)\n",
    "for param_name in sorted(best_parameters.keys()):\n",
    "    print(\"%s: %r\" % (param_name, best_parameters[param_name]))"
   ]
  },
  {
   "cell_type": "code",
   "execution_count": 134,
   "metadata": {
    "collapsed": true
   },
   "outputs": [],
   "source": [
    "X_test6 = X_test1[Feature_New6]"
   ]
  },
  {
   "cell_type": "code",
   "execution_count": 135,
   "metadata": {},
   "outputs": [
    {
     "data": {
      "text/plain": [
       "XGBClassifier(base_score=0.5, booster='gbtree', colsample_bylevel=1,\n",
       "       colsample_bytree=0.8, gamma=0, learning_rate=0.05, max_delta_step=0,\n",
       "       max_depth=7, min_child_weight=1, missing=None, n_estimators=1000,\n",
       "       n_jobs=1, nthread=None, objective='binary:logistic', random_state=0,\n",
       "       reg_alpha=0, reg_lambda=1, scale_pos_weight=1, seed=None, silent=1,\n",
       "       subsample=0.8)"
      ]
     },
     "execution_count": 135,
     "metadata": {},
     "output_type": "execute_result"
    }
   ],
   "source": [
    "bt6 = xgb.XGBClassifier(max_depth=7,learning_rate=0.05,n_estimators=1000,colsample_bytree=0.8,silent=1,subsample=0.8)\n",
    "bt6.fit(X_train6, yt_train1, eval_set=[(X_test6, yt_test1)], verbose=False)"
   ]
  },
  {
   "cell_type": "code",
   "execution_count": 136,
   "metadata": {},
   "outputs": [
    {
     "data": {
      "text/plain": [
       "array([[1107,   33],\n",
       "       [  51, 1162]])"
      ]
     },
     "execution_count": 136,
     "metadata": {},
     "output_type": "execute_result"
    }
   ],
   "source": [
    "test_X6 = test_X[Feature_New6]\n",
    "y_pred6 = bt6.predict(test_X6)\n",
    "confusion_matrix(test_y,y_pred6)"
   ]
  },
  {
   "cell_type": "code",
   "execution_count": 137,
   "metadata": {},
   "outputs": [
    {
     "data": {
      "text/plain": [
       "0.96430089247768802"
      ]
     },
     "execution_count": 137,
     "metadata": {},
     "output_type": "execute_result"
    }
   ],
   "source": [
    "acc6 = np.array(test_y==y_pred6).sum() / test_y.shape[0]\n",
    "acc6"
   ]
  },
  {
   "cell_type": "code",
   "execution_count": 138,
   "metadata": {},
   "outputs": [
    {
     "data": {
      "image/png": "[encoded data removed]",
      "text/plain": [
       "<matplotlib.figure.Figure at 0x1a18b40da0>"
      ]
     },
     "metadata": {},
     "output_type": "display_data"
    }
   ],
   "source": [
    "xgb.plot_importance(bt6, importance_type='gain')\n",
    "plt.savefig('IoTDetection-5Features')\n",
    "plt.show()"
   ]
  },
  {
   "cell_type": "code",
   "execution_count": null,
   "metadata": {
    "collapsed": true
   },
   "outputs": [],
   "source": []
  }
 ],
 "metadata": {
  "kernelspec": {
   "display_name": "Python 3",
   "language": "python",
   "name": "python3"
  },
  "language_info": {
   "codemirror_mode": {
    "name": "ipython",
    "version": 3
   },
   "file_extension": ".py",
   "mimetype": "text/x-python",
   "name": "python",
   "nbconvert_exporter": "python",
   "pygments_lexer": "ipython3",
   "version": "3.6.3"
  }
 },
 "nbformat": 4,
 "nbformat_minor": 2
}
